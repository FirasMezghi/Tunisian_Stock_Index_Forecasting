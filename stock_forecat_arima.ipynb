{
  "nbformat": 4,
  "nbformat_minor": 0,
  "metadata": {
    "colab": {
      "name": "stock_forecat_arima",
      "provenance": []
    },
    "kernelspec": {
      "name": "python3",
      "display_name": "Python 3"
    },
    "language_info": {
      "name": "python"
    }
  },
  "cells": [
    {
      "cell_type": "markdown",
      "source": [
        "importing data"
      ],
      "metadata": {
        "id": "wLEfY7JXaLGT"
      }
    },
    {
      "cell_type": "code",
      "execution_count": 1,
      "metadata": {
        "colab": {
          "base_uri": "https://localhost:8080/",
          "height": 424
        },
        "id": "bLtZvD4S3e7B",
        "outputId": "dd7b96ae-592a-4f75-fff3-790de8a4f4c6"
      },
      "outputs": [
        {
          "output_type": "execute_result",
          "data": {
            "text/plain": [
              "            DATE TUNINDEX    INDSF    INDBQ     INDAS    INSFI    INDSC  \\\n",
              "0     02/01/2013  4621.99   3066.3  2749.78   8952.83  4704.01  3928.61   \n",
              "1     03/01/2013  4642.08  3070.24   2753.0   8990.21  4703.39  3947.45   \n",
              "2     04/01/2013  4654.33  3068.77  2753.48   8994.91  4668.97  3964.21   \n",
              "3     07/01/2013  4652.74  3070.87  2753.14   9015.93  4700.36  3968.93   \n",
              "4     08/01/2013  4634.63  3063.27  2746.39   8987.18  4690.59  3970.27   \n",
              "...          ...      ...      ...      ...       ...      ...      ...   \n",
              "1491  25/12/2018  7171.03  4900.45  4591.33  10365.92  5659.94  3079.94   \n",
              "1492  26/12/2018  7171.42   4911.0  4601.09  10457.11  5652.64  3072.55   \n",
              "1493  27/12/2018  7202.72  4932.18  4625.67   10314.5  5657.36  3064.85   \n",
              "1494  28/12/2018  7259.67  4965.97  4655.02  10462.86  5710.45  3073.92   \n",
              "1495  31/12/2018  7271.65  4962.52  4643.84  10692.08  5764.16  3062.36   \n",
              "\n",
              "        INDDI    INBCO    INAUE    INAAB    INDIN    INBMC    INDMB  \\\n",
              "0     5697.27  2663.43  2361.04   2720.7  1862.78  1308.69  2599.97   \n",
              "1     5703.18  2688.91  2454.99   2737.8   1892.5   1331.0  2596.29   \n",
              "2     5723.46  2724.14  2520.72  2767.65  1903.14  1334.89  2606.68   \n",
              "3     5724.95  2753.83  2502.98  2804.92  1870.27  1310.05  2603.49   \n",
              "4     5729.97   2721.8  2509.74  2764.15  1861.52  1302.84   2562.4   \n",
              "...       ...      ...      ...      ...      ...      ...      ...   \n",
              "1491  4782.21  7373.02  1742.67  9383.31  1391.12   682.87  3546.17   \n",
              "1492   4773.5  7343.66  1742.04   9349.3  1392.99   683.18  3510.96   \n",
              "1493  4760.85  7377.93  1746.13  9406.43  1398.69    683.2   3565.5   \n",
              "1494  4775.75   7455.1  1798.76  9477.02  1409.63   683.77  3609.65   \n",
              "1495  4760.21  7484.54  1826.76  9507.17  1417.15   685.53  3677.62   \n",
              "\n",
              "     TUNINDEX20    INPMP  \n",
              "0       1807.53      NaN  \n",
              "1        1817.9      NaN  \n",
              "2       1824.82      NaN  \n",
              "3       1827.85      NaN  \n",
              "4       1817.52      NaN  \n",
              "...         ...      ...  \n",
              "1491    3207.26  1991.77  \n",
              "1492     3206.1  1976.68  \n",
              "1493    3222.19  1962.89  \n",
              "1494    3249.43  2025.78  \n",
              "1495    3248.56  2042.56  \n",
              "\n",
              "[1496 rows x 16 columns]"
            ],
            "text/html": [
              "\n",
              "  <div id=\"df-da4643a5-eaaf-4ea2-8a76-59608de56d03\">\n",
              "    <div class=\"colab-df-container\">\n",
              "      <div>\n",
              "<style scoped>\n",
              "    .dataframe tbody tr th:only-of-type {\n",
              "        vertical-align: middle;\n",
              "    }\n",
              "\n",
              "    .dataframe tbody tr th {\n",
              "        vertical-align: top;\n",
              "    }\n",
              "\n",
              "    .dataframe thead th {\n",
              "        text-align: right;\n",
              "    }\n",
              "</style>\n",
              "<table border=\"1\" class=\"dataframe\">\n",
              "  <thead>\n",
              "    <tr style=\"text-align: right;\">\n",
              "      <th></th>\n",
              "      <th>DATE</th>\n",
              "      <th>TUNINDEX</th>\n",
              "      <th>INDSF</th>\n",
              "      <th>INDBQ</th>\n",
              "      <th>INDAS</th>\n",
              "      <th>INSFI</th>\n",
              "      <th>INDSC</th>\n",
              "      <th>INDDI</th>\n",
              "      <th>INBCO</th>\n",
              "      <th>INAUE</th>\n",
              "      <th>INAAB</th>\n",
              "      <th>INDIN</th>\n",
              "      <th>INBMC</th>\n",
              "      <th>INDMB</th>\n",
              "      <th>TUNINDEX20</th>\n",
              "      <th>INPMP</th>\n",
              "    </tr>\n",
              "  </thead>\n",
              "  <tbody>\n",
              "    <tr>\n",
              "      <th>0</th>\n",
              "      <td>02/01/2013</td>\n",
              "      <td>4621.99</td>\n",
              "      <td>3066.3</td>\n",
              "      <td>2749.78</td>\n",
              "      <td>8952.83</td>\n",
              "      <td>4704.01</td>\n",
              "      <td>3928.61</td>\n",
              "      <td>5697.27</td>\n",
              "      <td>2663.43</td>\n",
              "      <td>2361.04</td>\n",
              "      <td>2720.7</td>\n",
              "      <td>1862.78</td>\n",
              "      <td>1308.69</td>\n",
              "      <td>2599.97</td>\n",
              "      <td>1807.53</td>\n",
              "      <td>NaN</td>\n",
              "    </tr>\n",
              "    <tr>\n",
              "      <th>1</th>\n",
              "      <td>03/01/2013</td>\n",
              "      <td>4642.08</td>\n",
              "      <td>3070.24</td>\n",
              "      <td>2753.0</td>\n",
              "      <td>8990.21</td>\n",
              "      <td>4703.39</td>\n",
              "      <td>3947.45</td>\n",
              "      <td>5703.18</td>\n",
              "      <td>2688.91</td>\n",
              "      <td>2454.99</td>\n",
              "      <td>2737.8</td>\n",
              "      <td>1892.5</td>\n",
              "      <td>1331.0</td>\n",
              "      <td>2596.29</td>\n",
              "      <td>1817.9</td>\n",
              "      <td>NaN</td>\n",
              "    </tr>\n",
              "    <tr>\n",
              "      <th>2</th>\n",
              "      <td>04/01/2013</td>\n",
              "      <td>4654.33</td>\n",
              "      <td>3068.77</td>\n",
              "      <td>2753.48</td>\n",
              "      <td>8994.91</td>\n",
              "      <td>4668.97</td>\n",
              "      <td>3964.21</td>\n",
              "      <td>5723.46</td>\n",
              "      <td>2724.14</td>\n",
              "      <td>2520.72</td>\n",
              "      <td>2767.65</td>\n",
              "      <td>1903.14</td>\n",
              "      <td>1334.89</td>\n",
              "      <td>2606.68</td>\n",
              "      <td>1824.82</td>\n",
              "      <td>NaN</td>\n",
              "    </tr>\n",
              "    <tr>\n",
              "      <th>3</th>\n",
              "      <td>07/01/2013</td>\n",
              "      <td>4652.74</td>\n",
              "      <td>3070.87</td>\n",
              "      <td>2753.14</td>\n",
              "      <td>9015.93</td>\n",
              "      <td>4700.36</td>\n",
              "      <td>3968.93</td>\n",
              "      <td>5724.95</td>\n",
              "      <td>2753.83</td>\n",
              "      <td>2502.98</td>\n",
              "      <td>2804.92</td>\n",
              "      <td>1870.27</td>\n",
              "      <td>1310.05</td>\n",
              "      <td>2603.49</td>\n",
              "      <td>1827.85</td>\n",
              "      <td>NaN</td>\n",
              "    </tr>\n",
              "    <tr>\n",
              "      <th>4</th>\n",
              "      <td>08/01/2013</td>\n",
              "      <td>4634.63</td>\n",
              "      <td>3063.27</td>\n",
              "      <td>2746.39</td>\n",
              "      <td>8987.18</td>\n",
              "      <td>4690.59</td>\n",
              "      <td>3970.27</td>\n",
              "      <td>5729.97</td>\n",
              "      <td>2721.8</td>\n",
              "      <td>2509.74</td>\n",
              "      <td>2764.15</td>\n",
              "      <td>1861.52</td>\n",
              "      <td>1302.84</td>\n",
              "      <td>2562.4</td>\n",
              "      <td>1817.52</td>\n",
              "      <td>NaN</td>\n",
              "    </tr>\n",
              "    <tr>\n",
              "      <th>...</th>\n",
              "      <td>...</td>\n",
              "      <td>...</td>\n",
              "      <td>...</td>\n",
              "      <td>...</td>\n",
              "      <td>...</td>\n",
              "      <td>...</td>\n",
              "      <td>...</td>\n",
              "      <td>...</td>\n",
              "      <td>...</td>\n",
              "      <td>...</td>\n",
              "      <td>...</td>\n",
              "      <td>...</td>\n",
              "      <td>...</td>\n",
              "      <td>...</td>\n",
              "      <td>...</td>\n",
              "      <td>...</td>\n",
              "    </tr>\n",
              "    <tr>\n",
              "      <th>1491</th>\n",
              "      <td>25/12/2018</td>\n",
              "      <td>7171.03</td>\n",
              "      <td>4900.45</td>\n",
              "      <td>4591.33</td>\n",
              "      <td>10365.92</td>\n",
              "      <td>5659.94</td>\n",
              "      <td>3079.94</td>\n",
              "      <td>4782.21</td>\n",
              "      <td>7373.02</td>\n",
              "      <td>1742.67</td>\n",
              "      <td>9383.31</td>\n",
              "      <td>1391.12</td>\n",
              "      <td>682.87</td>\n",
              "      <td>3546.17</td>\n",
              "      <td>3207.26</td>\n",
              "      <td>1991.77</td>\n",
              "    </tr>\n",
              "    <tr>\n",
              "      <th>1492</th>\n",
              "      <td>26/12/2018</td>\n",
              "      <td>7171.42</td>\n",
              "      <td>4911.0</td>\n",
              "      <td>4601.09</td>\n",
              "      <td>10457.11</td>\n",
              "      <td>5652.64</td>\n",
              "      <td>3072.55</td>\n",
              "      <td>4773.5</td>\n",
              "      <td>7343.66</td>\n",
              "      <td>1742.04</td>\n",
              "      <td>9349.3</td>\n",
              "      <td>1392.99</td>\n",
              "      <td>683.18</td>\n",
              "      <td>3510.96</td>\n",
              "      <td>3206.1</td>\n",
              "      <td>1976.68</td>\n",
              "    </tr>\n",
              "    <tr>\n",
              "      <th>1493</th>\n",
              "      <td>27/12/2018</td>\n",
              "      <td>7202.72</td>\n",
              "      <td>4932.18</td>\n",
              "      <td>4625.67</td>\n",
              "      <td>10314.5</td>\n",
              "      <td>5657.36</td>\n",
              "      <td>3064.85</td>\n",
              "      <td>4760.85</td>\n",
              "      <td>7377.93</td>\n",
              "      <td>1746.13</td>\n",
              "      <td>9406.43</td>\n",
              "      <td>1398.69</td>\n",
              "      <td>683.2</td>\n",
              "      <td>3565.5</td>\n",
              "      <td>3222.19</td>\n",
              "      <td>1962.89</td>\n",
              "    </tr>\n",
              "    <tr>\n",
              "      <th>1494</th>\n",
              "      <td>28/12/2018</td>\n",
              "      <td>7259.67</td>\n",
              "      <td>4965.97</td>\n",
              "      <td>4655.02</td>\n",
              "      <td>10462.86</td>\n",
              "      <td>5710.45</td>\n",
              "      <td>3073.92</td>\n",
              "      <td>4775.75</td>\n",
              "      <td>7455.1</td>\n",
              "      <td>1798.76</td>\n",
              "      <td>9477.02</td>\n",
              "      <td>1409.63</td>\n",
              "      <td>683.77</td>\n",
              "      <td>3609.65</td>\n",
              "      <td>3249.43</td>\n",
              "      <td>2025.78</td>\n",
              "    </tr>\n",
              "    <tr>\n",
              "      <th>1495</th>\n",
              "      <td>31/12/2018</td>\n",
              "      <td>7271.65</td>\n",
              "      <td>4962.52</td>\n",
              "      <td>4643.84</td>\n",
              "      <td>10692.08</td>\n",
              "      <td>5764.16</td>\n",
              "      <td>3062.36</td>\n",
              "      <td>4760.21</td>\n",
              "      <td>7484.54</td>\n",
              "      <td>1826.76</td>\n",
              "      <td>9507.17</td>\n",
              "      <td>1417.15</td>\n",
              "      <td>685.53</td>\n",
              "      <td>3677.62</td>\n",
              "      <td>3248.56</td>\n",
              "      <td>2042.56</td>\n",
              "    </tr>\n",
              "  </tbody>\n",
              "</table>\n",
              "<p>1496 rows × 16 columns</p>\n",
              "</div>\n",
              "      <button class=\"colab-df-convert\" onclick=\"convertToInteractive('df-da4643a5-eaaf-4ea2-8a76-59608de56d03')\"\n",
              "              title=\"Convert this dataframe to an interactive table.\"\n",
              "              style=\"display:none;\">\n",
              "        \n",
              "  <svg xmlns=\"http://www.w3.org/2000/svg\" height=\"24px\"viewBox=\"0 0 24 24\"\n",
              "       width=\"24px\">\n",
              "    <path d=\"M0 0h24v24H0V0z\" fill=\"none\"/>\n",
              "    <path d=\"M18.56 5.44l.94 2.06.94-2.06 2.06-.94-2.06-.94-.94-2.06-.94 2.06-2.06.94zm-11 1L8.5 8.5l.94-2.06 2.06-.94-2.06-.94L8.5 2.5l-.94 2.06-2.06.94zm10 10l.94 2.06.94-2.06 2.06-.94-2.06-.94-.94-2.06-.94 2.06-2.06.94z\"/><path d=\"M17.41 7.96l-1.37-1.37c-.4-.4-.92-.59-1.43-.59-.52 0-1.04.2-1.43.59L10.3 9.45l-7.72 7.72c-.78.78-.78 2.05 0 2.83L4 21.41c.39.39.9.59 1.41.59.51 0 1.02-.2 1.41-.59l7.78-7.78 2.81-2.81c.8-.78.8-2.07 0-2.86zM5.41 20L4 18.59l7.72-7.72 1.47 1.35L5.41 20z\"/>\n",
              "  </svg>\n",
              "      </button>\n",
              "      \n",
              "  <style>\n",
              "    .colab-df-container {\n",
              "      display:flex;\n",
              "      flex-wrap:wrap;\n",
              "      gap: 12px;\n",
              "    }\n",
              "\n",
              "    .colab-df-convert {\n",
              "      background-color: #E8F0FE;\n",
              "      border: none;\n",
              "      border-radius: 50%;\n",
              "      cursor: pointer;\n",
              "      display: none;\n",
              "      fill: #1967D2;\n",
              "      height: 32px;\n",
              "      padding: 0 0 0 0;\n",
              "      width: 32px;\n",
              "    }\n",
              "\n",
              "    .colab-df-convert:hover {\n",
              "      background-color: #E2EBFA;\n",
              "      box-shadow: 0px 1px 2px rgba(60, 64, 67, 0.3), 0px 1px 3px 1px rgba(60, 64, 67, 0.15);\n",
              "      fill: #174EA6;\n",
              "    }\n",
              "\n",
              "    [theme=dark] .colab-df-convert {\n",
              "      background-color: #3B4455;\n",
              "      fill: #D2E3FC;\n",
              "    }\n",
              "\n",
              "    [theme=dark] .colab-df-convert:hover {\n",
              "      background-color: #434B5C;\n",
              "      box-shadow: 0px 1px 3px 1px rgba(0, 0, 0, 0.15);\n",
              "      filter: drop-shadow(0px 1px 2px rgba(0, 0, 0, 0.3));\n",
              "      fill: #FFFFFF;\n",
              "    }\n",
              "  </style>\n",
              "\n",
              "      <script>\n",
              "        const buttonEl =\n",
              "          document.querySelector('#df-da4643a5-eaaf-4ea2-8a76-59608de56d03 button.colab-df-convert');\n",
              "        buttonEl.style.display =\n",
              "          google.colab.kernel.accessAllowed ? 'block' : 'none';\n",
              "\n",
              "        async function convertToInteractive(key) {\n",
              "          const element = document.querySelector('#df-da4643a5-eaaf-4ea2-8a76-59608de56d03');\n",
              "          const dataTable =\n",
              "            await google.colab.kernel.invokeFunction('convertToInteractive',\n",
              "                                                     [key], {});\n",
              "          if (!dataTable) return;\n",
              "\n",
              "          const docLinkHtml = 'Like what you see? Visit the ' +\n",
              "            '<a target=\"_blank\" href=https://colab.research.google.com/notebooks/data_table.ipynb>data table notebook</a>'\n",
              "            + ' to learn more about interactive tables.';\n",
              "          element.innerHTML = '';\n",
              "          dataTable['output_type'] = 'display_data';\n",
              "          await google.colab.output.renderOutput(dataTable, element);\n",
              "          const docLink = document.createElement('div');\n",
              "          docLink.innerHTML = docLinkHtml;\n",
              "          element.appendChild(docLink);\n",
              "        }\n",
              "      </script>\n",
              "    </div>\n",
              "  </div>\n",
              "  "
            ]
          },
          "metadata": {},
          "execution_count": 1
        }
      ],
      "source": [
        "import pandas as pd\n",
        "df=pd.read_csv('/content/drive/MyDrive/dataset ml/stock_tunisia/index_stock_tunisia.csv')\n",
        "df"
      ]
    },
    {
      "cell_type": "code",
      "source": [
        "df.info()"
      ],
      "metadata": {
        "colab": {
          "base_uri": "https://localhost:8080/"
        },
        "id": "YqpCTn7h2qVy",
        "outputId": "c33558bc-cd45-4336-ac7b-c2d9cd5e870a"
      },
      "execution_count": 2,
      "outputs": [
        {
          "output_type": "stream",
          "name": "stdout",
          "text": [
            "<class 'pandas.core.frame.DataFrame'>\n",
            "RangeIndex: 1496 entries, 0 to 1495\n",
            "Data columns (total 16 columns):\n",
            " #   Column      Non-Null Count  Dtype \n",
            "---  ------      --------------  ----- \n",
            " 0   DATE        1496 non-null   object\n",
            " 1   TUNINDEX    1496 non-null   object\n",
            " 2   INDSF       1496 non-null   object\n",
            " 3   INDBQ       1496 non-null   object\n",
            " 4   INDAS       1496 non-null   object\n",
            " 5   INSFI       1496 non-null   object\n",
            " 6   INDSC       1496 non-null   object\n",
            " 7   INDDI       1496 non-null   object\n",
            " 8   INBCO       1496 non-null   object\n",
            " 9   INAUE       1496 non-null   object\n",
            " 10  INAAB       1496 non-null   object\n",
            " 11  INDIN       1496 non-null   object\n",
            " 12  INBMC       1496 non-null   object\n",
            " 13  INDMB       1496 non-null   object\n",
            " 14  TUNINDEX20  1496 non-null   object\n",
            " 15  INPMP       1001 non-null   object\n",
            "dtypes: object(16)\n",
            "memory usage: 187.1+ KB\n"
          ]
        }
      ]
    },
    {
      "cell_type": "markdown",
      "source": [
        "data cleaning"
      ],
      "metadata": {
        "id": "dRxxE6x7aRme"
      }
    },
    {
      "cell_type": "code",
      "source": [
        "df.drop('INPMP',axis=1)"
      ],
      "metadata": {
        "colab": {
          "base_uri": "https://localhost:8080/",
          "height": 424
        },
        "id": "I5UcpdYt0Vaj",
        "outputId": "677996a4-258c-4069-ea54-680f13359958"
      },
      "execution_count": 3,
      "outputs": [
        {
          "output_type": "execute_result",
          "data": {
            "text/plain": [
              "            DATE TUNINDEX    INDSF    INDBQ     INDAS    INSFI    INDSC  \\\n",
              "0     02/01/2013  4621.99   3066.3  2749.78   8952.83  4704.01  3928.61   \n",
              "1     03/01/2013  4642.08  3070.24   2753.0   8990.21  4703.39  3947.45   \n",
              "2     04/01/2013  4654.33  3068.77  2753.48   8994.91  4668.97  3964.21   \n",
              "3     07/01/2013  4652.74  3070.87  2753.14   9015.93  4700.36  3968.93   \n",
              "4     08/01/2013  4634.63  3063.27  2746.39   8987.18  4690.59  3970.27   \n",
              "...          ...      ...      ...      ...       ...      ...      ...   \n",
              "1491  25/12/2018  7171.03  4900.45  4591.33  10365.92  5659.94  3079.94   \n",
              "1492  26/12/2018  7171.42   4911.0  4601.09  10457.11  5652.64  3072.55   \n",
              "1493  27/12/2018  7202.72  4932.18  4625.67   10314.5  5657.36  3064.85   \n",
              "1494  28/12/2018  7259.67  4965.97  4655.02  10462.86  5710.45  3073.92   \n",
              "1495  31/12/2018  7271.65  4962.52  4643.84  10692.08  5764.16  3062.36   \n",
              "\n",
              "        INDDI    INBCO    INAUE    INAAB    INDIN    INBMC    INDMB TUNINDEX20  \n",
              "0     5697.27  2663.43  2361.04   2720.7  1862.78  1308.69  2599.97    1807.53  \n",
              "1     5703.18  2688.91  2454.99   2737.8   1892.5   1331.0  2596.29     1817.9  \n",
              "2     5723.46  2724.14  2520.72  2767.65  1903.14  1334.89  2606.68    1824.82  \n",
              "3     5724.95  2753.83  2502.98  2804.92  1870.27  1310.05  2603.49    1827.85  \n",
              "4     5729.97   2721.8  2509.74  2764.15  1861.52  1302.84   2562.4    1817.52  \n",
              "...       ...      ...      ...      ...      ...      ...      ...        ...  \n",
              "1491  4782.21  7373.02  1742.67  9383.31  1391.12   682.87  3546.17    3207.26  \n",
              "1492   4773.5  7343.66  1742.04   9349.3  1392.99   683.18  3510.96     3206.1  \n",
              "1493  4760.85  7377.93  1746.13  9406.43  1398.69    683.2   3565.5    3222.19  \n",
              "1494  4775.75   7455.1  1798.76  9477.02  1409.63   683.77  3609.65    3249.43  \n",
              "1495  4760.21  7484.54  1826.76  9507.17  1417.15   685.53  3677.62    3248.56  \n",
              "\n",
              "[1496 rows x 15 columns]"
            ],
            "text/html": [
              "\n",
              "  <div id=\"df-48ed6d5f-1a06-4e7c-af76-5b28e98cf709\">\n",
              "    <div class=\"colab-df-container\">\n",
              "      <div>\n",
              "<style scoped>\n",
              "    .dataframe tbody tr th:only-of-type {\n",
              "        vertical-align: middle;\n",
              "    }\n",
              "\n",
              "    .dataframe tbody tr th {\n",
              "        vertical-align: top;\n",
              "    }\n",
              "\n",
              "    .dataframe thead th {\n",
              "        text-align: right;\n",
              "    }\n",
              "</style>\n",
              "<table border=\"1\" class=\"dataframe\">\n",
              "  <thead>\n",
              "    <tr style=\"text-align: right;\">\n",
              "      <th></th>\n",
              "      <th>DATE</th>\n",
              "      <th>TUNINDEX</th>\n",
              "      <th>INDSF</th>\n",
              "      <th>INDBQ</th>\n",
              "      <th>INDAS</th>\n",
              "      <th>INSFI</th>\n",
              "      <th>INDSC</th>\n",
              "      <th>INDDI</th>\n",
              "      <th>INBCO</th>\n",
              "      <th>INAUE</th>\n",
              "      <th>INAAB</th>\n",
              "      <th>INDIN</th>\n",
              "      <th>INBMC</th>\n",
              "      <th>INDMB</th>\n",
              "      <th>TUNINDEX20</th>\n",
              "    </tr>\n",
              "  </thead>\n",
              "  <tbody>\n",
              "    <tr>\n",
              "      <th>0</th>\n",
              "      <td>02/01/2013</td>\n",
              "      <td>4621.99</td>\n",
              "      <td>3066.3</td>\n",
              "      <td>2749.78</td>\n",
              "      <td>8952.83</td>\n",
              "      <td>4704.01</td>\n",
              "      <td>3928.61</td>\n",
              "      <td>5697.27</td>\n",
              "      <td>2663.43</td>\n",
              "      <td>2361.04</td>\n",
              "      <td>2720.7</td>\n",
              "      <td>1862.78</td>\n",
              "      <td>1308.69</td>\n",
              "      <td>2599.97</td>\n",
              "      <td>1807.53</td>\n",
              "    </tr>\n",
              "    <tr>\n",
              "      <th>1</th>\n",
              "      <td>03/01/2013</td>\n",
              "      <td>4642.08</td>\n",
              "      <td>3070.24</td>\n",
              "      <td>2753.0</td>\n",
              "      <td>8990.21</td>\n",
              "      <td>4703.39</td>\n",
              "      <td>3947.45</td>\n",
              "      <td>5703.18</td>\n",
              "      <td>2688.91</td>\n",
              "      <td>2454.99</td>\n",
              "      <td>2737.8</td>\n",
              "      <td>1892.5</td>\n",
              "      <td>1331.0</td>\n",
              "      <td>2596.29</td>\n",
              "      <td>1817.9</td>\n",
              "    </tr>\n",
              "    <tr>\n",
              "      <th>2</th>\n",
              "      <td>04/01/2013</td>\n",
              "      <td>4654.33</td>\n",
              "      <td>3068.77</td>\n",
              "      <td>2753.48</td>\n",
              "      <td>8994.91</td>\n",
              "      <td>4668.97</td>\n",
              "      <td>3964.21</td>\n",
              "      <td>5723.46</td>\n",
              "      <td>2724.14</td>\n",
              "      <td>2520.72</td>\n",
              "      <td>2767.65</td>\n",
              "      <td>1903.14</td>\n",
              "      <td>1334.89</td>\n",
              "      <td>2606.68</td>\n",
              "      <td>1824.82</td>\n",
              "    </tr>\n",
              "    <tr>\n",
              "      <th>3</th>\n",
              "      <td>07/01/2013</td>\n",
              "      <td>4652.74</td>\n",
              "      <td>3070.87</td>\n",
              "      <td>2753.14</td>\n",
              "      <td>9015.93</td>\n",
              "      <td>4700.36</td>\n",
              "      <td>3968.93</td>\n",
              "      <td>5724.95</td>\n",
              "      <td>2753.83</td>\n",
              "      <td>2502.98</td>\n",
              "      <td>2804.92</td>\n",
              "      <td>1870.27</td>\n",
              "      <td>1310.05</td>\n",
              "      <td>2603.49</td>\n",
              "      <td>1827.85</td>\n",
              "    </tr>\n",
              "    <tr>\n",
              "      <th>4</th>\n",
              "      <td>08/01/2013</td>\n",
              "      <td>4634.63</td>\n",
              "      <td>3063.27</td>\n",
              "      <td>2746.39</td>\n",
              "      <td>8987.18</td>\n",
              "      <td>4690.59</td>\n",
              "      <td>3970.27</td>\n",
              "      <td>5729.97</td>\n",
              "      <td>2721.8</td>\n",
              "      <td>2509.74</td>\n",
              "      <td>2764.15</td>\n",
              "      <td>1861.52</td>\n",
              "      <td>1302.84</td>\n",
              "      <td>2562.4</td>\n",
              "      <td>1817.52</td>\n",
              "    </tr>\n",
              "    <tr>\n",
              "      <th>...</th>\n",
              "      <td>...</td>\n",
              "      <td>...</td>\n",
              "      <td>...</td>\n",
              "      <td>...</td>\n",
              "      <td>...</td>\n",
              "      <td>...</td>\n",
              "      <td>...</td>\n",
              "      <td>...</td>\n",
              "      <td>...</td>\n",
              "      <td>...</td>\n",
              "      <td>...</td>\n",
              "      <td>...</td>\n",
              "      <td>...</td>\n",
              "      <td>...</td>\n",
              "      <td>...</td>\n",
              "    </tr>\n",
              "    <tr>\n",
              "      <th>1491</th>\n",
              "      <td>25/12/2018</td>\n",
              "      <td>7171.03</td>\n",
              "      <td>4900.45</td>\n",
              "      <td>4591.33</td>\n",
              "      <td>10365.92</td>\n",
              "      <td>5659.94</td>\n",
              "      <td>3079.94</td>\n",
              "      <td>4782.21</td>\n",
              "      <td>7373.02</td>\n",
              "      <td>1742.67</td>\n",
              "      <td>9383.31</td>\n",
              "      <td>1391.12</td>\n",
              "      <td>682.87</td>\n",
              "      <td>3546.17</td>\n",
              "      <td>3207.26</td>\n",
              "    </tr>\n",
              "    <tr>\n",
              "      <th>1492</th>\n",
              "      <td>26/12/2018</td>\n",
              "      <td>7171.42</td>\n",
              "      <td>4911.0</td>\n",
              "      <td>4601.09</td>\n",
              "      <td>10457.11</td>\n",
              "      <td>5652.64</td>\n",
              "      <td>3072.55</td>\n",
              "      <td>4773.5</td>\n",
              "      <td>7343.66</td>\n",
              "      <td>1742.04</td>\n",
              "      <td>9349.3</td>\n",
              "      <td>1392.99</td>\n",
              "      <td>683.18</td>\n",
              "      <td>3510.96</td>\n",
              "      <td>3206.1</td>\n",
              "    </tr>\n",
              "    <tr>\n",
              "      <th>1493</th>\n",
              "      <td>27/12/2018</td>\n",
              "      <td>7202.72</td>\n",
              "      <td>4932.18</td>\n",
              "      <td>4625.67</td>\n",
              "      <td>10314.5</td>\n",
              "      <td>5657.36</td>\n",
              "      <td>3064.85</td>\n",
              "      <td>4760.85</td>\n",
              "      <td>7377.93</td>\n",
              "      <td>1746.13</td>\n",
              "      <td>9406.43</td>\n",
              "      <td>1398.69</td>\n",
              "      <td>683.2</td>\n",
              "      <td>3565.5</td>\n",
              "      <td>3222.19</td>\n",
              "    </tr>\n",
              "    <tr>\n",
              "      <th>1494</th>\n",
              "      <td>28/12/2018</td>\n",
              "      <td>7259.67</td>\n",
              "      <td>4965.97</td>\n",
              "      <td>4655.02</td>\n",
              "      <td>10462.86</td>\n",
              "      <td>5710.45</td>\n",
              "      <td>3073.92</td>\n",
              "      <td>4775.75</td>\n",
              "      <td>7455.1</td>\n",
              "      <td>1798.76</td>\n",
              "      <td>9477.02</td>\n",
              "      <td>1409.63</td>\n",
              "      <td>683.77</td>\n",
              "      <td>3609.65</td>\n",
              "      <td>3249.43</td>\n",
              "    </tr>\n",
              "    <tr>\n",
              "      <th>1495</th>\n",
              "      <td>31/12/2018</td>\n",
              "      <td>7271.65</td>\n",
              "      <td>4962.52</td>\n",
              "      <td>4643.84</td>\n",
              "      <td>10692.08</td>\n",
              "      <td>5764.16</td>\n",
              "      <td>3062.36</td>\n",
              "      <td>4760.21</td>\n",
              "      <td>7484.54</td>\n",
              "      <td>1826.76</td>\n",
              "      <td>9507.17</td>\n",
              "      <td>1417.15</td>\n",
              "      <td>685.53</td>\n",
              "      <td>3677.62</td>\n",
              "      <td>3248.56</td>\n",
              "    </tr>\n",
              "  </tbody>\n",
              "</table>\n",
              "<p>1496 rows × 15 columns</p>\n",
              "</div>\n",
              "      <button class=\"colab-df-convert\" onclick=\"convertToInteractive('df-48ed6d5f-1a06-4e7c-af76-5b28e98cf709')\"\n",
              "              title=\"Convert this dataframe to an interactive table.\"\n",
              "              style=\"display:none;\">\n",
              "        \n",
              "  <svg xmlns=\"http://www.w3.org/2000/svg\" height=\"24px\"viewBox=\"0 0 24 24\"\n",
              "       width=\"24px\">\n",
              "    <path d=\"M0 0h24v24H0V0z\" fill=\"none\"/>\n",
              "    <path d=\"M18.56 5.44l.94 2.06.94-2.06 2.06-.94-2.06-.94-.94-2.06-.94 2.06-2.06.94zm-11 1L8.5 8.5l.94-2.06 2.06-.94-2.06-.94L8.5 2.5l-.94 2.06-2.06.94zm10 10l.94 2.06.94-2.06 2.06-.94-2.06-.94-.94-2.06-.94 2.06-2.06.94z\"/><path d=\"M17.41 7.96l-1.37-1.37c-.4-.4-.92-.59-1.43-.59-.52 0-1.04.2-1.43.59L10.3 9.45l-7.72 7.72c-.78.78-.78 2.05 0 2.83L4 21.41c.39.39.9.59 1.41.59.51 0 1.02-.2 1.41-.59l7.78-7.78 2.81-2.81c.8-.78.8-2.07 0-2.86zM5.41 20L4 18.59l7.72-7.72 1.47 1.35L5.41 20z\"/>\n",
              "  </svg>\n",
              "      </button>\n",
              "      \n",
              "  <style>\n",
              "    .colab-df-container {\n",
              "      display:flex;\n",
              "      flex-wrap:wrap;\n",
              "      gap: 12px;\n",
              "    }\n",
              "\n",
              "    .colab-df-convert {\n",
              "      background-color: #E8F0FE;\n",
              "      border: none;\n",
              "      border-radius: 50%;\n",
              "      cursor: pointer;\n",
              "      display: none;\n",
              "      fill: #1967D2;\n",
              "      height: 32px;\n",
              "      padding: 0 0 0 0;\n",
              "      width: 32px;\n",
              "    }\n",
              "\n",
              "    .colab-df-convert:hover {\n",
              "      background-color: #E2EBFA;\n",
              "      box-shadow: 0px 1px 2px rgba(60, 64, 67, 0.3), 0px 1px 3px 1px rgba(60, 64, 67, 0.15);\n",
              "      fill: #174EA6;\n",
              "    }\n",
              "\n",
              "    [theme=dark] .colab-df-convert {\n",
              "      background-color: #3B4455;\n",
              "      fill: #D2E3FC;\n",
              "    }\n",
              "\n",
              "    [theme=dark] .colab-df-convert:hover {\n",
              "      background-color: #434B5C;\n",
              "      box-shadow: 0px 1px 3px 1px rgba(0, 0, 0, 0.15);\n",
              "      filter: drop-shadow(0px 1px 2px rgba(0, 0, 0, 0.3));\n",
              "      fill: #FFFFFF;\n",
              "    }\n",
              "  </style>\n",
              "\n",
              "      <script>\n",
              "        const buttonEl =\n",
              "          document.querySelector('#df-48ed6d5f-1a06-4e7c-af76-5b28e98cf709 button.colab-df-convert');\n",
              "        buttonEl.style.display =\n",
              "          google.colab.kernel.accessAllowed ? 'block' : 'none';\n",
              "\n",
              "        async function convertToInteractive(key) {\n",
              "          const element = document.querySelector('#df-48ed6d5f-1a06-4e7c-af76-5b28e98cf709');\n",
              "          const dataTable =\n",
              "            await google.colab.kernel.invokeFunction('convertToInteractive',\n",
              "                                                     [key], {});\n",
              "          if (!dataTable) return;\n",
              "\n",
              "          const docLinkHtml = 'Like what you see? Visit the ' +\n",
              "            '<a target=\"_blank\" href=https://colab.research.google.com/notebooks/data_table.ipynb>data table notebook</a>'\n",
              "            + ' to learn more about interactive tables.';\n",
              "          element.innerHTML = '';\n",
              "          dataTable['output_type'] = 'display_data';\n",
              "          await google.colab.output.renderOutput(dataTable, element);\n",
              "          const docLink = document.createElement('div');\n",
              "          docLink.innerHTML = docLinkHtml;\n",
              "          element.appendChild(docLink);\n",
              "        }\n",
              "      </script>\n",
              "    </div>\n",
              "  </div>\n",
              "  "
            ]
          },
          "metadata": {},
          "execution_count": 3
        }
      ]
    },
    {
      "cell_type": "code",
      "source": [
        "for i in df.columns[1:]:\n",
        "  df[i]=df[i].apply(lambda X : float(str(X).replace(',','.')) )\n",
        " \n"
      ],
      "metadata": {
        "id": "ZT4WP7oqzhWO"
      },
      "execution_count": 4,
      "outputs": []
    },
    {
      "cell_type": "markdown",
      "source": [
        "ploting data"
      ],
      "metadata": {
        "id": "yQgjXOjIaUdH"
      }
    },
    {
      "cell_type": "code",
      "source": [
        "import matplotlib.pyplot as plt\n",
        "df.TUNINDEX.plot()"
      ],
      "metadata": {
        "colab": {
          "base_uri": "https://localhost:8080/",
          "height": 282
        },
        "id": "ELvqbvGr3u42",
        "outputId": "00e3bff8-8dbf-468c-8792-c572d1028b2a"
      },
      "execution_count": 5,
      "outputs": [
        {
          "output_type": "execute_result",
          "data": {
            "text/plain": [
              "<matplotlib.axes._subplots.AxesSubplot at 0x7f51d02d8650>"
            ]
          },
          "metadata": {},
          "execution_count": 5
        },
        {
          "output_type": "display_data",
          "data": {
            "text/plain": [
              "<Figure size 432x288 with 1 Axes>"
            ],
            "image/png": "[encoded data removed]"
          },
          "metadata": {
            "needs_background": "light"
          }
        }
      ]
    },
    {
      "cell_type": "code",
      "source": [
        "fig = plt.figure(figsize=(20,15))\n",
        "df.drop('DATE',axis=1).plot()\n",
        "plt.show"
      ],
      "metadata": {
        "id": "UMDEboDP37US",
        "colab": {
          "base_uri": "https://localhost:8080/",
          "height": 300
        },
        "outputId": "6e9cd797-a09f-4ad9-abc2-82523ec7da9f"
      },
      "execution_count": 6,
      "outputs": [
        {
          "output_type": "execute_result",
          "data": {
            "text/plain": [
              "<function matplotlib.pyplot.show>"
            ]
          },
          "metadata": {},
          "execution_count": 6
        },
        {
          "output_type": "display_data",
          "data": {
            "text/plain": [
              "<Figure size 1440x1080 with 0 Axes>"
            ]
          },
          "metadata": {}
        },
        {
          "output_type": "display_data",
          "data": {
            "text/plain": [
              "<Figure size 432x288 with 1 Axes>"
            ],
            "image/png": "[encoded data removed]"
          },
          "metadata": {
            "needs_background": "light"
          }
        }
      ]
    },
    {
      "cell_type": "markdown",
      "source": [
        "create TUNINDEX time series"
      ],
      "metadata": {
        "id": "0Uvv-0H9aZ9-"
      }
    },
    {
      "cell_type": "code",
      "source": [
        "data=df[['DATE','TUNINDEX']]\n",
        "data.head()"
      ],
      "metadata": {
        "colab": {
          "base_uri": "https://localhost:8080/",
          "height": 206
        },
        "id": "0tn7t2cL2_dK",
        "outputId": "68b30715-fb2b-478d-b175-ea0ebb0d2053"
      },
      "execution_count": 45,
      "outputs": [
        {
          "output_type": "execute_result",
          "data": {
            "text/plain": [
              "         DATE  TUNINDEX\n",
              "0  02/01/2013   4621.99\n",
              "1  03/01/2013   4642.08\n",
              "2  04/01/2013   4654.33\n",
              "3  07/01/2013   4652.74\n",
              "4  08/01/2013   4634.63"
            ],
            "text/html": [
              "\n",
              "  <div id=\"df-81504a39-e18a-4607-92ca-b363dfbf795e\">\n",
              "    <div class=\"colab-df-container\">\n",
              "      <div>\n",
              "<style scoped>\n",
              "    .dataframe tbody tr th:only-of-type {\n",
              "        vertical-align: middle;\n",
              "    }\n",
              "\n",
              "    .dataframe tbody tr th {\n",
              "        vertical-align: top;\n",
              "    }\n",
              "\n",
              "    .dataframe thead th {\n",
              "        text-align: right;\n",
              "    }\n",
              "</style>\n",
              "<table border=\"1\" class=\"dataframe\">\n",
              "  <thead>\n",
              "    <tr style=\"text-align: right;\">\n",
              "      <th></th>\n",
              "      <th>DATE</th>\n",
              "      <th>TUNINDEX</th>\n",
              "    </tr>\n",
              "  </thead>\n",
              "  <tbody>\n",
              "    <tr>\n",
              "      <th>0</th>\n",
              "      <td>02/01/2013</td>\n",
              "      <td>4621.99</td>\n",
              "    </tr>\n",
              "    <tr>\n",
              "      <th>1</th>\n",
              "      <td>03/01/2013</td>\n",
              "      <td>4642.08</td>\n",
              "    </tr>\n",
              "    <tr>\n",
              "      <th>2</th>\n",
              "      <td>04/01/2013</td>\n",
              "      <td>4654.33</td>\n",
              "    </tr>\n",
              "    <tr>\n",
              "      <th>3</th>\n",
              "      <td>07/01/2013</td>\n",
              "      <td>4652.74</td>\n",
              "    </tr>\n",
              "    <tr>\n",
              "      <th>4</th>\n",
              "      <td>08/01/2013</td>\n",
              "      <td>4634.63</td>\n",
              "    </tr>\n",
              "  </tbody>\n",
              "</table>\n",
              "</div>\n",
              "      <button class=\"colab-df-convert\" onclick=\"convertToInteractive('df-81504a39-e18a-4607-92ca-b363dfbf795e')\"\n",
              "              title=\"Convert this dataframe to an interactive table.\"\n",
              "              style=\"display:none;\">\n",
              "        \n",
              "  <svg xmlns=\"http://www.w3.org/2000/svg\" height=\"24px\"viewBox=\"0 0 24 24\"\n",
              "       width=\"24px\">\n",
              "    <path d=\"M0 0h24v24H0V0z\" fill=\"none\"/>\n",
              "    <path d=\"M18.56 5.44l.94 2.06.94-2.06 2.06-.94-2.06-.94-.94-2.06-.94 2.06-2.06.94zm-11 1L8.5 8.5l.94-2.06 2.06-.94-2.06-.94L8.5 2.5l-.94 2.06-2.06.94zm10 10l.94 2.06.94-2.06 2.06-.94-2.06-.94-.94-2.06-.94 2.06-2.06.94z\"/><path d=\"M17.41 7.96l-1.37-1.37c-.4-.4-.92-.59-1.43-.59-.52 0-1.04.2-1.43.59L10.3 9.45l-7.72 7.72c-.78.78-.78 2.05 0 2.83L4 21.41c.39.39.9.59 1.41.59.51 0 1.02-.2 1.41-.59l7.78-7.78 2.81-2.81c.8-.78.8-2.07 0-2.86zM5.41 20L4 18.59l7.72-7.72 1.47 1.35L5.41 20z\"/>\n",
              "  </svg>\n",
              "      </button>\n",
              "      \n",
              "  <style>\n",
              "    .colab-df-container {\n",
              "      display:flex;\n",
              "      flex-wrap:wrap;\n",
              "      gap: 12px;\n",
              "    }\n",
              "\n",
              "    .colab-df-convert {\n",
              "      background-color: #E8F0FE;\n",
              "      border: none;\n",
              "      border-radius: 50%;\n",
              "      cursor: pointer;\n",
              "      display: none;\n",
              "      fill: #1967D2;\n",
              "      height: 32px;\n",
              "      padding: 0 0 0 0;\n",
              "      width: 32px;\n",
              "    }\n",
              "\n",
              "    .colab-df-convert:hover {\n",
              "      background-color: #E2EBFA;\n",
              "      box-shadow: 0px 1px 2px rgba(60, 64, 67, 0.3), 0px 1px 3px 1px rgba(60, 64, 67, 0.15);\n",
              "      fill: #174EA6;\n",
              "    }\n",
              "\n",
              "    [theme=dark] .colab-df-convert {\n",
              "      background-color: #3B4455;\n",
              "      fill: #D2E3FC;\n",
              "    }\n",
              "\n",
              "    [theme=dark] .colab-df-convert:hover {\n",
              "      background-color: #434B5C;\n",
              "      box-shadow: 0px 1px 3px 1px rgba(0, 0, 0, 0.15);\n",
              "      filter: drop-shadow(0px 1px 2px rgba(0, 0, 0, 0.3));\n",
              "      fill: #FFFFFF;\n",
              "    }\n",
              "  </style>\n",
              "\n",
              "      <script>\n",
              "        const buttonEl =\n",
              "          document.querySelector('#df-81504a39-e18a-4607-92ca-b363dfbf795e button.colab-df-convert');\n",
              "        buttonEl.style.display =\n",
              "          google.colab.kernel.accessAllowed ? 'block' : 'none';\n",
              "\n",
              "        async function convertToInteractive(key) {\n",
              "          const element = document.querySelector('#df-81504a39-e18a-4607-92ca-b363dfbf795e');\n",
              "          const dataTable =\n",
              "            await google.colab.kernel.invokeFunction('convertToInteractive',\n",
              "                                                     [key], {});\n",
              "          if (!dataTable) return;\n",
              "\n",
              "          const docLinkHtml = 'Like what you see? Visit the ' +\n",
              "            '<a target=\"_blank\" href=https://colab.research.google.com/notebooks/data_table.ipynb>data table notebook</a>'\n",
              "            + ' to learn more about interactive tables.';\n",
              "          element.innerHTML = '';\n",
              "          dataTable['output_type'] = 'display_data';\n",
              "          await google.colab.output.renderOutput(dataTable, element);\n",
              "          const docLink = document.createElement('div');\n",
              "          docLink.innerHTML = docLinkHtml;\n",
              "          element.appendChild(docLink);\n",
              "        }\n",
              "      </script>\n",
              "    </div>\n",
              "  </div>\n",
              "  "
            ]
          },
          "metadata": {},
          "execution_count": 45
        }
      ]
    },
    {
      "cell_type": "code",
      "source": [
        "data['DATE']=pd.to_datetime(data['DATE'])\n",
        "data.head()"
      ],
      "metadata": {
        "colab": {
          "base_uri": "https://localhost:8080/",
          "height": 310
        },
        "id": "rWYAXli95_qQ",
        "outputId": "0a87fca1-02bc-4053-be09-f565e441f569"
      },
      "execution_count": 46,
      "outputs": [
        {
          "output_type": "stream",
          "name": "stderr",
          "text": [
            "/usr/local/lib/python3.7/dist-packages/ipykernel_launcher.py:1: SettingWithCopyWarning: \n",
            "A value is trying to be set on a copy of a slice from a DataFrame.\n",
            "Try using .loc[row_indexer,col_indexer] = value instead\n",
            "\n",
            "See the caveats in the documentation: https://pandas.pydata.org/pandas-docs/stable/user_guide/indexing.html#returning-a-view-versus-a-copy\n",
            "  \"\"\"Entry point for launching an IPython kernel.\n"
          ]
        },
        {
          "output_type": "execute_result",
          "data": {
            "text/plain": [
              "        DATE  TUNINDEX\n",
              "0 2013-02-01   4621.99\n",
              "1 2013-03-01   4642.08\n",
              "2 2013-04-01   4654.33\n",
              "3 2013-07-01   4652.74\n",
              "4 2013-08-01   4634.63"
            ],
            "text/html": [
              "\n",
              "  <div id=\"df-663ae475-2ecf-4d89-8136-78ff9700a85e\">\n",
              "    <div class=\"colab-df-container\">\n",
              "      <div>\n",
              "<style scoped>\n",
              "    .dataframe tbody tr th:only-of-type {\n",
              "        vertical-align: middle;\n",
              "    }\n",
              "\n",
              "    .dataframe tbody tr th {\n",
              "        vertical-align: top;\n",
              "    }\n",
              "\n",
              "    .dataframe thead th {\n",
              "        text-align: right;\n",
              "    }\n",
              "</style>\n",
              "<table border=\"1\" class=\"dataframe\">\n",
              "  <thead>\n",
              "    <tr style=\"text-align: right;\">\n",
              "      <th></th>\n",
              "      <th>DATE</th>\n",
              "      <th>TUNINDEX</th>\n",
              "    </tr>\n",
              "  </thead>\n",
              "  <tbody>\n",
              "    <tr>\n",
              "      <th>0</th>\n",
              "      <td>2013-02-01</td>\n",
              "      <td>4621.99</td>\n",
              "    </tr>\n",
              "    <tr>\n",
              "      <th>1</th>\n",
              "      <td>2013-03-01</td>\n",
              "      <td>4642.08</td>\n",
              "    </tr>\n",
              "    <tr>\n",
              "      <th>2</th>\n",
              "      <td>2013-04-01</td>\n",
              "      <td>4654.33</td>\n",
              "    </tr>\n",
              "    <tr>\n",
              "      <th>3</th>\n",
              "      <td>2013-07-01</td>\n",
              "      <td>4652.74</td>\n",
              "    </tr>\n",
              "    <tr>\n",
              "      <th>4</th>\n",
              "      <td>2013-08-01</td>\n",
              "      <td>4634.63</td>\n",
              "    </tr>\n",
              "  </tbody>\n",
              "</table>\n",
              "</div>\n",
              "      <button class=\"colab-df-convert\" onclick=\"convertToInteractive('df-663ae475-2ecf-4d89-8136-78ff9700a85e')\"\n",
              "              title=\"Convert this dataframe to an interactive table.\"\n",
              "              style=\"display:none;\">\n",
              "        \n",
              "  <svg xmlns=\"http://www.w3.org/2000/svg\" height=\"24px\"viewBox=\"0 0 24 24\"\n",
              "       width=\"24px\">\n",
              "    <path d=\"M0 0h24v24H0V0z\" fill=\"none\"/>\n",
              "    <path d=\"M18.56 5.44l.94 2.06.94-2.06 2.06-.94-2.06-.94-.94-2.06-.94 2.06-2.06.94zm-11 1L8.5 8.5l.94-2.06 2.06-.94-2.06-.94L8.5 2.5l-.94 2.06-2.06.94zm10 10l.94 2.06.94-2.06 2.06-.94-2.06-.94-.94-2.06-.94 2.06-2.06.94z\"/><path d=\"M17.41 7.96l-1.37-1.37c-.4-.4-.92-.59-1.43-.59-.52 0-1.04.2-1.43.59L10.3 9.45l-7.72 7.72c-.78.78-.78 2.05 0 2.83L4 21.41c.39.39.9.59 1.41.59.51 0 1.02-.2 1.41-.59l7.78-7.78 2.81-2.81c.8-.78.8-2.07 0-2.86zM5.41 20L4 18.59l7.72-7.72 1.47 1.35L5.41 20z\"/>\n",
              "  </svg>\n",
              "      </button>\n",
              "      \n",
              "  <style>\n",
              "    .colab-df-container {\n",
              "      display:flex;\n",
              "      flex-wrap:wrap;\n",
              "      gap: 12px;\n",
              "    }\n",
              "\n",
              "    .colab-df-convert {\n",
              "      background-color: #E8F0FE;\n",
              "      border: none;\n",
              "      border-radius: 50%;\n",
              "      cursor: pointer;\n",
              "      display: none;\n",
              "      fill: #1967D2;\n",
              "      height: 32px;\n",
              "      padding: 0 0 0 0;\n",
              "      width: 32px;\n",
              "    }\n",
              "\n",
              "    .colab-df-convert:hover {\n",
              "      background-color: #E2EBFA;\n",
              "      box-shadow: 0px 1px 2px rgba(60, 64, 67, 0.3), 0px 1px 3px 1px rgba(60, 64, 67, 0.15);\n",
              "      fill: #174EA6;\n",
              "    }\n",
              "\n",
              "    [theme=dark] .colab-df-convert {\n",
              "      background-color: #3B4455;\n",
              "      fill: #D2E3FC;\n",
              "    }\n",
              "\n",
              "    [theme=dark] .colab-df-convert:hover {\n",
              "      background-color: #434B5C;\n",
              "      box-shadow: 0px 1px 3px 1px rgba(0, 0, 0, 0.15);\n",
              "      filter: drop-shadow(0px 1px 2px rgba(0, 0, 0, 0.3));\n",
              "      fill: #FFFFFF;\n",
              "    }\n",
              "  </style>\n",
              "\n",
              "      <script>\n",
              "        const buttonEl =\n",
              "          document.querySelector('#df-663ae475-2ecf-4d89-8136-78ff9700a85e button.colab-df-convert');\n",
              "        buttonEl.style.display =\n",
              "          google.colab.kernel.accessAllowed ? 'block' : 'none';\n",
              "\n",
              "        async function convertToInteractive(key) {\n",
              "          const element = document.querySelector('#df-663ae475-2ecf-4d89-8136-78ff9700a85e');\n",
              "          const dataTable =\n",
              "            await google.colab.kernel.invokeFunction('convertToInteractive',\n",
              "                                                     [key], {});\n",
              "          if (!dataTable) return;\n",
              "\n",
              "          const docLinkHtml = 'Like what you see? Visit the ' +\n",
              "            '<a target=\"_blank\" href=https://colab.research.google.com/notebooks/data_table.ipynb>data table notebook</a>'\n",
              "            + ' to learn more about interactive tables.';\n",
              "          element.innerHTML = '';\n",
              "          dataTable['output_type'] = 'display_data';\n",
              "          await google.colab.output.renderOutput(dataTable, element);\n",
              "          const docLink = document.createElement('div');\n",
              "          docLink.innerHTML = docLinkHtml;\n",
              "          element.appendChild(docLink);\n",
              "        }\n",
              "      </script>\n",
              "    </div>\n",
              "  </div>\n",
              "  "
            ]
          },
          "metadata": {},
          "execution_count": 46
        }
      ]
    },
    {
      "cell_type": "code",
      "source": [
        "data.info()"
      ],
      "metadata": {
        "colab": {
          "base_uri": "https://localhost:8080/"
        },
        "id": "vIifsiST6gg8",
        "outputId": "98ea7f48-8c17-4b96-acdb-6d6f24b76039"
      },
      "execution_count": 47,
      "outputs": [
        {
          "output_type": "stream",
          "name": "stdout",
          "text": [
            "<class 'pandas.core.frame.DataFrame'>\n",
            "RangeIndex: 1496 entries, 0 to 1495\n",
            "Data columns (total 2 columns):\n",
            " #   Column    Non-Null Count  Dtype         \n",
            "---  ------    --------------  -----         \n",
            " 0   DATE      1496 non-null   datetime64[ns]\n",
            " 1   TUNINDEX  1496 non-null   float64       \n",
            "dtypes: datetime64[ns](1), float64(1)\n",
            "memory usage: 23.5 KB\n"
          ]
        }
      ]
    },
    {
      "cell_type": "code",
      "source": [
        "data.set_index('DATE',inplace=True)"
      ],
      "metadata": {
        "id": "TwS2uAi06j9i"
      },
      "execution_count": 50,
      "outputs": []
    },
    {
      "cell_type": "code",
      "source": [
        "data"
      ],
      "metadata": {
        "colab": {
          "base_uri": "https://localhost:8080/",
          "height": 455
        },
        "id": "KjSTg6rt6uX8",
        "outputId": "f4ca2ebf-2424-48ea-b88e-77e4376bad1d"
      },
      "execution_count": 51,
      "outputs": [
        {
          "output_type": "execute_result",
          "data": {
            "text/plain": [
              "            TUNINDEX\n",
              "DATE                \n",
              "2013-02-01   4621.99\n",
              "2013-03-01   4642.08\n",
              "2013-04-01   4654.33\n",
              "2013-07-01   4652.74\n",
              "2013-08-01   4634.63\n",
              "...              ...\n",
              "2018-12-25   7171.03\n",
              "2018-12-26   7171.42\n",
              "2018-12-27   7202.72\n",
              "2018-12-28   7259.67\n",
              "2018-12-31   7271.65\n",
              "\n",
              "[1496 rows x 1 columns]"
            ],
            "text/html": [
              "\n",
              "  <div id=\"df-a4f1184e-41dc-4c45-9ccb-2ea62587ac45\">\n",
              "    <div class=\"colab-df-container\">\n",
              "      <div>\n",
              "<style scoped>\n",
              "    .dataframe tbody tr th:only-of-type {\n",
              "        vertical-align: middle;\n",
              "    }\n",
              "\n",
              "    .dataframe tbody tr th {\n",
              "        vertical-align: top;\n",
              "    }\n",
              "\n",
              "    .dataframe thead th {\n",
              "        text-align: right;\n",
              "    }\n",
              "</style>\n",
              "<table border=\"1\" class=\"dataframe\">\n",
              "  <thead>\n",
              "    <tr style=\"text-align: right;\">\n",
              "      <th></th>\n",
              "      <th>TUNINDEX</th>\n",
              "    </tr>\n",
              "    <tr>\n",
              "      <th>DATE</th>\n",
              "      <th></th>\n",
              "    </tr>\n",
              "  </thead>\n",
              "  <tbody>\n",
              "    <tr>\n",
              "      <th>2013-02-01</th>\n",
              "      <td>4621.99</td>\n",
              "    </tr>\n",
              "    <tr>\n",
              "      <th>2013-03-01</th>\n",
              "      <td>4642.08</td>\n",
              "    </tr>\n",
              "    <tr>\n",
              "      <th>2013-04-01</th>\n",
              "      <td>4654.33</td>\n",
              "    </tr>\n",
              "    <tr>\n",
              "      <th>2013-07-01</th>\n",
              "      <td>4652.74</td>\n",
              "    </tr>\n",
              "    <tr>\n",
              "      <th>2013-08-01</th>\n",
              "      <td>4634.63</td>\n",
              "    </tr>\n",
              "    <tr>\n",
              "      <th>...</th>\n",
              "      <td>...</td>\n",
              "    </tr>\n",
              "    <tr>\n",
              "      <th>2018-12-25</th>\n",
              "      <td>7171.03</td>\n",
              "    </tr>\n",
              "    <tr>\n",
              "      <th>2018-12-26</th>\n",
              "      <td>7171.42</td>\n",
              "    </tr>\n",
              "    <tr>\n",
              "      <th>2018-12-27</th>\n",
              "      <td>7202.72</td>\n",
              "    </tr>\n",
              "    <tr>\n",
              "      <th>2018-12-28</th>\n",
              "      <td>7259.67</td>\n",
              "    </tr>\n",
              "    <tr>\n",
              "      <th>2018-12-31</th>\n",
              "      <td>7271.65</td>\n",
              "    </tr>\n",
              "  </tbody>\n",
              "</table>\n",
              "<p>1496 rows × 1 columns</p>\n",
              "</div>\n",
              "      <button class=\"colab-df-convert\" onclick=\"convertToInteractive('df-a4f1184e-41dc-4c45-9ccb-2ea62587ac45')\"\n",
              "              title=\"Convert this dataframe to an interactive table.\"\n",
              "              style=\"display:none;\">\n",
              "        \n",
              "  <svg xmlns=\"http://www.w3.org/2000/svg\" height=\"24px\"viewBox=\"0 0 24 24\"\n",
              "       width=\"24px\">\n",
              "    <path d=\"M0 0h24v24H0V0z\" fill=\"none\"/>\n",
              "    <path d=\"M18.56 5.44l.94 2.06.94-2.06 2.06-.94-2.06-.94-.94-2.06-.94 2.06-2.06.94zm-11 1L8.5 8.5l.94-2.06 2.06-.94-2.06-.94L8.5 2.5l-.94 2.06-2.06.94zm10 10l.94 2.06.94-2.06 2.06-.94-2.06-.94-.94-2.06-.94 2.06-2.06.94z\"/><path d=\"M17.41 7.96l-1.37-1.37c-.4-.4-.92-.59-1.43-.59-.52 0-1.04.2-1.43.59L10.3 9.45l-7.72 7.72c-.78.78-.78 2.05 0 2.83L4 21.41c.39.39.9.59 1.41.59.51 0 1.02-.2 1.41-.59l7.78-7.78 2.81-2.81c.8-.78.8-2.07 0-2.86zM5.41 20L4 18.59l7.72-7.72 1.47 1.35L5.41 20z\"/>\n",
              "  </svg>\n",
              "      </button>\n",
              "      \n",
              "  <style>\n",
              "    .colab-df-container {\n",
              "      display:flex;\n",
              "      flex-wrap:wrap;\n",
              "      gap: 12px;\n",
              "    }\n",
              "\n",
              "    .colab-df-convert {\n",
              "      background-color: #E8F0FE;\n",
              "      border: none;\n",
              "      border-radius: 50%;\n",
              "      cursor: pointer;\n",
              "      display: none;\n",
              "      fill: #1967D2;\n",
              "      height: 32px;\n",
              "      padding: 0 0 0 0;\n",
              "      width: 32px;\n",
              "    }\n",
              "\n",
              "    .colab-df-convert:hover {\n",
              "      background-color: #E2EBFA;\n",
              "      box-shadow: 0px 1px 2px rgba(60, 64, 67, 0.3), 0px 1px 3px 1px rgba(60, 64, 67, 0.15);\n",
              "      fill: #174EA6;\n",
              "    }\n",
              "\n",
              "    [theme=dark] .colab-df-convert {\n",
              "      background-color: #3B4455;\n",
              "      fill: #D2E3FC;\n",
              "    }\n",
              "\n",
              "    [theme=dark] .colab-df-convert:hover {\n",
              "      background-color: #434B5C;\n",
              "      box-shadow: 0px 1px 3px 1px rgba(0, 0, 0, 0.15);\n",
              "      filter: drop-shadow(0px 1px 2px rgba(0, 0, 0, 0.3));\n",
              "      fill: #FFFFFF;\n",
              "    }\n",
              "  </style>\n",
              "\n",
              "      <script>\n",
              "        const buttonEl =\n",
              "          document.querySelector('#df-a4f1184e-41dc-4c45-9ccb-2ea62587ac45 button.colab-df-convert');\n",
              "        buttonEl.style.display =\n",
              "          google.colab.kernel.accessAllowed ? 'block' : 'none';\n",
              "\n",
              "        async function convertToInteractive(key) {\n",
              "          const element = document.querySelector('#df-a4f1184e-41dc-4c45-9ccb-2ea62587ac45');\n",
              "          const dataTable =\n",
              "            await google.colab.kernel.invokeFunction('convertToInteractive',\n",
              "                                                     [key], {});\n",
              "          if (!dataTable) return;\n",
              "\n",
              "          const docLinkHtml = 'Like what you see? Visit the ' +\n",
              "            '<a target=\"_blank\" href=https://colab.research.google.com/notebooks/data_table.ipynb>data table notebook</a>'\n",
              "            + ' to learn more about interactive tables.';\n",
              "          element.innerHTML = '';\n",
              "          dataTable['output_type'] = 'display_data';\n",
              "          await google.colab.output.renderOutput(dataTable, element);\n",
              "          const docLink = document.createElement('div');\n",
              "          docLink.innerHTML = docLinkHtml;\n",
              "          element.appendChild(docLink);\n",
              "        }\n",
              "      </script>\n",
              "    </div>\n",
              "  </div>\n",
              "  "
            ]
          },
          "metadata": {},
          "execution_count": 51
        }
      ]
    },
    {
      "cell_type": "code",
      "source": [
        "data.describe()"
      ],
      "metadata": {
        "colab": {
          "base_uri": "https://localhost:8080/",
          "height": 300
        },
        "id": "jhB593QV6y5c",
        "outputId": "5fe68b4c-de15-4d8f-c101-b22c84954652"
      },
      "execution_count": 12,
      "outputs": [
        {
          "output_type": "execute_result",
          "data": {
            "text/plain": [
              "          TUNINDEX\n",
              "count  1496.000000\n",
              "mean   5551.538750\n",
              "std     986.776866\n",
              "min    4337.670000\n",
              "25%    4665.945000\n",
              "50%    5403.785000\n",
              "75%    6077.510000\n",
              "max    8431.640000"
            ],
            "text/html": [
              "\n",
              "  <div id=\"df-ceaa8cc0-346a-4639-ba16-c5839c93c7be\">\n",
              "    <div class=\"colab-df-container\">\n",
              "      <div>\n",
              "<style scoped>\n",
              "    .dataframe tbody tr th:only-of-type {\n",
              "        vertical-align: middle;\n",
              "    }\n",
              "\n",
              "    .dataframe tbody tr th {\n",
              "        vertical-align: top;\n",
              "    }\n",
              "\n",
              "    .dataframe thead th {\n",
              "        text-align: right;\n",
              "    }\n",
              "</style>\n",
              "<table border=\"1\" class=\"dataframe\">\n",
              "  <thead>\n",
              "    <tr style=\"text-align: right;\">\n",
              "      <th></th>\n",
              "      <th>TUNINDEX</th>\n",
              "    </tr>\n",
              "  </thead>\n",
              "  <tbody>\n",
              "    <tr>\n",
              "      <th>count</th>\n",
              "      <td>1496.000000</td>\n",
              "    </tr>\n",
              "    <tr>\n",
              "      <th>mean</th>\n",
              "      <td>5551.538750</td>\n",
              "    </tr>\n",
              "    <tr>\n",
              "      <th>std</th>\n",
              "      <td>986.776866</td>\n",
              "    </tr>\n",
              "    <tr>\n",
              "      <th>min</th>\n",
              "      <td>4337.670000</td>\n",
              "    </tr>\n",
              "    <tr>\n",
              "      <th>25%</th>\n",
              "      <td>4665.945000</td>\n",
              "    </tr>\n",
              "    <tr>\n",
              "      <th>50%</th>\n",
              "      <td>5403.785000</td>\n",
              "    </tr>\n",
              "    <tr>\n",
              "      <th>75%</th>\n",
              "      <td>6077.510000</td>\n",
              "    </tr>\n",
              "    <tr>\n",
              "      <th>max</th>\n",
              "      <td>8431.640000</td>\n",
              "    </tr>\n",
              "  </tbody>\n",
              "</table>\n",
              "</div>\n",
              "      <button class=\"colab-df-convert\" onclick=\"convertToInteractive('df-ceaa8cc0-346a-4639-ba16-c5839c93c7be')\"\n",
              "              title=\"Convert this dataframe to an interactive table.\"\n",
              "              style=\"display:none;\">\n",
              "        \n",
              "  <svg xmlns=\"http://www.w3.org/2000/svg\" height=\"24px\"viewBox=\"0 0 24 24\"\n",
              "       width=\"24px\">\n",
              "    <path d=\"M0 0h24v24H0V0z\" fill=\"none\"/>\n",
              "    <path d=\"M18.56 5.44l.94 2.06.94-2.06 2.06-.94-2.06-.94-.94-2.06-.94 2.06-2.06.94zm-11 1L8.5 8.5l.94-2.06 2.06-.94-2.06-.94L8.5 2.5l-.94 2.06-2.06.94zm10 10l.94 2.06.94-2.06 2.06-.94-2.06-.94-.94-2.06-.94 2.06-2.06.94z\"/><path d=\"M17.41 7.96l-1.37-1.37c-.4-.4-.92-.59-1.43-.59-.52 0-1.04.2-1.43.59L10.3 9.45l-7.72 7.72c-.78.78-.78 2.05 0 2.83L4 21.41c.39.39.9.59 1.41.59.51 0 1.02-.2 1.41-.59l7.78-7.78 2.81-2.81c.8-.78.8-2.07 0-2.86zM5.41 20L4 18.59l7.72-7.72 1.47 1.35L5.41 20z\"/>\n",
              "  </svg>\n",
              "      </button>\n",
              "      \n",
              "  <style>\n",
              "    .colab-df-container {\n",
              "      display:flex;\n",
              "      flex-wrap:wrap;\n",
              "      gap: 12px;\n",
              "    }\n",
              "\n",
              "    .colab-df-convert {\n",
              "      background-color: #E8F0FE;\n",
              "      border: none;\n",
              "      border-radius: 50%;\n",
              "      cursor: pointer;\n",
              "      display: none;\n",
              "      fill: #1967D2;\n",
              "      height: 32px;\n",
              "      padding: 0 0 0 0;\n",
              "      width: 32px;\n",
              "    }\n",
              "\n",
              "    .colab-df-convert:hover {\n",
              "      background-color: #E2EBFA;\n",
              "      box-shadow: 0px 1px 2px rgba(60, 64, 67, 0.3), 0px 1px 3px 1px rgba(60, 64, 67, 0.15);\n",
              "      fill: #174EA6;\n",
              "    }\n",
              "\n",
              "    [theme=dark] .colab-df-convert {\n",
              "      background-color: #3B4455;\n",
              "      fill: #D2E3FC;\n",
              "    }\n",
              "\n",
              "    [theme=dark] .colab-df-convert:hover {\n",
              "      background-color: #434B5C;\n",
              "      box-shadow: 0px 1px 3px 1px rgba(0, 0, 0, 0.15);\n",
              "      filter: drop-shadow(0px 1px 2px rgba(0, 0, 0, 0.3));\n",
              "      fill: #FFFFFF;\n",
              "    }\n",
              "  </style>\n",
              "\n",
              "      <script>\n",
              "        const buttonEl =\n",
              "          document.querySelector('#df-ceaa8cc0-346a-4639-ba16-c5839c93c7be button.colab-df-convert');\n",
              "        buttonEl.style.display =\n",
              "          google.colab.kernel.accessAllowed ? 'block' : 'none';\n",
              "\n",
              "        async function convertToInteractive(key) {\n",
              "          const element = document.querySelector('#df-ceaa8cc0-346a-4639-ba16-c5839c93c7be');\n",
              "          const dataTable =\n",
              "            await google.colab.kernel.invokeFunction('convertToInteractive',\n",
              "                                                     [key], {});\n",
              "          if (!dataTable) return;\n",
              "\n",
              "          const docLinkHtml = 'Like what you see? Visit the ' +\n",
              "            '<a target=\"_blank\" href=https://colab.research.google.com/notebooks/data_table.ipynb>data table notebook</a>'\n",
              "            + ' to learn more about interactive tables.';\n",
              "          element.innerHTML = '';\n",
              "          dataTable['output_type'] = 'display_data';\n",
              "          await google.colab.output.renderOutput(dataTable, element);\n",
              "          const docLink = document.createElement('div');\n",
              "          docLink.innerHTML = docLinkHtml;\n",
              "          element.appendChild(docLink);\n",
              "        }\n",
              "      </script>\n",
              "    </div>\n",
              "  </div>\n",
              "  "
            ]
          },
          "metadata": {},
          "execution_count": 12
        }
      ]
    },
    {
      "cell_type": "code",
      "source": [
        "data.plot(figsize=(8,5))"
      ],
      "metadata": {
        "colab": {
          "base_uri": "https://localhost:8080/",
          "height": 335
        },
        "id": "n4Wt3DnF64YV",
        "outputId": "e3ed32cd-ddd4-43c6-bad1-a059b3b7b4ad"
      },
      "execution_count": 52,
      "outputs": [
        {
          "output_type": "execute_result",
          "data": {
            "text/plain": [
              "<matplotlib.axes._subplots.AxesSubplot at 0x7f51ad2c7c90>"
            ]
          },
          "metadata": {},
          "execution_count": 52
        },
        {
          "output_type": "display_data",
          "data": {
            "text/plain": [
              "<Figure size 576x360 with 1 Axes>"
            ],
            "image/png": "[encoded data removed]"
          },
          "metadata": {
            "needs_background": "light"
          }
        }
      ]
    },
    {
      "cell_type": "markdown",
      "source": [
        "check stationarity"
      ],
      "metadata": {
        "id": "BFFAtL25ahYw"
      }
    },
    {
      "cell_type": "code",
      "source": [
        "from statsmodels.tsa.stattools import adfuller"
      ],
      "metadata": {
        "id": "lWXDL3GS6_88",
        "colab": {
          "base_uri": "https://localhost:8080/"
        },
        "outputId": "b62feed6-f253-42c1-97a2-a5be8bc79988"
      },
      "execution_count": 14,
      "outputs": [
        {
          "output_type": "stream",
          "name": "stderr",
          "text": [
            "/usr/local/lib/python3.7/dist-packages/statsmodels/tools/_testing.py:19: FutureWarning: pandas.util.testing is deprecated. Use the functions in the public API at pandas.testing instead.\n",
            "  import pandas.util.testing as tm\n"
          ]
        }
      ]
    },
    {
      "cell_type": "code",
      "source": [
        "adfuller(data['TUNINDEX'])"
      ],
      "metadata": {
        "colab": {
          "base_uri": "https://localhost:8080/"
        },
        "id": "ldQhXocy9ls8",
        "outputId": "733acd13-8488-48ef-bdaf-c941b698ef95"
      },
      "execution_count": 15,
      "outputs": [
        {
          "output_type": "execute_result",
          "data": {
            "text/plain": [
              "(-0.0808852506380418,\n",
              " 0.9513094668238564,\n",
              " 10,\n",
              " 1485,\n",
              " {'1%': -3.43476120520139,\n",
              "  '10%': -2.567807233388883,\n",
              "  '5%': -2.863488262178673},\n",
              " 13706.38291936124)"
            ]
          },
          "metadata": {},
          "execution_count": 15
        }
      ]
    },
    {
      "cell_type": "markdown",
      "source": [
        "p-value is bigger then 0.05-->not stationary-->creating returns"
      ],
      "metadata": {
        "id": "q_O9BT-Jal8Y"
      }
    },
    {
      "cell_type": "code",
      "source": [
        "diff=data.diff()\n",
        "diff"
      ],
      "metadata": {
        "colab": {
          "base_uri": "https://localhost:8080/",
          "height": 455
        },
        "id": "khif4U_FGz6Z",
        "outputId": "0fdecfa2-2530-4c36-c2b3-4eee2c6be28b"
      },
      "execution_count": 16,
      "outputs": [
        {
          "output_type": "execute_result",
          "data": {
            "text/plain": [
              "            TUNINDEX\n",
              "DATE                \n",
              "2013-02-01       NaN\n",
              "2013-03-01     20.09\n",
              "2013-04-01     12.25\n",
              "2013-07-01     -1.59\n",
              "2013-08-01    -18.11\n",
              "...              ...\n",
              "2018-12-25    -31.93\n",
              "2018-12-26      0.39\n",
              "2018-12-27     31.30\n",
              "2018-12-28     56.95\n",
              "2018-12-31     11.98\n",
              "\n",
              "[1496 rows x 1 columns]"
            ],
            "text/html": [
              "\n",
              "  <div id=\"df-4b332e69-b0f9-4318-9b40-fd0e9e92f269\">\n",
              "    <div class=\"colab-df-container\">\n",
              "      <div>\n",
              "<style scoped>\n",
              "    .dataframe tbody tr th:only-of-type {\n",
              "        vertical-align: middle;\n",
              "    }\n",
              "\n",
              "    .dataframe tbody tr th {\n",
              "        vertical-align: top;\n",
              "    }\n",
              "\n",
              "    .dataframe thead th {\n",
              "        text-align: right;\n",
              "    }\n",
              "</style>\n",
              "<table border=\"1\" class=\"dataframe\">\n",
              "  <thead>\n",
              "    <tr style=\"text-align: right;\">\n",
              "      <th></th>\n",
              "      <th>TUNINDEX</th>\n",
              "    </tr>\n",
              "    <tr>\n",
              "      <th>DATE</th>\n",
              "      <th></th>\n",
              "    </tr>\n",
              "  </thead>\n",
              "  <tbody>\n",
              "    <tr>\n",
              "      <th>2013-02-01</th>\n",
              "      <td>NaN</td>\n",
              "    </tr>\n",
              "    <tr>\n",
              "      <th>2013-03-01</th>\n",
              "      <td>20.09</td>\n",
              "    </tr>\n",
              "    <tr>\n",
              "      <th>2013-04-01</th>\n",
              "      <td>12.25</td>\n",
              "    </tr>\n",
              "    <tr>\n",
              "      <th>2013-07-01</th>\n",
              "      <td>-1.59</td>\n",
              "    </tr>\n",
              "    <tr>\n",
              "      <th>2013-08-01</th>\n",
              "      <td>-18.11</td>\n",
              "    </tr>\n",
              "    <tr>\n",
              "      <th>...</th>\n",
              "      <td>...</td>\n",
              "    </tr>\n",
              "    <tr>\n",
              "      <th>2018-12-25</th>\n",
              "      <td>-31.93</td>\n",
              "    </tr>\n",
              "    <tr>\n",
              "      <th>2018-12-26</th>\n",
              "      <td>0.39</td>\n",
              "    </tr>\n",
              "    <tr>\n",
              "      <th>2018-12-27</th>\n",
              "      <td>31.30</td>\n",
              "    </tr>\n",
              "    <tr>\n",
              "      <th>2018-12-28</th>\n",
              "      <td>56.95</td>\n",
              "    </tr>\n",
              "    <tr>\n",
              "      <th>2018-12-31</th>\n",
              "      <td>11.98</td>\n",
              "    </tr>\n",
              "  </tbody>\n",
              "</table>\n",
              "<p>1496 rows × 1 columns</p>\n",
              "</div>\n",
              "      <button class=\"colab-df-convert\" onclick=\"convertToInteractive('df-4b332e69-b0f9-4318-9b40-fd0e9e92f269')\"\n",
              "              title=\"Convert this dataframe to an interactive table.\"\n",
              "              style=\"display:none;\">\n",
              "        \n",
              "  <svg xmlns=\"http://www.w3.org/2000/svg\" height=\"24px\"viewBox=\"0 0 24 24\"\n",
              "       width=\"24px\">\n",
              "    <path d=\"M0 0h24v24H0V0z\" fill=\"none\"/>\n",
              "    <path d=\"M18.56 5.44l.94 2.06.94-2.06 2.06-.94-2.06-.94-.94-2.06-.94 2.06-2.06.94zm-11 1L8.5 8.5l.94-2.06 2.06-.94-2.06-.94L8.5 2.5l-.94 2.06-2.06.94zm10 10l.94 2.06.94-2.06 2.06-.94-2.06-.94-.94-2.06-.94 2.06-2.06.94z\"/><path d=\"M17.41 7.96l-1.37-1.37c-.4-.4-.92-.59-1.43-.59-.52 0-1.04.2-1.43.59L10.3 9.45l-7.72 7.72c-.78.78-.78 2.05 0 2.83L4 21.41c.39.39.9.59 1.41.59.51 0 1.02-.2 1.41-.59l7.78-7.78 2.81-2.81c.8-.78.8-2.07 0-2.86zM5.41 20L4 18.59l7.72-7.72 1.47 1.35L5.41 20z\"/>\n",
              "  </svg>\n",
              "      </button>\n",
              "      \n",
              "  <style>\n",
              "    .colab-df-container {\n",
              "      display:flex;\n",
              "      flex-wrap:wrap;\n",
              "      gap: 12px;\n",
              "    }\n",
              "\n",
              "    .colab-df-convert {\n",
              "      background-color: #E8F0FE;\n",
              "      border: none;\n",
              "      border-radius: 50%;\n",
              "      cursor: pointer;\n",
              "      display: none;\n",
              "      fill: #1967D2;\n",
              "      height: 32px;\n",
              "      padding: 0 0 0 0;\n",
              "      width: 32px;\n",
              "    }\n",
              "\n",
              "    .colab-df-convert:hover {\n",
              "      background-color: #E2EBFA;\n",
              "      box-shadow: 0px 1px 2px rgba(60, 64, 67, 0.3), 0px 1px 3px 1px rgba(60, 64, 67, 0.15);\n",
              "      fill: #174EA6;\n",
              "    }\n",
              "\n",
              "    [theme=dark] .colab-df-convert {\n",
              "      background-color: #3B4455;\n",
              "      fill: #D2E3FC;\n",
              "    }\n",
              "\n",
              "    [theme=dark] .colab-df-convert:hover {\n",
              "      background-color: #434B5C;\n",
              "      box-shadow: 0px 1px 3px 1px rgba(0, 0, 0, 0.15);\n",
              "      filter: drop-shadow(0px 1px 2px rgba(0, 0, 0, 0.3));\n",
              "      fill: #FFFFFF;\n",
              "    }\n",
              "  </style>\n",
              "\n",
              "      <script>\n",
              "        const buttonEl =\n",
              "          document.querySelector('#df-4b332e69-b0f9-4318-9b40-fd0e9e92f269 button.colab-df-convert');\n",
              "        buttonEl.style.display =\n",
              "          google.colab.kernel.accessAllowed ? 'block' : 'none';\n",
              "\n",
              "        async function convertToInteractive(key) {\n",
              "          const element = document.querySelector('#df-4b332e69-b0f9-4318-9b40-fd0e9e92f269');\n",
              "          const dataTable =\n",
              "            await google.colab.kernel.invokeFunction('convertToInteractive',\n",
              "                                                     [key], {});\n",
              "          if (!dataTable) return;\n",
              "\n",
              "          const docLinkHtml = 'Like what you see? Visit the ' +\n",
              "            '<a target=\"_blank\" href=https://colab.research.google.com/notebooks/data_table.ipynb>data table notebook</a>'\n",
              "            + ' to learn more about interactive tables.';\n",
              "          element.innerHTML = '';\n",
              "          dataTable['output_type'] = 'display_data';\n",
              "          await google.colab.output.renderOutput(dataTable, element);\n",
              "          const docLink = document.createElement('div');\n",
              "          docLink.innerHTML = docLinkHtml;\n",
              "          element.appendChild(docLink);\n",
              "        }\n",
              "      </script>\n",
              "    </div>\n",
              "  </div>\n",
              "  "
            ]
          },
          "metadata": {},
          "execution_count": 16
        }
      ]
    },
    {
      "cell_type": "code",
      "source": [
        "diff.iloc[1:].plot(figsize=(8,5))"
      ],
      "metadata": {
        "colab": {
          "base_uri": "https://localhost:8080/",
          "height": 335
        },
        "id": "K7lSZKjFInKn",
        "outputId": "c9e566bb-c1f9-4a22-ef9f-80179cb96aa7"
      },
      "execution_count": 17,
      "outputs": [
        {
          "output_type": "execute_result",
          "data": {
            "text/plain": [
              "<matplotlib.axes._subplots.AxesSubplot at 0x7f51bee91890>"
            ]
          },
          "metadata": {},
          "execution_count": 17
        },
        {
          "output_type": "display_data",
          "data": {
            "text/plain": [
              "<Figure size 576x360 with 1 Axes>"
            ],
            "image/png": "[encoded data removed]"
          },
          "metadata": {
            "needs_background": "light"
          }
        }
      ]
    },
    {
      "cell_type": "code",
      "source": [
        "adfuller(diff['TUNINDEX'].dropna())"
      ],
      "metadata": {
        "colab": {
          "base_uri": "https://localhost:8080/"
        },
        "id": "15-IA2HNHnoy",
        "outputId": "15ac0268-2e64-436e-9dc4-c17edf0305af"
      },
      "execution_count": 18,
      "outputs": [
        {
          "output_type": "execute_result",
          "data": {
            "text/plain": [
              "(-9.722652337157456,\n",
              " 9.453396003951872e-17,\n",
              " 9,\n",
              " 1485,\n",
              " {'1%': -3.43476120520139,\n",
              "  '10%': -2.567807233388883,\n",
              "  '5%': -2.863488262178673},\n",
              " 13694.581782949947)"
            ]
          },
          "metadata": {},
          "execution_count": 18
        }
      ]
    },
    {
      "cell_type": "markdown",
      "source": [
        "p-value <0.05 -->stationary"
      ],
      "metadata": {
        "id": "VCcwk-Dnazsl"
      }
    },
    {
      "cell_type": "markdown",
      "source": [
        "ploting pacf and acf for retuns to determine the model parameters"
      ],
      "metadata": {
        "id": "6qaE_r5VbGu6"
      }
    },
    {
      "cell_type": "code",
      "source": [
        "import statsmodels.graphics.tsaplots as sgt"
      ],
      "metadata": {
        "id": "pE04PmTKJG7p"
      },
      "execution_count": 19,
      "outputs": []
    },
    {
      "cell_type": "code",
      "source": [
        "sgt.plot_pacf(diff.TUNINDEX[1:],lags=40,zero=False)\n",
        "plt.show()"
      ],
      "metadata": {
        "colab": {
          "base_uri": "https://localhost:8080/",
          "height": 281
        },
        "id": "d75e-KBaJMSa",
        "outputId": "e7898555-0400-4950-c49a-84df1961eb94"
      },
      "execution_count": 21,
      "outputs": [
        {
          "output_type": "display_data",
          "data": {
            "text/plain": [
              "<Figure size 432x288 with 1 Axes>"
            ],
            "image/png": "[encoded data removed]"
          },
          "metadata": {
            "needs_background": "light"
          }
        }
      ]
    },
    {
      "cell_type": "code",
      "source": [
        "sgt.plot_acf(diff.TUNINDEX[1:],lags=40,zero=False)\n",
        "plt.show()"
      ],
      "metadata": {
        "colab": {
          "base_uri": "https://localhost:8080/",
          "height": 281
        },
        "id": "psQJOv5JK8ZI",
        "outputId": "b73d5f60-8b1d-42fd-f27e-5270b198417f"
      },
      "execution_count": 22,
      "outputs": [
        {
          "output_type": "display_data",
          "data": {
            "text/plain": [
              "<Figure size 432x288 with 1 Axes>"
            ],
            "image/png": "[encoded data removed]"
          },
          "metadata": {
            "needs_background": "light"
          }
        }
      ]
    },
    {
      "cell_type": "markdown",
      "source": [
        "split data"
      ],
      "metadata": {
        "id": "2x8zEKzNbS8S"
      }
    },
    {
      "cell_type": "code",
      "source": [
        "train_data=data[:int(0.8*len(data))]\n",
        "test_data=data[int(0.8*len(data)):]"
      ],
      "metadata": {
        "id": "MwRPoaYnXp53"
      },
      "execution_count": 58,
      "outputs": []
    },
    {
      "cell_type": "markdown",
      "source": [
        "creating model based on acf and pacf"
      ],
      "metadata": {
        "id": "9VaiP5tebUiE"
      }
    },
    {
      "cell_type": "code",
      "source": [
        "from statsmodels.tsa.arima_model import ARIMA\n"
      ],
      "metadata": {
        "id": "IyIJAL_8H6Rg"
      },
      "execution_count": 23,
      "outputs": []
    },
    {
      "cell_type": "code",
      "source": [
        "import statsmodels.api as sm"
      ],
      "metadata": {
        "id": "ktGvoCaCVp6A"
      },
      "execution_count": 25,
      "outputs": []
    },
    {
      "cell_type": "code",
      "source": [
        "model=ARIMA(data,order=(8,1,6))\n",
        "model_fit=model.fit()"
      ],
      "metadata": {
        "colab": {
          "base_uri": "https://localhost:8080/"
        },
        "id": "YOXj835pTP5G",
        "outputId": "9bba131f-d762-46f2-a61d-6cb55bbf7447"
      },
      "execution_count": 35,
      "outputs": [
        {
          "output_type": "stream",
          "name": "stderr",
          "text": [
            "/usr/local/lib/python3.7/dist-packages/statsmodels/tsa/base/tsa_model.py:219: ValueWarning: A date index has been provided, but it has no associated frequency information and so will be ignored when e.g. forecasting.\n",
            "  ' ignored when e.g. forecasting.', ValueWarning)\n",
            "/usr/local/lib/python3.7/dist-packages/statsmodels/tsa/base/tsa_model.py:219: ValueWarning: A date index has been provided, but it has no associated frequency information and so will be ignored when e.g. forecasting.\n",
            "  ' ignored when e.g. forecasting.', ValueWarning)\n"
          ]
        }
      ]
    },
    {
      "cell_type": "code",
      "source": [
        "model_fit.summary()"
      ],
      "metadata": {
        "colab": {
          "base_uri": "https://localhost:8080/",
          "height": 852
        },
        "id": "QUVM4n6MTYsA",
        "outputId": "7dd3dfc8-5b1b-4a99-916a-422e003001f6"
      },
      "execution_count": 36,
      "outputs": [
        {
          "output_type": "execute_result",
          "data": {
            "text/plain": [
              "<class 'statsmodels.iolib.summary.Summary'>\n",
              "\"\"\"\n",
              "                             ARIMA Model Results                              \n",
              "==============================================================================\n",
              "Dep. Variable:             D.TUNINDEX   No. Observations:                 1495\n",
              "Model:                 ARIMA(8, 1, 6)   Log Likelihood               -6964.174\n",
              "Method:                       css-mle   S.D. of innovations             25.514\n",
              "Date:                Sat, 26 Mar 2022   AIC                          13960.347\n",
              "Time:                        17:39:23   BIC                          14045.305\n",
              "Sample:                             1   HQIC                         13992.002\n",
              "                                                                              \n",
              "====================================================================================\n",
              "                       coef    std err          z      P>|z|      [0.025      0.975]\n",
              "------------------------------------------------------------------------------------\n",
              "const                1.7878      1.436      1.245      0.213      -1.028       4.603\n",
              "ar.L1.D.TUNINDEX     0.3280      0.279      1.177      0.239      -0.218       0.874\n",
              "ar.L2.D.TUNINDEX    -0.1830      0.199     -0.919      0.358      -0.574       0.207\n",
              "ar.L3.D.TUNINDEX    -0.2816      0.180     -1.564      0.118      -0.635       0.071\n",
              "ar.L4.D.TUNINDEX     0.4684      0.182      2.577      0.010       0.112       0.825\n",
              "ar.L5.D.TUNINDEX     0.2315      0.197      1.173      0.241      -0.155       0.618\n",
              "ar.L6.D.TUNINDEX     0.2984      0.234      1.274      0.203      -0.161       0.757\n",
              "ar.L7.D.TUNINDEX    -0.1144      0.036     -3.156      0.002      -0.185      -0.043\n",
              "ar.L8.D.TUNINDEX     0.0869      0.032      2.707      0.007       0.024       0.150\n",
              "ma.L1.D.TUNINDEX    -0.1723      0.279     -0.617      0.537      -0.720       0.375\n",
              "ma.L2.D.TUNINDEX     0.1749      0.190      0.922      0.357      -0.197       0.547\n",
              "ma.L3.D.TUNINDEX     0.3529      0.159      2.224      0.026       0.042       0.664\n",
              "ma.L4.D.TUNINDEX    -0.4542      0.183     -2.478      0.013      -0.813      -0.095\n",
              "ma.L5.D.TUNINDEX    -0.2483      0.184     -1.348      0.178      -0.609       0.113\n",
              "ma.L6.D.TUNINDEX    -0.2887      0.231     -1.248      0.212      -0.742       0.165\n",
              "                                    Roots                                    \n",
              "=============================================================================\n",
              "                  Real          Imaginary           Modulus         Frequency\n",
              "-----------------------------------------------------------------------------\n",
              "AR.1            1.0396           -0.0000j            1.0396           -0.0000\n",
              "AR.2            0.3356           -0.9557j            1.0129           -0.1962\n",
              "AR.3            0.3356           +0.9557j            1.0129            0.1962\n",
              "AR.4           -1.0935           -0.0000j            1.0935           -0.5000\n",
              "AR.5           -0.8213           -1.1333j            1.3996           -0.3498\n",
              "AR.6           -0.8213           +1.1333j            1.3996            0.3498\n",
              "AR.7            1.1707           -1.9147j            2.2442           -0.1627\n",
              "AR.8            1.1707           +1.9147j            2.2442            0.1627\n",
              "MA.1            1.0842           -0.0000j            1.0842           -0.0000\n",
              "MA.2            0.3415           -0.9496j            1.0091           -0.1951\n",
              "MA.3            0.3415           +0.9496j            1.0091            0.1951\n",
              "MA.4           -1.1354           -0.0000j            1.1354           -0.5000\n",
              "MA.5           -0.7460           -1.4856j            1.6624           -0.3241\n",
              "MA.6           -0.7460           +1.4856j            1.6624            0.3241\n",
              "-----------------------------------------------------------------------------\n",
              "\"\"\""
            ],
            "text/html": [
              "<table class=\"simpletable\">\n",
              "<caption>ARIMA Model Results</caption>\n",
              "<tr>\n",
              "  <th>Dep. Variable:</th>    <td>D.TUNINDEX</td>    <th>  No. Observations:  </th>   <td>1495</td>   \n",
              "</tr>\n",
              "<tr>\n",
              "  <th>Model:</th>          <td>ARIMA(8, 1, 6)</td>  <th>  Log Likelihood     </th> <td>-6964.174</td>\n",
              "</tr>\n",
              "<tr>\n",
              "  <th>Method:</th>             <td>css-mle</td>     <th>  S.D. of innovations</th>  <td>25.514</td>  \n",
              "</tr>\n",
              "<tr>\n",
              "  <th>Date:</th>          <td>Sat, 26 Mar 2022</td> <th>  AIC                </th> <td>13960.347</td>\n",
              "</tr>\n",
              "<tr>\n",
              "  <th>Time:</th>              <td>17:39:23</td>     <th>  BIC                </th> <td>14045.305</td>\n",
              "</tr>\n",
              "<tr>\n",
              "  <th>Sample:</th>                <td>1</td>        <th>  HQIC               </th> <td>13992.002</td>\n",
              "</tr>\n",
              "<tr>\n",
              "  <th></th>                       <td> </td>        <th>                     </th>     <td> </td>    \n",
              "</tr>\n",
              "</table>\n",
              "<table class=\"simpletable\">\n",
              "<tr>\n",
              "          <td></td>            <th>coef</th>     <th>std err</th>      <th>z</th>      <th>P>|z|</th>  <th>[0.025</th>    <th>0.975]</th>  \n",
              "</tr>\n",
              "<tr>\n",
              "  <th>const</th>            <td>    1.7878</td> <td>    1.436</td> <td>    1.245</td> <td> 0.213</td> <td>   -1.028</td> <td>    4.603</td>\n",
              "</tr>\n",
              "<tr>\n",
              "  <th>ar.L1.D.TUNINDEX</th> <td>    0.3280</td> <td>    0.279</td> <td>    1.177</td> <td> 0.239</td> <td>   -0.218</td> <td>    0.874</td>\n",
              "</tr>\n",
              "<tr>\n",
              "  <th>ar.L2.D.TUNINDEX</th> <td>   -0.1830</td> <td>    0.199</td> <td>   -0.919</td> <td> 0.358</td> <td>   -0.574</td> <td>    0.207</td>\n",
              "</tr>\n",
              "<tr>\n",
              "  <th>ar.L3.D.TUNINDEX</th> <td>   -0.2816</td> <td>    0.180</td> <td>   -1.564</td> <td> 0.118</td> <td>   -0.635</td> <td>    0.071</td>\n",
              "</tr>\n",
              "<tr>\n",
              "  <th>ar.L4.D.TUNINDEX</th> <td>    0.4684</td> <td>    0.182</td> <td>    2.577</td> <td> 0.010</td> <td>    0.112</td> <td>    0.825</td>\n",
              "</tr>\n",
              "<tr>\n",
              "  <th>ar.L5.D.TUNINDEX</th> <td>    0.2315</td> <td>    0.197</td> <td>    1.173</td> <td> 0.241</td> <td>   -0.155</td> <td>    0.618</td>\n",
              "</tr>\n",
              "<tr>\n",
              "  <th>ar.L6.D.TUNINDEX</th> <td>    0.2984</td> <td>    0.234</td> <td>    1.274</td> <td> 0.203</td> <td>   -0.161</td> <td>    0.757</td>\n",
              "</tr>\n",
              "<tr>\n",
              "  <th>ar.L7.D.TUNINDEX</th> <td>   -0.1144</td> <td>    0.036</td> <td>   -3.156</td> <td> 0.002</td> <td>   -0.185</td> <td>   -0.043</td>\n",
              "</tr>\n",
              "<tr>\n",
              "  <th>ar.L8.D.TUNINDEX</th> <td>    0.0869</td> <td>    0.032</td> <td>    2.707</td> <td> 0.007</td> <td>    0.024</td> <td>    0.150</td>\n",
              "</tr>\n",
              "<tr>\n",
              "  <th>ma.L1.D.TUNINDEX</th> <td>   -0.1723</td> <td>    0.279</td> <td>   -0.617</td> <td> 0.537</td> <td>   -0.720</td> <td>    0.375</td>\n",
              "</tr>\n",
              "<tr>\n",
              "  <th>ma.L2.D.TUNINDEX</th> <td>    0.1749</td> <td>    0.190</td> <td>    0.922</td> <td> 0.357</td> <td>   -0.197</td> <td>    0.547</td>\n",
              "</tr>\n",
              "<tr>\n",
              "  <th>ma.L3.D.TUNINDEX</th> <td>    0.3529</td> <td>    0.159</td> <td>    2.224</td> <td> 0.026</td> <td>    0.042</td> <td>    0.664</td>\n",
              "</tr>\n",
              "<tr>\n",
              "  <th>ma.L4.D.TUNINDEX</th> <td>   -0.4542</td> <td>    0.183</td> <td>   -2.478</td> <td> 0.013</td> <td>   -0.813</td> <td>   -0.095</td>\n",
              "</tr>\n",
              "<tr>\n",
              "  <th>ma.L5.D.TUNINDEX</th> <td>   -0.2483</td> <td>    0.184</td> <td>   -1.348</td> <td> 0.178</td> <td>   -0.609</td> <td>    0.113</td>\n",
              "</tr>\n",
              "<tr>\n",
              "  <th>ma.L6.D.TUNINDEX</th> <td>   -0.2887</td> <td>    0.231</td> <td>   -1.248</td> <td> 0.212</td> <td>   -0.742</td> <td>    0.165</td>\n",
              "</tr>\n",
              "</table>\n",
              "<table class=\"simpletable\">\n",
              "<caption>Roots</caption>\n",
              "<tr>\n",
              "    <td></td>   <th>            Real</th>  <th>         Imaginary</th> <th>         Modulus</th>  <th>        Frequency</th>\n",
              "</tr>\n",
              "<tr>\n",
              "  <th>AR.1</th> <td>           1.0396</td> <td>          -0.0000j</td> <td>           1.0396</td> <td>          -0.0000</td>\n",
              "</tr>\n",
              "<tr>\n",
              "  <th>AR.2</th> <td>           0.3356</td> <td>          -0.9557j</td> <td>           1.0129</td> <td>          -0.1962</td>\n",
              "</tr>\n",
              "<tr>\n",
              "  <th>AR.3</th> <td>           0.3356</td> <td>          +0.9557j</td> <td>           1.0129</td> <td>           0.1962</td>\n",
              "</tr>\n",
              "<tr>\n",
              "  <th>AR.4</th> <td>          -1.0935</td> <td>          -0.0000j</td> <td>           1.0935</td> <td>          -0.5000</td>\n",
              "</tr>\n",
              "<tr>\n",
              "  <th>AR.5</th> <td>          -0.8213</td> <td>          -1.1333j</td> <td>           1.3996</td> <td>          -0.3498</td>\n",
              "</tr>\n",
              "<tr>\n",
              "  <th>AR.6</th> <td>          -0.8213</td> <td>          +1.1333j</td> <td>           1.3996</td> <td>           0.3498</td>\n",
              "</tr>\n",
              "<tr>\n",
              "  <th>AR.7</th> <td>           1.1707</td> <td>          -1.9147j</td> <td>           2.2442</td> <td>          -0.1627</td>\n",
              "</tr>\n",
              "<tr>\n",
              "  <th>AR.8</th> <td>           1.1707</td> <td>          +1.9147j</td> <td>           2.2442</td> <td>           0.1627</td>\n",
              "</tr>\n",
              "<tr>\n",
              "  <th>MA.1</th> <td>           1.0842</td> <td>          -0.0000j</td> <td>           1.0842</td> <td>          -0.0000</td>\n",
              "</tr>\n",
              "<tr>\n",
              "  <th>MA.2</th> <td>           0.3415</td> <td>          -0.9496j</td> <td>           1.0091</td> <td>          -0.1951</td>\n",
              "</tr>\n",
              "<tr>\n",
              "  <th>MA.3</th> <td>           0.3415</td> <td>          +0.9496j</td> <td>           1.0091</td> <td>           0.1951</td>\n",
              "</tr>\n",
              "<tr>\n",
              "  <th>MA.4</th> <td>          -1.1354</td> <td>          -0.0000j</td> <td>           1.1354</td> <td>          -0.5000</td>\n",
              "</tr>\n",
              "<tr>\n",
              "  <th>MA.5</th> <td>          -0.7460</td> <td>          -1.4856j</td> <td>           1.6624</td> <td>          -0.3241</td>\n",
              "</tr>\n",
              "<tr>\n",
              "  <th>MA.6</th> <td>          -0.7460</td> <td>          +1.4856j</td> <td>           1.6624</td> <td>           0.3241</td>\n",
              "</tr>\n",
              "</table>"
            ]
          },
          "metadata": {},
          "execution_count": 36
        }
      ]
    },
    {
      "cell_type": "markdown",
      "source": [
        "most of the p values are big , so we will try a less complicated model"
      ],
      "metadata": {
        "id": "qmazSZYHbbUl"
      }
    },
    {
      "cell_type": "code",
      "source": [
        "model=ARIMA(train_data,order=(8,1,4))\n",
        "model_fit=model.fit()"
      ],
      "metadata": {
        "colab": {
          "base_uri": "https://localhost:8080/"
        },
        "id": "MowZzAQMT61F",
        "outputId": "d3e1680e-3f76-4a19-b0ee-2d89a12b33d2"
      },
      "execution_count": 59,
      "outputs": [
        {
          "output_type": "stream",
          "name": "stderr",
          "text": [
            "/usr/local/lib/python3.7/dist-packages/statsmodels/tsa/base/tsa_model.py:219: ValueWarning: A date index has been provided, but it has no associated frequency information and so will be ignored when e.g. forecasting.\n",
            "  ' ignored when e.g. forecasting.', ValueWarning)\n",
            "/usr/local/lib/python3.7/dist-packages/statsmodels/tsa/base/tsa_model.py:219: ValueWarning: A date index has been provided, but it has no associated frequency information and so will be ignored when e.g. forecasting.\n",
            "  ' ignored when e.g. forecasting.', ValueWarning)\n"
          ]
        }
      ]
    },
    {
      "cell_type": "code",
      "source": [
        "model_fit.summary()"
      ],
      "metadata": {
        "colab": {
          "base_uri": "https://localhost:8080/",
          "height": 767
        },
        "id": "xoGmtNWnUOne",
        "outputId": "32cae4ba-9f40-4169-a610-bb0a116bfba7"
      },
      "execution_count": 60,
      "outputs": [
        {
          "output_type": "execute_result",
          "data": {
            "text/plain": [
              "<class 'statsmodels.iolib.summary.Summary'>\n",
              "\"\"\"\n",
              "                             ARIMA Model Results                              \n",
              "==============================================================================\n",
              "Dep. Variable:             D.TUNINDEX   No. Observations:                 1195\n",
              "Model:                 ARIMA(8, 1, 4)   Log Likelihood               -5302.923\n",
              "Method:                       css-mle   S.D. of innovations             20.432\n",
              "Date:                Sat, 26 Mar 2022   AIC                          10633.847\n",
              "Time:                        18:00:10   BIC                          10705.049\n",
              "Sample:                             1   HQIC                         10660.674\n",
              "                                                                              \n",
              "====================================================================================\n",
              "                       coef    std err          z      P>|z|      [0.025      0.975]\n",
              "------------------------------------------------------------------------------------\n",
              "const                1.1995      0.867      1.383      0.167      -0.500       2.899\n",
              "ar.L1.D.TUNINDEX     1.2328      0.054     22.684      0.000       1.126       1.339\n",
              "ar.L2.D.TUNINDEX    -0.2958      0.112     -2.652      0.008      -0.514      -0.077\n",
              "ar.L3.D.TUNINDEX     0.8954      0.109      8.184      0.000       0.681       1.110\n",
              "ar.L4.D.TUNINDEX    -1.1723      0.074    -15.747      0.000      -1.318      -1.026\n",
              "ar.L5.D.TUNINDEX     0.2280      0.055      4.175      0.000       0.121       0.335\n",
              "ar.L6.D.TUNINDEX    -0.0147      0.054     -0.271      0.787      -0.121       0.092\n",
              "ar.L7.D.TUNINDEX     0.0373      0.054      0.686      0.493      -0.069       0.144\n",
              "ar.L8.D.TUNINDEX    -0.0058      0.032     -0.184      0.854      -0.068       0.056\n",
              "ma.L1.D.TUNINDEX    -1.0311      0.050    -20.535      0.000      -1.129      -0.933\n",
              "ma.L2.D.TUNINDEX     0.1361      0.093      1.465      0.143      -0.046       0.318\n",
              "ma.L3.D.TUNINDEX    -0.8948      0.085    -10.579      0.000      -1.061      -0.729\n",
              "ma.L4.D.TUNINDEX     0.9293      0.044     20.991      0.000       0.843       1.016\n",
              "                                    Roots                                    \n",
              "=============================================================================\n",
              "                  Real          Imaginary           Modulus         Frequency\n",
              "-----------------------------------------------------------------------------\n",
              "AR.1           -0.5139           -0.9003j            1.0366           -0.3325\n",
              "AR.2           -0.5139           +0.9003j            1.0366            0.3325\n",
              "AR.3            0.9865           -0.2193j            1.0106           -0.0348\n",
              "AR.4            0.9865           +0.2193j            1.0106            0.0348\n",
              "AR.5           -1.6205           -2.7671j            3.2067           -0.3343\n",
              "AR.6           -1.6205           +2.7671j            3.2067            0.3343\n",
              "AR.7            2.4234           -0.0000j            2.4234           -0.0000\n",
              "AR.8            6.2566           -0.0000j            6.2566           -0.0000\n",
              "MA.1           -0.4943           -0.9116j            1.0370           -0.3291\n",
              "MA.2           -0.4943           +0.9116j            1.0370            0.3291\n",
              "MA.3            0.9758           -0.2201j            1.0003           -0.0353\n",
              "MA.4            0.9758           +0.2201j            1.0003            0.0353\n",
              "-----------------------------------------------------------------------------\n",
              "\"\"\""
            ],
            "text/html": [
              "<table class=\"simpletable\">\n",
              "<caption>ARIMA Model Results</caption>\n",
              "<tr>\n",
              "  <th>Dep. Variable:</th>    <td>D.TUNINDEX</td>    <th>  No. Observations:  </th>   <td>1195</td>   \n",
              "</tr>\n",
              "<tr>\n",
              "  <th>Model:</th>          <td>ARIMA(8, 1, 4)</td>  <th>  Log Likelihood     </th> <td>-5302.923</td>\n",
              "</tr>\n",
              "<tr>\n",
              "  <th>Method:</th>             <td>css-mle</td>     <th>  S.D. of innovations</th>  <td>20.432</td>  \n",
              "</tr>\n",
              "<tr>\n",
              "  <th>Date:</th>          <td>Sat, 26 Mar 2022</td> <th>  AIC                </th> <td>10633.847</td>\n",
              "</tr>\n",
              "<tr>\n",
              "  <th>Time:</th>              <td>18:00:10</td>     <th>  BIC                </th> <td>10705.049</td>\n",
              "</tr>\n",
              "<tr>\n",
              "  <th>Sample:</th>                <td>1</td>        <th>  HQIC               </th> <td>10660.674</td>\n",
              "</tr>\n",
              "<tr>\n",
              "  <th></th>                       <td> </td>        <th>                     </th>     <td> </td>    \n",
              "</tr>\n",
              "</table>\n",
              "<table class=\"simpletable\">\n",
              "<tr>\n",
              "          <td></td>            <th>coef</th>     <th>std err</th>      <th>z</th>      <th>P>|z|</th>  <th>[0.025</th>    <th>0.975]</th>  \n",
              "</tr>\n",
              "<tr>\n",
              "  <th>const</th>            <td>    1.1995</td> <td>    0.867</td> <td>    1.383</td> <td> 0.167</td> <td>   -0.500</td> <td>    2.899</td>\n",
              "</tr>\n",
              "<tr>\n",
              "  <th>ar.L1.D.TUNINDEX</th> <td>    1.2328</td> <td>    0.054</td> <td>   22.684</td> <td> 0.000</td> <td>    1.126</td> <td>    1.339</td>\n",
              "</tr>\n",
              "<tr>\n",
              "  <th>ar.L2.D.TUNINDEX</th> <td>   -0.2958</td> <td>    0.112</td> <td>   -2.652</td> <td> 0.008</td> <td>   -0.514</td> <td>   -0.077</td>\n",
              "</tr>\n",
              "<tr>\n",
              "  <th>ar.L3.D.TUNINDEX</th> <td>    0.8954</td> <td>    0.109</td> <td>    8.184</td> <td> 0.000</td> <td>    0.681</td> <td>    1.110</td>\n",
              "</tr>\n",
              "<tr>\n",
              "  <th>ar.L4.D.TUNINDEX</th> <td>   -1.1723</td> <td>    0.074</td> <td>  -15.747</td> <td> 0.000</td> <td>   -1.318</td> <td>   -1.026</td>\n",
              "</tr>\n",
              "<tr>\n",
              "  <th>ar.L5.D.TUNINDEX</th> <td>    0.2280</td> <td>    0.055</td> <td>    4.175</td> <td> 0.000</td> <td>    0.121</td> <td>    0.335</td>\n",
              "</tr>\n",
              "<tr>\n",
              "  <th>ar.L6.D.TUNINDEX</th> <td>   -0.0147</td> <td>    0.054</td> <td>   -0.271</td> <td> 0.787</td> <td>   -0.121</td> <td>    0.092</td>\n",
              "</tr>\n",
              "<tr>\n",
              "  <th>ar.L7.D.TUNINDEX</th> <td>    0.0373</td> <td>    0.054</td> <td>    0.686</td> <td> 0.493</td> <td>   -0.069</td> <td>    0.144</td>\n",
              "</tr>\n",
              "<tr>\n",
              "  <th>ar.L8.D.TUNINDEX</th> <td>   -0.0058</td> <td>    0.032</td> <td>   -0.184</td> <td> 0.854</td> <td>   -0.068</td> <td>    0.056</td>\n",
              "</tr>\n",
              "<tr>\n",
              "  <th>ma.L1.D.TUNINDEX</th> <td>   -1.0311</td> <td>    0.050</td> <td>  -20.535</td> <td> 0.000</td> <td>   -1.129</td> <td>   -0.933</td>\n",
              "</tr>\n",
              "<tr>\n",
              "  <th>ma.L2.D.TUNINDEX</th> <td>    0.1361</td> <td>    0.093</td> <td>    1.465</td> <td> 0.143</td> <td>   -0.046</td> <td>    0.318</td>\n",
              "</tr>\n",
              "<tr>\n",
              "  <th>ma.L3.D.TUNINDEX</th> <td>   -0.8948</td> <td>    0.085</td> <td>  -10.579</td> <td> 0.000</td> <td>   -1.061</td> <td>   -0.729</td>\n",
              "</tr>\n",
              "<tr>\n",
              "  <th>ma.L4.D.TUNINDEX</th> <td>    0.9293</td> <td>    0.044</td> <td>   20.991</td> <td> 0.000</td> <td>    0.843</td> <td>    1.016</td>\n",
              "</tr>\n",
              "</table>\n",
              "<table class=\"simpletable\">\n",
              "<caption>Roots</caption>\n",
              "<tr>\n",
              "    <td></td>   <th>            Real</th>  <th>         Imaginary</th> <th>         Modulus</th>  <th>        Frequency</th>\n",
              "</tr>\n",
              "<tr>\n",
              "  <th>AR.1</th> <td>          -0.5139</td> <td>          -0.9003j</td> <td>           1.0366</td> <td>          -0.3325</td>\n",
              "</tr>\n",
              "<tr>\n",
              "  <th>AR.2</th> <td>          -0.5139</td> <td>          +0.9003j</td> <td>           1.0366</td> <td>           0.3325</td>\n",
              "</tr>\n",
              "<tr>\n",
              "  <th>AR.3</th> <td>           0.9865</td> <td>          -0.2193j</td> <td>           1.0106</td> <td>          -0.0348</td>\n",
              "</tr>\n",
              "<tr>\n",
              "  <th>AR.4</th> <td>           0.9865</td> <td>          +0.2193j</td> <td>           1.0106</td> <td>           0.0348</td>\n",
              "</tr>\n",
              "<tr>\n",
              "  <th>AR.5</th> <td>          -1.6205</td> <td>          -2.7671j</td> <td>           3.2067</td> <td>          -0.3343</td>\n",
              "</tr>\n",
              "<tr>\n",
              "  <th>AR.6</th> <td>          -1.6205</td> <td>          +2.7671j</td> <td>           3.2067</td> <td>           0.3343</td>\n",
              "</tr>\n",
              "<tr>\n",
              "  <th>AR.7</th> <td>           2.4234</td> <td>          -0.0000j</td> <td>           2.4234</td> <td>          -0.0000</td>\n",
              "</tr>\n",
              "<tr>\n",
              "  <th>AR.8</th> <td>           6.2566</td> <td>          -0.0000j</td> <td>           6.2566</td> <td>          -0.0000</td>\n",
              "</tr>\n",
              "<tr>\n",
              "  <th>MA.1</th> <td>          -0.4943</td> <td>          -0.9116j</td> <td>           1.0370</td> <td>          -0.3291</td>\n",
              "</tr>\n",
              "<tr>\n",
              "  <th>MA.2</th> <td>          -0.4943</td> <td>          +0.9116j</td> <td>           1.0370</td> <td>           0.3291</td>\n",
              "</tr>\n",
              "<tr>\n",
              "  <th>MA.3</th> <td>           0.9758</td> <td>          -0.2201j</td> <td>           1.0003</td> <td>          -0.0353</td>\n",
              "</tr>\n",
              "<tr>\n",
              "  <th>MA.4</th> <td>           0.9758</td> <td>          +0.2201j</td> <td>           1.0003</td> <td>           0.0353</td>\n",
              "</tr>\n",
              "</table>"
            ]
          },
          "metadata": {},
          "execution_count": 60
        }
      ]
    },
    {
      "cell_type": "markdown",
      "source": [
        "doing the forecasting on the test data"
      ],
      "metadata": {
        "id": "dBkgiFFJbl9f"
      }
    },
    {
      "cell_type": "code",
      "source": [
        "fc, se, conf = model_fit.forecast(300, alpha=0.05) "
      ],
      "metadata": {
        "id": "YL5Q3G2-UhK9"
      },
      "execution_count": 66,
      "outputs": []
    },
    {
      "cell_type": "code",
      "source": [
        "fc_series = pd.Series(fc, index=test_data.index)"
      ],
      "metadata": {
        "id": "Ol_9ICQzVrHS"
      },
      "execution_count": 67,
      "outputs": []
    },
    {
      "cell_type": "code",
      "source": [
        "test_data['forecast']=fc_series\n",
        "test_data.plot()\n",
        "plt.show()"
      ],
      "metadata": {
        "colab": {
          "base_uri": "https://localhost:8080/",
          "height": 479
        },
        "id": "flimQavBWYpt",
        "outputId": "744200fd-3f6f-439a-be1c-9594a0e934d9"
      },
      "execution_count": 71,
      "outputs": [
        {
          "output_type": "stream",
          "name": "stderr",
          "text": [
            "/usr/local/lib/python3.7/dist-packages/ipykernel_launcher.py:1: SettingWithCopyWarning: \n",
            "A value is trying to be set on a copy of a slice from a DataFrame.\n",
            "Try using .loc[row_indexer,col_indexer] = value instead\n",
            "\n",
            "See the caveats in the documentation: https://pandas.pydata.org/pandas-docs/stable/user_guide/indexing.html#returning-a-view-versus-a-copy\n",
            "  \"\"\"Entry point for launching an IPython kernel.\n"
          ]
        },
        {
          "output_type": "display_data",
          "data": {
            "text/plain": [
              "<Figure size 720x432 with 1 Axes>"
            ],
            "image/png": "[encoded data removed]"
          },
          "metadata": {
            "needs_background": "light"
          }
        }
      ]
    }
  ]
}