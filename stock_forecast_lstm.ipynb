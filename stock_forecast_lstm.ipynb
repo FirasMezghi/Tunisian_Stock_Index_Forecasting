{
  "nbformat": 4,
  "nbformat_minor": 0,
  "metadata": {
    "colab": {
      "name": "stock_forecast_lstm",
      "provenance": []
    },
    "kernelspec": {
      "name": "python3",
      "display_name": "Python 3"
    },
    "language_info": {
      "name": "python"
    },
    "accelerator": "GPU"
  },
  "cells": [
    {
      "cell_type": "markdown",
      "source": [
        "import packages"
      ],
      "metadata": {
        "id": "CNXqoGsIkGH0"
      }
    },
    {
      "cell_type": "code",
      "source": [
        "import pandas as pd\n",
        "import numpy as np\n",
        "import tensorflow as tf\n",
        "from tensorflow.keras.models import Sequential\n",
        "from tensorflow.keras.layers import Dense\n",
        "from tensorflow.keras.layers import LSTM\n",
        "from sklearn.preprocessing import MinMaxScaler\n",
        "import matplotlib.pyplot as plt"
      ],
      "metadata": {
        "id": "LJKzRmTAS3WJ"
      },
      "execution_count": 1,
      "outputs": []
    },
    {
      "cell_type": "markdown",
      "source": [
        "import data"
      ],
      "metadata": {
        "id": "0VzLKLyXkPQX"
      }
    },
    {
      "cell_type": "code",
      "execution_count": 2,
      "metadata": {
        "colab": {
          "base_uri": "https://localhost:8080/",
          "height": 488
        },
        "id": "tqoKczwUMsr8",
        "outputId": "80a511de-256f-4b97-d0c7-6c463fbc5b24"
      },
      "outputs": [
        {
          "output_type": "execute_result",
          "data": {
            "text/plain": [
              "            DATE TUNINDEX    INDSF    INDBQ     INDAS    INSFI    INDSC  \\\n",
              "0     02/01/2013  4621.99   3066.3  2749.78   8952.83  4704.01  3928.61   \n",
              "1     03/01/2013  4642.08  3070.24   2753.0   8990.21  4703.39  3947.45   \n",
              "2     04/01/2013  4654.33  3068.77  2753.48   8994.91  4668.97  3964.21   \n",
              "3     07/01/2013  4652.74  3070.87  2753.14   9015.93  4700.36  3968.93   \n",
              "4     08/01/2013  4634.63  3063.27  2746.39   8987.18  4690.59  3970.27   \n",
              "...          ...      ...      ...      ...       ...      ...      ...   \n",
              "1491  25/12/2018  7171.03  4900.45  4591.33  10365.92  5659.94  3079.94   \n",
              "1492  26/12/2018  7171.42   4911.0  4601.09  10457.11  5652.64  3072.55   \n",
              "1493  27/12/2018  7202.72  4932.18  4625.67   10314.5  5657.36  3064.85   \n",
              "1494  28/12/2018  7259.67  4965.97  4655.02  10462.86  5710.45  3073.92   \n",
              "1495  31/12/2018  7271.65  4962.52  4643.84  10692.08  5764.16  3062.36   \n",
              "\n",
              "        INDDI    INBCO    INAUE    INAAB    INDIN    INBMC    INDMB  \\\n",
              "0     5697.27  2663.43  2361.04   2720.7  1862.78  1308.69  2599.97   \n",
              "1     5703.18  2688.91  2454.99   2737.8   1892.5   1331.0  2596.29   \n",
              "2     5723.46  2724.14  2520.72  2767.65  1903.14  1334.89  2606.68   \n",
              "3     5724.95  2753.83  2502.98  2804.92  1870.27  1310.05  2603.49   \n",
              "4     5729.97   2721.8  2509.74  2764.15  1861.52  1302.84   2562.4   \n",
              "...       ...      ...      ...      ...      ...      ...      ...   \n",
              "1491  4782.21  7373.02  1742.67  9383.31  1391.12   682.87  3546.17   \n",
              "1492   4773.5  7343.66  1742.04   9349.3  1392.99   683.18  3510.96   \n",
              "1493  4760.85  7377.93  1746.13  9406.43  1398.69    683.2   3565.5   \n",
              "1494  4775.75   7455.1  1798.76  9477.02  1409.63   683.77  3609.65   \n",
              "1495  4760.21  7484.54  1826.76  9507.17  1417.15   685.53  3677.62   \n",
              "\n",
              "     TUNINDEX20    INPMP  \n",
              "0       1807.53      NaN  \n",
              "1        1817.9      NaN  \n",
              "2       1824.82      NaN  \n",
              "3       1827.85      NaN  \n",
              "4       1817.52      NaN  \n",
              "...         ...      ...  \n",
              "1491    3207.26  1991.77  \n",
              "1492     3206.1  1976.68  \n",
              "1493    3222.19  1962.89  \n",
              "1494    3249.43  2025.78  \n",
              "1495    3248.56  2042.56  \n",
              "\n",
              "[1496 rows x 16 columns]"
            ],
            "text/html": [
              "\n",
              "  <div id=\"df-dba33093-32c8-4b12-8a56-0b39b3e109aa\">\n",
              "    <div class=\"colab-df-container\">\n",
              "      <div>\n",
              "<style scoped>\n",
              "    .dataframe tbody tr th:only-of-type {\n",
              "        vertical-align: middle;\n",
              "    }\n",
              "\n",
              "    .dataframe tbody tr th {\n",
              "        vertical-align: top;\n",
              "    }\n",
              "\n",
              "    .dataframe thead th {\n",
              "        text-align: right;\n",
              "    }\n",
              "</style>\n",
              "<table border=\"1\" class=\"dataframe\">\n",
              "  <thead>\n",
              "    <tr style=\"text-align: right;\">\n",
              "      <th></th>\n",
              "      <th>DATE</th>\n",
              "      <th>TUNINDEX</th>\n",
              "      <th>INDSF</th>\n",
              "      <th>INDBQ</th>\n",
              "      <th>INDAS</th>\n",
              "      <th>INSFI</th>\n",
              "      <th>INDSC</th>\n",
              "      <th>INDDI</th>\n",
              "      <th>INBCO</th>\n",
              "      <th>INAUE</th>\n",
              "      <th>INAAB</th>\n",
              "      <th>INDIN</th>\n",
              "      <th>INBMC</th>\n",
              "      <th>INDMB</th>\n",
              "      <th>TUNINDEX20</th>\n",
              "      <th>INPMP</th>\n",
              "    </tr>\n",
              "  </thead>\n",
              "  <tbody>\n",
              "    <tr>\n",
              "      <th>0</th>\n",
              "      <td>02/01/2013</td>\n",
              "      <td>4621.99</td>\n",
              "      <td>3066.3</td>\n",
              "      <td>2749.78</td>\n",
              "      <td>8952.83</td>\n",
              "      <td>4704.01</td>\n",
              "      <td>3928.61</td>\n",
              "      <td>5697.27</td>\n",
              "      <td>2663.43</td>\n",
              "      <td>2361.04</td>\n",
              "      <td>2720.7</td>\n",
              "      <td>1862.78</td>\n",
              "      <td>1308.69</td>\n",
              "      <td>2599.97</td>\n",
              "      <td>1807.53</td>\n",
              "      <td>NaN</td>\n",
              "    </tr>\n",
              "    <tr>\n",
              "      <th>1</th>\n",
              "      <td>03/01/2013</td>\n",
              "      <td>4642.08</td>\n",
              "      <td>3070.24</td>\n",
              "      <td>2753.0</td>\n",
              "      <td>8990.21</td>\n",
              "      <td>4703.39</td>\n",
              "      <td>3947.45</td>\n",
              "      <td>5703.18</td>\n",
              "      <td>2688.91</td>\n",
              "      <td>2454.99</td>\n",
              "      <td>2737.8</td>\n",
              "      <td>1892.5</td>\n",
              "      <td>1331.0</td>\n",
              "      <td>2596.29</td>\n",
              "      <td>1817.9</td>\n",
              "      <td>NaN</td>\n",
              "    </tr>\n",
              "    <tr>\n",
              "      <th>2</th>\n",
              "      <td>04/01/2013</td>\n",
              "      <td>4654.33</td>\n",
              "      <td>3068.77</td>\n",
              "      <td>2753.48</td>\n",
              "      <td>8994.91</td>\n",
              "      <td>4668.97</td>\n",
              "      <td>3964.21</td>\n",
              "      <td>5723.46</td>\n",
              "      <td>2724.14</td>\n",
              "      <td>2520.72</td>\n",
              "      <td>2767.65</td>\n",
              "      <td>1903.14</td>\n",
              "      <td>1334.89</td>\n",
              "      <td>2606.68</td>\n",
              "      <td>1824.82</td>\n",
              "      <td>NaN</td>\n",
              "    </tr>\n",
              "    <tr>\n",
              "      <th>3</th>\n",
              "      <td>07/01/2013</td>\n",
              "      <td>4652.74</td>\n",
              "      <td>3070.87</td>\n",
              "      <td>2753.14</td>\n",
              "      <td>9015.93</td>\n",
              "      <td>4700.36</td>\n",
              "      <td>3968.93</td>\n",
              "      <td>5724.95</td>\n",
              "      <td>2753.83</td>\n",
              "      <td>2502.98</td>\n",
              "      <td>2804.92</td>\n",
              "      <td>1870.27</td>\n",
              "      <td>1310.05</td>\n",
              "      <td>2603.49</td>\n",
              "      <td>1827.85</td>\n",
              "      <td>NaN</td>\n",
              "    </tr>\n",
              "    <tr>\n",
              "      <th>4</th>\n",
              "      <td>08/01/2013</td>\n",
              "      <td>4634.63</td>\n",
              "      <td>3063.27</td>\n",
              "      <td>2746.39</td>\n",
              "      <td>8987.18</td>\n",
              "      <td>4690.59</td>\n",
              "      <td>3970.27</td>\n",
              "      <td>5729.97</td>\n",
              "      <td>2721.8</td>\n",
              "      <td>2509.74</td>\n",
              "      <td>2764.15</td>\n",
              "      <td>1861.52</td>\n",
              "      <td>1302.84</td>\n",
              "      <td>2562.4</td>\n",
              "      <td>1817.52</td>\n",
              "      <td>NaN</td>\n",
              "    </tr>\n",
              "    <tr>\n",
              "      <th>...</th>\n",
              "      <td>...</td>\n",
              "      <td>...</td>\n",
              "      <td>...</td>\n",
              "      <td>...</td>\n",
              "      <td>...</td>\n",
              "      <td>...</td>\n",
              "      <td>...</td>\n",
              "      <td>...</td>\n",
              "      <td>...</td>\n",
              "      <td>...</td>\n",
              "      <td>...</td>\n",
              "      <td>...</td>\n",
              "      <td>...</td>\n",
              "      <td>...</td>\n",
              "      <td>...</td>\n",
              "      <td>...</td>\n",
              "    </tr>\n",
              "    <tr>\n",
              "      <th>1491</th>\n",
              "      <td>25/12/2018</td>\n",
              "      <td>7171.03</td>\n",
              "      <td>4900.45</td>\n",
              "      <td>4591.33</td>\n",
              "      <td>10365.92</td>\n",
              "      <td>5659.94</td>\n",
              "      <td>3079.94</td>\n",
              "      <td>4782.21</td>\n",
              "      <td>7373.02</td>\n",
              "      <td>1742.67</td>\n",
              "      <td>9383.31</td>\n",
              "      <td>1391.12</td>\n",
              "      <td>682.87</td>\n",
              "      <td>3546.17</td>\n",
              "      <td>3207.26</td>\n",
              "      <td>1991.77</td>\n",
              "    </tr>\n",
              "    <tr>\n",
              "      <th>1492</th>\n",
              "      <td>26/12/2018</td>\n",
              "      <td>7171.42</td>\n",
              "      <td>4911.0</td>\n",
              "      <td>4601.09</td>\n",
              "      <td>10457.11</td>\n",
              "      <td>5652.64</td>\n",
              "      <td>3072.55</td>\n",
              "      <td>4773.5</td>\n",
              "      <td>7343.66</td>\n",
              "      <td>1742.04</td>\n",
              "      <td>9349.3</td>\n",
              "      <td>1392.99</td>\n",
              "      <td>683.18</td>\n",
              "      <td>3510.96</td>\n",
              "      <td>3206.1</td>\n",
              "      <td>1976.68</td>\n",
              "    </tr>\n",
              "    <tr>\n",
              "      <th>1493</th>\n",
              "      <td>27/12/2018</td>\n",
              "      <td>7202.72</td>\n",
              "      <td>4932.18</td>\n",
              "      <td>4625.67</td>\n",
              "      <td>10314.5</td>\n",
              "      <td>5657.36</td>\n",
              "      <td>3064.85</td>\n",
              "      <td>4760.85</td>\n",
              "      <td>7377.93</td>\n",
              "      <td>1746.13</td>\n",
              "      <td>9406.43</td>\n",
              "      <td>1398.69</td>\n",
              "      <td>683.2</td>\n",
              "      <td>3565.5</td>\n",
              "      <td>3222.19</td>\n",
              "      <td>1962.89</td>\n",
              "    </tr>\n",
              "    <tr>\n",
              "      <th>1494</th>\n",
              "      <td>28/12/2018</td>\n",
              "      <td>7259.67</td>\n",
              "      <td>4965.97</td>\n",
              "      <td>4655.02</td>\n",
              "      <td>10462.86</td>\n",
              "      <td>5710.45</td>\n",
              "      <td>3073.92</td>\n",
              "      <td>4775.75</td>\n",
              "      <td>7455.1</td>\n",
              "      <td>1798.76</td>\n",
              "      <td>9477.02</td>\n",
              "      <td>1409.63</td>\n",
              "      <td>683.77</td>\n",
              "      <td>3609.65</td>\n",
              "      <td>3249.43</td>\n",
              "      <td>2025.78</td>\n",
              "    </tr>\n",
              "    <tr>\n",
              "      <th>1495</th>\n",
              "      <td>31/12/2018</td>\n",
              "      <td>7271.65</td>\n",
              "      <td>4962.52</td>\n",
              "      <td>4643.84</td>\n",
              "      <td>10692.08</td>\n",
              "      <td>5764.16</td>\n",
              "      <td>3062.36</td>\n",
              "      <td>4760.21</td>\n",
              "      <td>7484.54</td>\n",
              "      <td>1826.76</td>\n",
              "      <td>9507.17</td>\n",
              "      <td>1417.15</td>\n",
              "      <td>685.53</td>\n",
              "      <td>3677.62</td>\n",
              "      <td>3248.56</td>\n",
              "      <td>2042.56</td>\n",
              "    </tr>\n",
              "  </tbody>\n",
              "</table>\n",
              "<p>1496 rows × 16 columns</p>\n",
              "</div>\n",
              "      <button class=\"colab-df-convert\" onclick=\"convertToInteractive('df-dba33093-32c8-4b12-8a56-0b39b3e109aa')\"\n",
              "              title=\"Convert this dataframe to an interactive table.\"\n",
              "              style=\"display:none;\">\n",
              "        \n",
              "  <svg xmlns=\"http://www.w3.org/2000/svg\" height=\"24px\"viewBox=\"0 0 24 24\"\n",
              "       width=\"24px\">\n",
              "    <path d=\"M0 0h24v24H0V0z\" fill=\"none\"/>\n",
              "    <path d=\"M18.56 5.44l.94 2.06.94-2.06 2.06-.94-2.06-.94-.94-2.06-.94 2.06-2.06.94zm-11 1L8.5 8.5l.94-2.06 2.06-.94-2.06-.94L8.5 2.5l-.94 2.06-2.06.94zm10 10l.94 2.06.94-2.06 2.06-.94-2.06-.94-.94-2.06-.94 2.06-2.06.94z\"/><path d=\"M17.41 7.96l-1.37-1.37c-.4-.4-.92-.59-1.43-.59-.52 0-1.04.2-1.43.59L10.3 9.45l-7.72 7.72c-.78.78-.78 2.05 0 2.83L4 21.41c.39.39.9.59 1.41.59.51 0 1.02-.2 1.41-.59l7.78-7.78 2.81-2.81c.8-.78.8-2.07 0-2.86zM5.41 20L4 18.59l7.72-7.72 1.47 1.35L5.41 20z\"/>\n",
              "  </svg>\n",
              "      </button>\n",
              "      \n",
              "  <style>\n",
              "    .colab-df-container {\n",
              "      display:flex;\n",
              "      flex-wrap:wrap;\n",
              "      gap: 12px;\n",
              "    }\n",
              "\n",
              "    .colab-df-convert {\n",
              "      background-color: #E8F0FE;\n",
              "      border: none;\n",
              "      border-radius: 50%;\n",
              "      cursor: pointer;\n",
              "      display: none;\n",
              "      fill: #1967D2;\n",
              "      height: 32px;\n",
              "      padding: 0 0 0 0;\n",
              "      width: 32px;\n",
              "    }\n",
              "\n",
              "    .colab-df-convert:hover {\n",
              "      background-color: #E2EBFA;\n",
              "      box-shadow: 0px 1px 2px rgba(60, 64, 67, 0.3), 0px 1px 3px 1px rgba(60, 64, 67, 0.15);\n",
              "      fill: #174EA6;\n",
              "    }\n",
              "\n",
              "    [theme=dark] .colab-df-convert {\n",
              "      background-color: #3B4455;\n",
              "      fill: #D2E3FC;\n",
              "    }\n",
              "\n",
              "    [theme=dark] .colab-df-convert:hover {\n",
              "      background-color: #434B5C;\n",
              "      box-shadow: 0px 1px 3px 1px rgba(0, 0, 0, 0.15);\n",
              "      filter: drop-shadow(0px 1px 2px rgba(0, 0, 0, 0.3));\n",
              "      fill: #FFFFFF;\n",
              "    }\n",
              "  </style>\n",
              "\n",
              "      <script>\n",
              "        const buttonEl =\n",
              "          document.querySelector('#df-dba33093-32c8-4b12-8a56-0b39b3e109aa button.colab-df-convert');\n",
              "        buttonEl.style.display =\n",
              "          google.colab.kernel.accessAllowed ? 'block' : 'none';\n",
              "\n",
              "        async function convertToInteractive(key) {\n",
              "          const element = document.querySelector('#df-dba33093-32c8-4b12-8a56-0b39b3e109aa');\n",
              "          const dataTable =\n",
              "            await google.colab.kernel.invokeFunction('convertToInteractive',\n",
              "                                                     [key], {});\n",
              "          if (!dataTable) return;\n",
              "\n",
              "          const docLinkHtml = 'Like what you see? Visit the ' +\n",
              "            '<a target=\"_blank\" href=https://colab.research.google.com/notebooks/data_table.ipynb>data table notebook</a>'\n",
              "            + ' to learn more about interactive tables.';\n",
              "          element.innerHTML = '';\n",
              "          dataTable['output_type'] = 'display_data';\n",
              "          await google.colab.output.renderOutput(dataTable, element);\n",
              "          const docLink = document.createElement('div');\n",
              "          docLink.innerHTML = docLinkHtml;\n",
              "          element.appendChild(docLink);\n",
              "        }\n",
              "      </script>\n",
              "    </div>\n",
              "  </div>\n",
              "  "
            ]
          },
          "metadata": {},
          "execution_count": 2
        }
      ],
      "source": [
        "df=pd.read_csv('/content/drive/MyDrive/dataset ml/stock_tunisia/index_stock_tunisia.csv')\n",
        "df"
      ]
    },
    {
      "cell_type": "code",
      "source": [
        "df.info()"
      ],
      "metadata": {
        "colab": {
          "base_uri": "https://localhost:8080/"
        },
        "id": "YoR8yIPiTWv5",
        "outputId": "a1a8eb13-0e61-43d9-f095-7d489b0b3fdb"
      },
      "execution_count": 3,
      "outputs": [
        {
          "output_type": "stream",
          "name": "stdout",
          "text": [
            "<class 'pandas.core.frame.DataFrame'>\n",
            "RangeIndex: 1496 entries, 0 to 1495\n",
            "Data columns (total 16 columns):\n",
            " #   Column      Non-Null Count  Dtype \n",
            "---  ------      --------------  ----- \n",
            " 0   DATE        1496 non-null   object\n",
            " 1   TUNINDEX    1496 non-null   object\n",
            " 2   INDSF       1496 non-null   object\n",
            " 3   INDBQ       1496 non-null   object\n",
            " 4   INDAS       1496 non-null   object\n",
            " 5   INSFI       1496 non-null   object\n",
            " 6   INDSC       1496 non-null   object\n",
            " 7   INDDI       1496 non-null   object\n",
            " 8   INBCO       1496 non-null   object\n",
            " 9   INAUE       1496 non-null   object\n",
            " 10  INAAB       1496 non-null   object\n",
            " 11  INDIN       1496 non-null   object\n",
            " 12  INBMC       1496 non-null   object\n",
            " 13  INDMB       1496 non-null   object\n",
            " 14  TUNINDEX20  1496 non-null   object\n",
            " 15  INPMP       1001 non-null   object\n",
            "dtypes: object(16)\n",
            "memory usage: 187.1+ KB\n"
          ]
        }
      ]
    },
    {
      "cell_type": "markdown",
      "source": [
        "cleaning data"
      ],
      "metadata": {
        "id": "9w2p-l2KkWOb"
      }
    },
    {
      "cell_type": "code",
      "source": [
        "df.drop('INPMP',axis=1)"
      ],
      "metadata": {
        "colab": {
          "base_uri": "https://localhost:8080/",
          "height": 488
        },
        "id": "lnYGtKR6UY2V",
        "outputId": "f35a5542-fca6-4400-e70e-29001153e655"
      },
      "execution_count": 4,
      "outputs": [
        {
          "output_type": "execute_result",
          "data": {
            "text/plain": [
              "            DATE TUNINDEX    INDSF    INDBQ     INDAS    INSFI    INDSC  \\\n",
              "0     02/01/2013  4621.99   3066.3  2749.78   8952.83  4704.01  3928.61   \n",
              "1     03/01/2013  4642.08  3070.24   2753.0   8990.21  4703.39  3947.45   \n",
              "2     04/01/2013  4654.33  3068.77  2753.48   8994.91  4668.97  3964.21   \n",
              "3     07/01/2013  4652.74  3070.87  2753.14   9015.93  4700.36  3968.93   \n",
              "4     08/01/2013  4634.63  3063.27  2746.39   8987.18  4690.59  3970.27   \n",
              "...          ...      ...      ...      ...       ...      ...      ...   \n",
              "1491  25/12/2018  7171.03  4900.45  4591.33  10365.92  5659.94  3079.94   \n",
              "1492  26/12/2018  7171.42   4911.0  4601.09  10457.11  5652.64  3072.55   \n",
              "1493  27/12/2018  7202.72  4932.18  4625.67   10314.5  5657.36  3064.85   \n",
              "1494  28/12/2018  7259.67  4965.97  4655.02  10462.86  5710.45  3073.92   \n",
              "1495  31/12/2018  7271.65  4962.52  4643.84  10692.08  5764.16  3062.36   \n",
              "\n",
              "        INDDI    INBCO    INAUE    INAAB    INDIN    INBMC    INDMB TUNINDEX20  \n",
              "0     5697.27  2663.43  2361.04   2720.7  1862.78  1308.69  2599.97    1807.53  \n",
              "1     5703.18  2688.91  2454.99   2737.8   1892.5   1331.0  2596.29     1817.9  \n",
              "2     5723.46  2724.14  2520.72  2767.65  1903.14  1334.89  2606.68    1824.82  \n",
              "3     5724.95  2753.83  2502.98  2804.92  1870.27  1310.05  2603.49    1827.85  \n",
              "4     5729.97   2721.8  2509.74  2764.15  1861.52  1302.84   2562.4    1817.52  \n",
              "...       ...      ...      ...      ...      ...      ...      ...        ...  \n",
              "1491  4782.21  7373.02  1742.67  9383.31  1391.12   682.87  3546.17    3207.26  \n",
              "1492   4773.5  7343.66  1742.04   9349.3  1392.99   683.18  3510.96     3206.1  \n",
              "1493  4760.85  7377.93  1746.13  9406.43  1398.69    683.2   3565.5    3222.19  \n",
              "1494  4775.75   7455.1  1798.76  9477.02  1409.63   683.77  3609.65    3249.43  \n",
              "1495  4760.21  7484.54  1826.76  9507.17  1417.15   685.53  3677.62    3248.56  \n",
              "\n",
              "[1496 rows x 15 columns]"
            ],
            "text/html": [
              "\n",
              "  <div id=\"df-38d555ce-b906-4536-b2a6-1e867c58fc15\">\n",
              "    <div class=\"colab-df-container\">\n",
              "      <div>\n",
              "<style scoped>\n",
              "    .dataframe tbody tr th:only-of-type {\n",
              "        vertical-align: middle;\n",
              "    }\n",
              "\n",
              "    .dataframe tbody tr th {\n",
              "        vertical-align: top;\n",
              "    }\n",
              "\n",
              "    .dataframe thead th {\n",
              "        text-align: right;\n",
              "    }\n",
              "</style>\n",
              "<table border=\"1\" class=\"dataframe\">\n",
              "  <thead>\n",
              "    <tr style=\"text-align: right;\">\n",
              "      <th></th>\n",
              "      <th>DATE</th>\n",
              "      <th>TUNINDEX</th>\n",
              "      <th>INDSF</th>\n",
              "      <th>INDBQ</th>\n",
              "      <th>INDAS</th>\n",
              "      <th>INSFI</th>\n",
              "      <th>INDSC</th>\n",
              "      <th>INDDI</th>\n",
              "      <th>INBCO</th>\n",
              "      <th>INAUE</th>\n",
              "      <th>INAAB</th>\n",
              "      <th>INDIN</th>\n",
              "      <th>INBMC</th>\n",
              "      <th>INDMB</th>\n",
              "      <th>TUNINDEX20</th>\n",
              "    </tr>\n",
              "  </thead>\n",
              "  <tbody>\n",
              "    <tr>\n",
              "      <th>0</th>\n",
              "      <td>02/01/2013</td>\n",
              "      <td>4621.99</td>\n",
              "      <td>3066.3</td>\n",
              "      <td>2749.78</td>\n",
              "      <td>8952.83</td>\n",
              "      <td>4704.01</td>\n",
              "      <td>3928.61</td>\n",
              "      <td>5697.27</td>\n",
              "      <td>2663.43</td>\n",
              "      <td>2361.04</td>\n",
              "      <td>2720.7</td>\n",
              "      <td>1862.78</td>\n",
              "      <td>1308.69</td>\n",
              "      <td>2599.97</td>\n",
              "      <td>1807.53</td>\n",
              "    </tr>\n",
              "    <tr>\n",
              "      <th>1</th>\n",
              "      <td>03/01/2013</td>\n",
              "      <td>4642.08</td>\n",
              "      <td>3070.24</td>\n",
              "      <td>2753.0</td>\n",
              "      <td>8990.21</td>\n",
              "      <td>4703.39</td>\n",
              "      <td>3947.45</td>\n",
              "      <td>5703.18</td>\n",
              "      <td>2688.91</td>\n",
              "      <td>2454.99</td>\n",
              "      <td>2737.8</td>\n",
              "      <td>1892.5</td>\n",
              "      <td>1331.0</td>\n",
              "      <td>2596.29</td>\n",
              "      <td>1817.9</td>\n",
              "    </tr>\n",
              "    <tr>\n",
              "      <th>2</th>\n",
              "      <td>04/01/2013</td>\n",
              "      <td>4654.33</td>\n",
              "      <td>3068.77</td>\n",
              "      <td>2753.48</td>\n",
              "      <td>8994.91</td>\n",
              "      <td>4668.97</td>\n",
              "      <td>3964.21</td>\n",
              "      <td>5723.46</td>\n",
              "      <td>2724.14</td>\n",
              "      <td>2520.72</td>\n",
              "      <td>2767.65</td>\n",
              "      <td>1903.14</td>\n",
              "      <td>1334.89</td>\n",
              "      <td>2606.68</td>\n",
              "      <td>1824.82</td>\n",
              "    </tr>\n",
              "    <tr>\n",
              "      <th>3</th>\n",
              "      <td>07/01/2013</td>\n",
              "      <td>4652.74</td>\n",
              "      <td>3070.87</td>\n",
              "      <td>2753.14</td>\n",
              "      <td>9015.93</td>\n",
              "      <td>4700.36</td>\n",
              "      <td>3968.93</td>\n",
              "      <td>5724.95</td>\n",
              "      <td>2753.83</td>\n",
              "      <td>2502.98</td>\n",
              "      <td>2804.92</td>\n",
              "      <td>1870.27</td>\n",
              "      <td>1310.05</td>\n",
              "      <td>2603.49</td>\n",
              "      <td>1827.85</td>\n",
              "    </tr>\n",
              "    <tr>\n",
              "      <th>4</th>\n",
              "      <td>08/01/2013</td>\n",
              "      <td>4634.63</td>\n",
              "      <td>3063.27</td>\n",
              "      <td>2746.39</td>\n",
              "      <td>8987.18</td>\n",
              "      <td>4690.59</td>\n",
              "      <td>3970.27</td>\n",
              "      <td>5729.97</td>\n",
              "      <td>2721.8</td>\n",
              "      <td>2509.74</td>\n",
              "      <td>2764.15</td>\n",
              "      <td>1861.52</td>\n",
              "      <td>1302.84</td>\n",
              "      <td>2562.4</td>\n",
              "      <td>1817.52</td>\n",
              "    </tr>\n",
              "    <tr>\n",
              "      <th>...</th>\n",
              "      <td>...</td>\n",
              "      <td>...</td>\n",
              "      <td>...</td>\n",
              "      <td>...</td>\n",
              "      <td>...</td>\n",
              "      <td>...</td>\n",
              "      <td>...</td>\n",
              "      <td>...</td>\n",
              "      <td>...</td>\n",
              "      <td>...</td>\n",
              "      <td>...</td>\n",
              "      <td>...</td>\n",
              "      <td>...</td>\n",
              "      <td>...</td>\n",
              "      <td>...</td>\n",
              "    </tr>\n",
              "    <tr>\n",
              "      <th>1491</th>\n",
              "      <td>25/12/2018</td>\n",
              "      <td>7171.03</td>\n",
              "      <td>4900.45</td>\n",
              "      <td>4591.33</td>\n",
              "      <td>10365.92</td>\n",
              "      <td>5659.94</td>\n",
              "      <td>3079.94</td>\n",
              "      <td>4782.21</td>\n",
              "      <td>7373.02</td>\n",
              "      <td>1742.67</td>\n",
              "      <td>9383.31</td>\n",
              "      <td>1391.12</td>\n",
              "      <td>682.87</td>\n",
              "      <td>3546.17</td>\n",
              "      <td>3207.26</td>\n",
              "    </tr>\n",
              "    <tr>\n",
              "      <th>1492</th>\n",
              "      <td>26/12/2018</td>\n",
              "      <td>7171.42</td>\n",
              "      <td>4911.0</td>\n",
              "      <td>4601.09</td>\n",
              "      <td>10457.11</td>\n",
              "      <td>5652.64</td>\n",
              "      <td>3072.55</td>\n",
              "      <td>4773.5</td>\n",
              "      <td>7343.66</td>\n",
              "      <td>1742.04</td>\n",
              "      <td>9349.3</td>\n",
              "      <td>1392.99</td>\n",
              "      <td>683.18</td>\n",
              "      <td>3510.96</td>\n",
              "      <td>3206.1</td>\n",
              "    </tr>\n",
              "    <tr>\n",
              "      <th>1493</th>\n",
              "      <td>27/12/2018</td>\n",
              "      <td>7202.72</td>\n",
              "      <td>4932.18</td>\n",
              "      <td>4625.67</td>\n",
              "      <td>10314.5</td>\n",
              "      <td>5657.36</td>\n",
              "      <td>3064.85</td>\n",
              "      <td>4760.85</td>\n",
              "      <td>7377.93</td>\n",
              "      <td>1746.13</td>\n",
              "      <td>9406.43</td>\n",
              "      <td>1398.69</td>\n",
              "      <td>683.2</td>\n",
              "      <td>3565.5</td>\n",
              "      <td>3222.19</td>\n",
              "    </tr>\n",
              "    <tr>\n",
              "      <th>1494</th>\n",
              "      <td>28/12/2018</td>\n",
              "      <td>7259.67</td>\n",
              "      <td>4965.97</td>\n",
              "      <td>4655.02</td>\n",
              "      <td>10462.86</td>\n",
              "      <td>5710.45</td>\n",
              "      <td>3073.92</td>\n",
              "      <td>4775.75</td>\n",
              "      <td>7455.1</td>\n",
              "      <td>1798.76</td>\n",
              "      <td>9477.02</td>\n",
              "      <td>1409.63</td>\n",
              "      <td>683.77</td>\n",
              "      <td>3609.65</td>\n",
              "      <td>3249.43</td>\n",
              "    </tr>\n",
              "    <tr>\n",
              "      <th>1495</th>\n",
              "      <td>31/12/2018</td>\n",
              "      <td>7271.65</td>\n",
              "      <td>4962.52</td>\n",
              "      <td>4643.84</td>\n",
              "      <td>10692.08</td>\n",
              "      <td>5764.16</td>\n",
              "      <td>3062.36</td>\n",
              "      <td>4760.21</td>\n",
              "      <td>7484.54</td>\n",
              "      <td>1826.76</td>\n",
              "      <td>9507.17</td>\n",
              "      <td>1417.15</td>\n",
              "      <td>685.53</td>\n",
              "      <td>3677.62</td>\n",
              "      <td>3248.56</td>\n",
              "    </tr>\n",
              "  </tbody>\n",
              "</table>\n",
              "<p>1496 rows × 15 columns</p>\n",
              "</div>\n",
              "      <button class=\"colab-df-convert\" onclick=\"convertToInteractive('df-38d555ce-b906-4536-b2a6-1e867c58fc15')\"\n",
              "              title=\"Convert this dataframe to an interactive table.\"\n",
              "              style=\"display:none;\">\n",
              "        \n",
              "  <svg xmlns=\"http://www.w3.org/2000/svg\" height=\"24px\"viewBox=\"0 0 24 24\"\n",
              "       width=\"24px\">\n",
              "    <path d=\"M0 0h24v24H0V0z\" fill=\"none\"/>\n",
              "    <path d=\"M18.56 5.44l.94 2.06.94-2.06 2.06-.94-2.06-.94-.94-2.06-.94 2.06-2.06.94zm-11 1L8.5 8.5l.94-2.06 2.06-.94-2.06-.94L8.5 2.5l-.94 2.06-2.06.94zm10 10l.94 2.06.94-2.06 2.06-.94-2.06-.94-.94-2.06-.94 2.06-2.06.94z\"/><path d=\"M17.41 7.96l-1.37-1.37c-.4-.4-.92-.59-1.43-.59-.52 0-1.04.2-1.43.59L10.3 9.45l-7.72 7.72c-.78.78-.78 2.05 0 2.83L4 21.41c.39.39.9.59 1.41.59.51 0 1.02-.2 1.41-.59l7.78-7.78 2.81-2.81c.8-.78.8-2.07 0-2.86zM5.41 20L4 18.59l7.72-7.72 1.47 1.35L5.41 20z\"/>\n",
              "  </svg>\n",
              "      </button>\n",
              "      \n",
              "  <style>\n",
              "    .colab-df-container {\n",
              "      display:flex;\n",
              "      flex-wrap:wrap;\n",
              "      gap: 12px;\n",
              "    }\n",
              "\n",
              "    .colab-df-convert {\n",
              "      background-color: #E8F0FE;\n",
              "      border: none;\n",
              "      border-radius: 50%;\n",
              "      cursor: pointer;\n",
              "      display: none;\n",
              "      fill: #1967D2;\n",
              "      height: 32px;\n",
              "      padding: 0 0 0 0;\n",
              "      width: 32px;\n",
              "    }\n",
              "\n",
              "    .colab-df-convert:hover {\n",
              "      background-color: #E2EBFA;\n",
              "      box-shadow: 0px 1px 2px rgba(60, 64, 67, 0.3), 0px 1px 3px 1px rgba(60, 64, 67, 0.15);\n",
              "      fill: #174EA6;\n",
              "    }\n",
              "\n",
              "    [theme=dark] .colab-df-convert {\n",
              "      background-color: #3B4455;\n",
              "      fill: #D2E3FC;\n",
              "    }\n",
              "\n",
              "    [theme=dark] .colab-df-convert:hover {\n",
              "      background-color: #434B5C;\n",
              "      box-shadow: 0px 1px 3px 1px rgba(0, 0, 0, 0.15);\n",
              "      filter: drop-shadow(0px 1px 2px rgba(0, 0, 0, 0.3));\n",
              "      fill: #FFFFFF;\n",
              "    }\n",
              "  </style>\n",
              "\n",
              "      <script>\n",
              "        const buttonEl =\n",
              "          document.querySelector('#df-38d555ce-b906-4536-b2a6-1e867c58fc15 button.colab-df-convert');\n",
              "        buttonEl.style.display =\n",
              "          google.colab.kernel.accessAllowed ? 'block' : 'none';\n",
              "\n",
              "        async function convertToInteractive(key) {\n",
              "          const element = document.querySelector('#df-38d555ce-b906-4536-b2a6-1e867c58fc15');\n",
              "          const dataTable =\n",
              "            await google.colab.kernel.invokeFunction('convertToInteractive',\n",
              "                                                     [key], {});\n",
              "          if (!dataTable) return;\n",
              "\n",
              "          const docLinkHtml = 'Like what you see? Visit the ' +\n",
              "            '<a target=\"_blank\" href=https://colab.research.google.com/notebooks/data_table.ipynb>data table notebook</a>'\n",
              "            + ' to learn more about interactive tables.';\n",
              "          element.innerHTML = '';\n",
              "          dataTable['output_type'] = 'display_data';\n",
              "          await google.colab.output.renderOutput(dataTable, element);\n",
              "          const docLink = document.createElement('div');\n",
              "          docLink.innerHTML = docLinkHtml;\n",
              "          element.appendChild(docLink);\n",
              "        }\n",
              "      </script>\n",
              "    </div>\n",
              "  </div>\n",
              "  "
            ]
          },
          "metadata": {},
          "execution_count": 4
        }
      ]
    },
    {
      "cell_type": "code",
      "source": [
        "for i in df.columns[1:]:\n",
        "  df[i]=df[i].apply(lambda X : float(str(X).replace(',','.')) )"
      ],
      "metadata": {
        "id": "arl7QJ5NUvG4"
      },
      "execution_count": 5,
      "outputs": []
    },
    {
      "cell_type": "markdown",
      "source": [
        "plotting data"
      ],
      "metadata": {
        "id": "Dco2WmN3kbkU"
      }
    },
    {
      "cell_type": "code",
      "source": [
        "fig = plt.figure(figsize=(20,15))\n",
        "df.drop('DATE',axis=1).plot()\n",
        "plt.show()"
      ],
      "metadata": {
        "colab": {
          "base_uri": "https://localhost:8080/",
          "height": 282
        },
        "id": "ld102TASUySQ",
        "outputId": "2dcdc666-df46-4187-c9ba-8f5807ecdc8e"
      },
      "execution_count": 6,
      "outputs": [
        {
          "output_type": "display_data",
          "data": {
            "text/plain": [
              "<Figure size 1440x1080 with 0 Axes>"
            ]
          },
          "metadata": {}
        },
        {
          "output_type": "display_data",
          "data": {
            "text/plain": [
              "<Figure size 432x288 with 1 Axes>"
            ],
            "image/png": "[encoded data removed]"
          },
          "metadata": {
            "needs_background": "light"
          }
        }
      ]
    },
    {
      "cell_type": "markdown",
      "source": [
        "prepare time series for the TUNINDEX market index "
      ],
      "metadata": {
        "id": "_K2cB-RxkeJ5"
      }
    },
    {
      "cell_type": "code",
      "source": [
        "data=df[['DATE','TUNINDEX']]\n",
        "data.head()"
      ],
      "metadata": {
        "colab": {
          "base_uri": "https://localhost:8080/",
          "height": 206
        },
        "id": "Ii3yglhwU5bM",
        "outputId": "c3dfcfce-3ec7-48f3-c2f5-2bd9b2b1c17b"
      },
      "execution_count": 7,
      "outputs": [
        {
          "output_type": "execute_result",
          "data": {
            "text/plain": [
              "         DATE  TUNINDEX\n",
              "0  02/01/2013   4621.99\n",
              "1  03/01/2013   4642.08\n",
              "2  04/01/2013   4654.33\n",
              "3  07/01/2013   4652.74\n",
              "4  08/01/2013   4634.63"
            ],
            "text/html": [
              "\n",
              "  <div id=\"df-8b0f4410-e1ed-4c0e-a8e0-92962e8efb41\">\n",
              "    <div class=\"colab-df-container\">\n",
              "      <div>\n",
              "<style scoped>\n",
              "    .dataframe tbody tr th:only-of-type {\n",
              "        vertical-align: middle;\n",
              "    }\n",
              "\n",
              "    .dataframe tbody tr th {\n",
              "        vertical-align: top;\n",
              "    }\n",
              "\n",
              "    .dataframe thead th {\n",
              "        text-align: right;\n",
              "    }\n",
              "</style>\n",
              "<table border=\"1\" class=\"dataframe\">\n",
              "  <thead>\n",
              "    <tr style=\"text-align: right;\">\n",
              "      <th></th>\n",
              "      <th>DATE</th>\n",
              "      <th>TUNINDEX</th>\n",
              "    </tr>\n",
              "  </thead>\n",
              "  <tbody>\n",
              "    <tr>\n",
              "      <th>0</th>\n",
              "      <td>02/01/2013</td>\n",
              "      <td>4621.99</td>\n",
              "    </tr>\n",
              "    <tr>\n",
              "      <th>1</th>\n",
              "      <td>03/01/2013</td>\n",
              "      <td>4642.08</td>\n",
              "    </tr>\n",
              "    <tr>\n",
              "      <th>2</th>\n",
              "      <td>04/01/2013</td>\n",
              "      <td>4654.33</td>\n",
              "    </tr>\n",
              "    <tr>\n",
              "      <th>3</th>\n",
              "      <td>07/01/2013</td>\n",
              "      <td>4652.74</td>\n",
              "    </tr>\n",
              "    <tr>\n",
              "      <th>4</th>\n",
              "      <td>08/01/2013</td>\n",
              "      <td>4634.63</td>\n",
              "    </tr>\n",
              "  </tbody>\n",
              "</table>\n",
              "</div>\n",
              "      <button class=\"colab-df-convert\" onclick=\"convertToInteractive('df-8b0f4410-e1ed-4c0e-a8e0-92962e8efb41')\"\n",
              "              title=\"Convert this dataframe to an interactive table.\"\n",
              "              style=\"display:none;\">\n",
              "        \n",
              "  <svg xmlns=\"http://www.w3.org/2000/svg\" height=\"24px\"viewBox=\"0 0 24 24\"\n",
              "       width=\"24px\">\n",
              "    <path d=\"M0 0h24v24H0V0z\" fill=\"none\"/>\n",
              "    <path d=\"M18.56 5.44l.94 2.06.94-2.06 2.06-.94-2.06-.94-.94-2.06-.94 2.06-2.06.94zm-11 1L8.5 8.5l.94-2.06 2.06-.94-2.06-.94L8.5 2.5l-.94 2.06-2.06.94zm10 10l.94 2.06.94-2.06 2.06-.94-2.06-.94-.94-2.06-.94 2.06-2.06.94z\"/><path d=\"M17.41 7.96l-1.37-1.37c-.4-.4-.92-.59-1.43-.59-.52 0-1.04.2-1.43.59L10.3 9.45l-7.72 7.72c-.78.78-.78 2.05 0 2.83L4 21.41c.39.39.9.59 1.41.59.51 0 1.02-.2 1.41-.59l7.78-7.78 2.81-2.81c.8-.78.8-2.07 0-2.86zM5.41 20L4 18.59l7.72-7.72 1.47 1.35L5.41 20z\"/>\n",
              "  </svg>\n",
              "      </button>\n",
              "      \n",
              "  <style>\n",
              "    .colab-df-container {\n",
              "      display:flex;\n",
              "      flex-wrap:wrap;\n",
              "      gap: 12px;\n",
              "    }\n",
              "\n",
              "    .colab-df-convert {\n",
              "      background-color: #E8F0FE;\n",
              "      border: none;\n",
              "      border-radius: 50%;\n",
              "      cursor: pointer;\n",
              "      display: none;\n",
              "      fill: #1967D2;\n",
              "      height: 32px;\n",
              "      padding: 0 0 0 0;\n",
              "      width: 32px;\n",
              "    }\n",
              "\n",
              "    .colab-df-convert:hover {\n",
              "      background-color: #E2EBFA;\n",
              "      box-shadow: 0px 1px 2px rgba(60, 64, 67, 0.3), 0px 1px 3px 1px rgba(60, 64, 67, 0.15);\n",
              "      fill: #174EA6;\n",
              "    }\n",
              "\n",
              "    [theme=dark] .colab-df-convert {\n",
              "      background-color: #3B4455;\n",
              "      fill: #D2E3FC;\n",
              "    }\n",
              "\n",
              "    [theme=dark] .colab-df-convert:hover {\n",
              "      background-color: #434B5C;\n",
              "      box-shadow: 0px 1px 3px 1px rgba(0, 0, 0, 0.15);\n",
              "      filter: drop-shadow(0px 1px 2px rgba(0, 0, 0, 0.3));\n",
              "      fill: #FFFFFF;\n",
              "    }\n",
              "  </style>\n",
              "\n",
              "      <script>\n",
              "        const buttonEl =\n",
              "          document.querySelector('#df-8b0f4410-e1ed-4c0e-a8e0-92962e8efb41 button.colab-df-convert');\n",
              "        buttonEl.style.display =\n",
              "          google.colab.kernel.accessAllowed ? 'block' : 'none';\n",
              "\n",
              "        async function convertToInteractive(key) {\n",
              "          const element = document.querySelector('#df-8b0f4410-e1ed-4c0e-a8e0-92962e8efb41');\n",
              "          const dataTable =\n",
              "            await google.colab.kernel.invokeFunction('convertToInteractive',\n",
              "                                                     [key], {});\n",
              "          if (!dataTable) return;\n",
              "\n",
              "          const docLinkHtml = 'Like what you see? Visit the ' +\n",
              "            '<a target=\"_blank\" href=https://colab.research.google.com/notebooks/data_table.ipynb>data table notebook</a>'\n",
              "            + ' to learn more about interactive tables.';\n",
              "          element.innerHTML = '';\n",
              "          dataTable['output_type'] = 'display_data';\n",
              "          await google.colab.output.renderOutput(dataTable, element);\n",
              "          const docLink = document.createElement('div');\n",
              "          docLink.innerHTML = docLinkHtml;\n",
              "          element.appendChild(docLink);\n",
              "        }\n",
              "      </script>\n",
              "    </div>\n",
              "  </div>\n",
              "  "
            ]
          },
          "metadata": {},
          "execution_count": 7
        }
      ]
    },
    {
      "cell_type": "code",
      "source": [
        "data['DATE']=pd.to_datetime(data['DATE'])\n",
        "data.head()"
      ],
      "metadata": {
        "colab": {
          "base_uri": "https://localhost:8080/",
          "height": 330
        },
        "id": "49p-Od2OVfwj",
        "outputId": "61dfee40-1b0d-48c3-cdf9-1485fff926ee"
      },
      "execution_count": 8,
      "outputs": [
        {
          "output_type": "stream",
          "name": "stderr",
          "text": [
            "/usr/local/lib/python3.7/dist-packages/ipykernel_launcher.py:1: SettingWithCopyWarning: \n",
            "A value is trying to be set on a copy of a slice from a DataFrame.\n",
            "Try using .loc[row_indexer,col_indexer] = value instead\n",
            "\n",
            "See the caveats in the documentation: https://pandas.pydata.org/pandas-docs/stable/user_guide/indexing.html#returning-a-view-versus-a-copy\n",
            "  \"\"\"Entry point for launching an IPython kernel.\n"
          ]
        },
        {
          "output_type": "execute_result",
          "data": {
            "text/plain": [
              "        DATE  TUNINDEX\n",
              "0 2013-02-01   4621.99\n",
              "1 2013-03-01   4642.08\n",
              "2 2013-04-01   4654.33\n",
              "3 2013-07-01   4652.74\n",
              "4 2013-08-01   4634.63"
            ],
            "text/html": [
              "\n",
              "  <div id=\"df-1e5d5e2c-632f-473a-a21b-260f3def3694\">\n",
              "    <div class=\"colab-df-container\">\n",
              "      <div>\n",
              "<style scoped>\n",
              "    .dataframe tbody tr th:only-of-type {\n",
              "        vertical-align: middle;\n",
              "    }\n",
              "\n",
              "    .dataframe tbody tr th {\n",
              "        vertical-align: top;\n",
              "    }\n",
              "\n",
              "    .dataframe thead th {\n",
              "        text-align: right;\n",
              "    }\n",
              "</style>\n",
              "<table border=\"1\" class=\"dataframe\">\n",
              "  <thead>\n",
              "    <tr style=\"text-align: right;\">\n",
              "      <th></th>\n",
              "      <th>DATE</th>\n",
              "      <th>TUNINDEX</th>\n",
              "    </tr>\n",
              "  </thead>\n",
              "  <tbody>\n",
              "    <tr>\n",
              "      <th>0</th>\n",
              "      <td>2013-02-01</td>\n",
              "      <td>4621.99</td>\n",
              "    </tr>\n",
              "    <tr>\n",
              "      <th>1</th>\n",
              "      <td>2013-03-01</td>\n",
              "      <td>4642.08</td>\n",
              "    </tr>\n",
              "    <tr>\n",
              "      <th>2</th>\n",
              "      <td>2013-04-01</td>\n",
              "      <td>4654.33</td>\n",
              "    </tr>\n",
              "    <tr>\n",
              "      <th>3</th>\n",
              "      <td>2013-07-01</td>\n",
              "      <td>4652.74</td>\n",
              "    </tr>\n",
              "    <tr>\n",
              "      <th>4</th>\n",
              "      <td>2013-08-01</td>\n",
              "      <td>4634.63</td>\n",
              "    </tr>\n",
              "  </tbody>\n",
              "</table>\n",
              "</div>\n",
              "      <button class=\"colab-df-convert\" onclick=\"convertToInteractive('df-1e5d5e2c-632f-473a-a21b-260f3def3694')\"\n",
              "              title=\"Convert this dataframe to an interactive table.\"\n",
              "              style=\"display:none;\">\n",
              "        \n",
              "  <svg xmlns=\"http://www.w3.org/2000/svg\" height=\"24px\"viewBox=\"0 0 24 24\"\n",
              "       width=\"24px\">\n",
              "    <path d=\"M0 0h24v24H0V0z\" fill=\"none\"/>\n",
              "    <path d=\"M18.56 5.44l.94 2.06.94-2.06 2.06-.94-2.06-.94-.94-2.06-.94 2.06-2.06.94zm-11 1L8.5 8.5l.94-2.06 2.06-.94-2.06-.94L8.5 2.5l-.94 2.06-2.06.94zm10 10l.94 2.06.94-2.06 2.06-.94-2.06-.94-.94-2.06-.94 2.06-2.06.94z\"/><path d=\"M17.41 7.96l-1.37-1.37c-.4-.4-.92-.59-1.43-.59-.52 0-1.04.2-1.43.59L10.3 9.45l-7.72 7.72c-.78.78-.78 2.05 0 2.83L4 21.41c.39.39.9.59 1.41.59.51 0 1.02-.2 1.41-.59l7.78-7.78 2.81-2.81c.8-.78.8-2.07 0-2.86zM5.41 20L4 18.59l7.72-7.72 1.47 1.35L5.41 20z\"/>\n",
              "  </svg>\n",
              "      </button>\n",
              "      \n",
              "  <style>\n",
              "    .colab-df-container {\n",
              "      display:flex;\n",
              "      flex-wrap:wrap;\n",
              "      gap: 12px;\n",
              "    }\n",
              "\n",
              "    .colab-df-convert {\n",
              "      background-color: #E8F0FE;\n",
              "      border: none;\n",
              "      border-radius: 50%;\n",
              "      cursor: pointer;\n",
              "      display: none;\n",
              "      fill: #1967D2;\n",
              "      height: 32px;\n",
              "      padding: 0 0 0 0;\n",
              "      width: 32px;\n",
              "    }\n",
              "\n",
              "    .colab-df-convert:hover {\n",
              "      background-color: #E2EBFA;\n",
              "      box-shadow: 0px 1px 2px rgba(60, 64, 67, 0.3), 0px 1px 3px 1px rgba(60, 64, 67, 0.15);\n",
              "      fill: #174EA6;\n",
              "    }\n",
              "\n",
              "    [theme=dark] .colab-df-convert {\n",
              "      background-color: #3B4455;\n",
              "      fill: #D2E3FC;\n",
              "    }\n",
              "\n",
              "    [theme=dark] .colab-df-convert:hover {\n",
              "      background-color: #434B5C;\n",
              "      box-shadow: 0px 1px 3px 1px rgba(0, 0, 0, 0.15);\n",
              "      filter: drop-shadow(0px 1px 2px rgba(0, 0, 0, 0.3));\n",
              "      fill: #FFFFFF;\n",
              "    }\n",
              "  </style>\n",
              "\n",
              "      <script>\n",
              "        const buttonEl =\n",
              "          document.querySelector('#df-1e5d5e2c-632f-473a-a21b-260f3def3694 button.colab-df-convert');\n",
              "        buttonEl.style.display =\n",
              "          google.colab.kernel.accessAllowed ? 'block' : 'none';\n",
              "\n",
              "        async function convertToInteractive(key) {\n",
              "          const element = document.querySelector('#df-1e5d5e2c-632f-473a-a21b-260f3def3694');\n",
              "          const dataTable =\n",
              "            await google.colab.kernel.invokeFunction('convertToInteractive',\n",
              "                                                     [key], {});\n",
              "          if (!dataTable) return;\n",
              "\n",
              "          const docLinkHtml = 'Like what you see? Visit the ' +\n",
              "            '<a target=\"_blank\" href=https://colab.research.google.com/notebooks/data_table.ipynb>data table notebook</a>'\n",
              "            + ' to learn more about interactive tables.';\n",
              "          element.innerHTML = '';\n",
              "          dataTable['output_type'] = 'display_data';\n",
              "          await google.colab.output.renderOutput(dataTable, element);\n",
              "          const docLink = document.createElement('div');\n",
              "          docLink.innerHTML = docLinkHtml;\n",
              "          element.appendChild(docLink);\n",
              "        }\n",
              "      </script>\n",
              "    </div>\n",
              "  </div>\n",
              "  "
            ]
          },
          "metadata": {},
          "execution_count": 8
        }
      ]
    },
    {
      "cell_type": "code",
      "source": [
        "data.set_index('DATE',inplace=True)"
      ],
      "metadata": {
        "id": "rSyGK2RhVh_q"
      },
      "execution_count": 9,
      "outputs": []
    },
    {
      "cell_type": "code",
      "source": [
        "data"
      ],
      "metadata": {
        "colab": {
          "base_uri": "https://localhost:8080/",
          "height": 455
        },
        "id": "gEkOruLqVvx5",
        "outputId": "17f75f73-5a59-40e8-e817-4f4333e4f8ea"
      },
      "execution_count": 10,
      "outputs": [
        {
          "output_type": "execute_result",
          "data": {
            "text/plain": [
              "            TUNINDEX\n",
              "DATE                \n",
              "2013-02-01   4621.99\n",
              "2013-03-01   4642.08\n",
              "2013-04-01   4654.33\n",
              "2013-07-01   4652.74\n",
              "2013-08-01   4634.63\n",
              "...              ...\n",
              "2018-12-25   7171.03\n",
              "2018-12-26   7171.42\n",
              "2018-12-27   7202.72\n",
              "2018-12-28   7259.67\n",
              "2018-12-31   7271.65\n",
              "\n",
              "[1496 rows x 1 columns]"
            ],
            "text/html": [
              "\n",
              "  <div id=\"df-5b750c3e-1d98-4359-8b7d-da97210caa34\">\n",
              "    <div class=\"colab-df-container\">\n",
              "      <div>\n",
              "<style scoped>\n",
              "    .dataframe tbody tr th:only-of-type {\n",
              "        vertical-align: middle;\n",
              "    }\n",
              "\n",
              "    .dataframe tbody tr th {\n",
              "        vertical-align: top;\n",
              "    }\n",
              "\n",
              "    .dataframe thead th {\n",
              "        text-align: right;\n",
              "    }\n",
              "</style>\n",
              "<table border=\"1\" class=\"dataframe\">\n",
              "  <thead>\n",
              "    <tr style=\"text-align: right;\">\n",
              "      <th></th>\n",
              "      <th>TUNINDEX</th>\n",
              "    </tr>\n",
              "    <tr>\n",
              "      <th>DATE</th>\n",
              "      <th></th>\n",
              "    </tr>\n",
              "  </thead>\n",
              "  <tbody>\n",
              "    <tr>\n",
              "      <th>2013-02-01</th>\n",
              "      <td>4621.99</td>\n",
              "    </tr>\n",
              "    <tr>\n",
              "      <th>2013-03-01</th>\n",
              "      <td>4642.08</td>\n",
              "    </tr>\n",
              "    <tr>\n",
              "      <th>2013-04-01</th>\n",
              "      <td>4654.33</td>\n",
              "    </tr>\n",
              "    <tr>\n",
              "      <th>2013-07-01</th>\n",
              "      <td>4652.74</td>\n",
              "    </tr>\n",
              "    <tr>\n",
              "      <th>2013-08-01</th>\n",
              "      <td>4634.63</td>\n",
              "    </tr>\n",
              "    <tr>\n",
              "      <th>...</th>\n",
              "      <td>...</td>\n",
              "    </tr>\n",
              "    <tr>\n",
              "      <th>2018-12-25</th>\n",
              "      <td>7171.03</td>\n",
              "    </tr>\n",
              "    <tr>\n",
              "      <th>2018-12-26</th>\n",
              "      <td>7171.42</td>\n",
              "    </tr>\n",
              "    <tr>\n",
              "      <th>2018-12-27</th>\n",
              "      <td>7202.72</td>\n",
              "    </tr>\n",
              "    <tr>\n",
              "      <th>2018-12-28</th>\n",
              "      <td>7259.67</td>\n",
              "    </tr>\n",
              "    <tr>\n",
              "      <th>2018-12-31</th>\n",
              "      <td>7271.65</td>\n",
              "    </tr>\n",
              "  </tbody>\n",
              "</table>\n",
              "<p>1496 rows × 1 columns</p>\n",
              "</div>\n",
              "      <button class=\"colab-df-convert\" onclick=\"convertToInteractive('df-5b750c3e-1d98-4359-8b7d-da97210caa34')\"\n",
              "              title=\"Convert this dataframe to an interactive table.\"\n",
              "              style=\"display:none;\">\n",
              "        \n",
              "  <svg xmlns=\"http://www.w3.org/2000/svg\" height=\"24px\"viewBox=\"0 0 24 24\"\n",
              "       width=\"24px\">\n",
              "    <path d=\"M0 0h24v24H0V0z\" fill=\"none\"/>\n",
              "    <path d=\"M18.56 5.44l.94 2.06.94-2.06 2.06-.94-2.06-.94-.94-2.06-.94 2.06-2.06.94zm-11 1L8.5 8.5l.94-2.06 2.06-.94-2.06-.94L8.5 2.5l-.94 2.06-2.06.94zm10 10l.94 2.06.94-2.06 2.06-.94-2.06-.94-.94-2.06-.94 2.06-2.06.94z\"/><path d=\"M17.41 7.96l-1.37-1.37c-.4-.4-.92-.59-1.43-.59-.52 0-1.04.2-1.43.59L10.3 9.45l-7.72 7.72c-.78.78-.78 2.05 0 2.83L4 21.41c.39.39.9.59 1.41.59.51 0 1.02-.2 1.41-.59l7.78-7.78 2.81-2.81c.8-.78.8-2.07 0-2.86zM5.41 20L4 18.59l7.72-7.72 1.47 1.35L5.41 20z\"/>\n",
              "  </svg>\n",
              "      </button>\n",
              "      \n",
              "  <style>\n",
              "    .colab-df-container {\n",
              "      display:flex;\n",
              "      flex-wrap:wrap;\n",
              "      gap: 12px;\n",
              "    }\n",
              "\n",
              "    .colab-df-convert {\n",
              "      background-color: #E8F0FE;\n",
              "      border: none;\n",
              "      border-radius: 50%;\n",
              "      cursor: pointer;\n",
              "      display: none;\n",
              "      fill: #1967D2;\n",
              "      height: 32px;\n",
              "      padding: 0 0 0 0;\n",
              "      width: 32px;\n",
              "    }\n",
              "\n",
              "    .colab-df-convert:hover {\n",
              "      background-color: #E2EBFA;\n",
              "      box-shadow: 0px 1px 2px rgba(60, 64, 67, 0.3), 0px 1px 3px 1px rgba(60, 64, 67, 0.15);\n",
              "      fill: #174EA6;\n",
              "    }\n",
              "\n",
              "    [theme=dark] .colab-df-convert {\n",
              "      background-color: #3B4455;\n",
              "      fill: #D2E3FC;\n",
              "    }\n",
              "\n",
              "    [theme=dark] .colab-df-convert:hover {\n",
              "      background-color: #434B5C;\n",
              "      box-shadow: 0px 1px 3px 1px rgba(0, 0, 0, 0.15);\n",
              "      filter: drop-shadow(0px 1px 2px rgba(0, 0, 0, 0.3));\n",
              "      fill: #FFFFFF;\n",
              "    }\n",
              "  </style>\n",
              "\n",
              "      <script>\n",
              "        const buttonEl =\n",
              "          document.querySelector('#df-5b750c3e-1d98-4359-8b7d-da97210caa34 button.colab-df-convert');\n",
              "        buttonEl.style.display =\n",
              "          google.colab.kernel.accessAllowed ? 'block' : 'none';\n",
              "\n",
              "        async function convertToInteractive(key) {\n",
              "          const element = document.querySelector('#df-5b750c3e-1d98-4359-8b7d-da97210caa34');\n",
              "          const dataTable =\n",
              "            await google.colab.kernel.invokeFunction('convertToInteractive',\n",
              "                                                     [key], {});\n",
              "          if (!dataTable) return;\n",
              "\n",
              "          const docLinkHtml = 'Like what you see? Visit the ' +\n",
              "            '<a target=\"_blank\" href=https://colab.research.google.com/notebooks/data_table.ipynb>data table notebook</a>'\n",
              "            + ' to learn more about interactive tables.';\n",
              "          element.innerHTML = '';\n",
              "          dataTable['output_type'] = 'display_data';\n",
              "          await google.colab.output.renderOutput(dataTable, element);\n",
              "          const docLink = document.createElement('div');\n",
              "          docLink.innerHTML = docLinkHtml;\n",
              "          element.appendChild(docLink);\n",
              "        }\n",
              "      </script>\n",
              "    </div>\n",
              "  </div>\n",
              "  "
            ]
          },
          "metadata": {},
          "execution_count": 10
        }
      ]
    },
    {
      "cell_type": "markdown",
      "source": [
        "plotting the time series"
      ],
      "metadata": {
        "id": "YOllela2kqyE"
      }
    },
    {
      "cell_type": "code",
      "source": [
        "data.plot(figsize=(8,5))"
      ],
      "metadata": {
        "colab": {
          "base_uri": "https://localhost:8080/",
          "height": 335
        },
        "id": "ivoYJXYLVxxX",
        "outputId": "58003e08-ef9f-499f-b4b0-bf3bc288b0fc"
      },
      "execution_count": 11,
      "outputs": [
        {
          "output_type": "execute_result",
          "data": {
            "text/plain": [
              "<matplotlib.axes._subplots.AxesSubplot at 0x7f2af45a97d0>"
            ]
          },
          "metadata": {},
          "execution_count": 11
        },
        {
          "output_type": "display_data",
          "data": {
            "text/plain": [
              "<Figure size 576x360 with 1 Axes>"
            ],
            "image/png": "[encoded data removed]"
          },
          "metadata": {
            "needs_background": "light"
          }
        }
      ]
    },
    {
      "cell_type": "markdown",
      "source": [
        "scaling the data"
      ],
      "metadata": {
        "id": "F6wbot_9kuSY"
      }
    },
    {
      "cell_type": "code",
      "source": [
        "from sklearn.preprocessing import MinMaxScaler\n",
        "scaler=MinMaxScaler(feature_range=(0,1))\n",
        "data_sc=scaler.fit_transform(np.array(data).reshape(-1,1))\n",
        "data_sc"
      ],
      "metadata": {
        "colab": {
          "base_uri": "https://localhost:8080/"
        },
        "id": "q6zDOT2oV5RC",
        "outputId": "673c4760-38e2-44a3-fb9d-430ffe1ad025"
      },
      "execution_count": 12,
      "outputs": [
        {
          "output_type": "execute_result",
          "data": {
            "text/plain": [
              "array([[0.06944848],\n",
              "       [0.0743557 ],\n",
              "       [0.0773479 ],\n",
              "       ...,\n",
              "       [0.69982193],\n",
              "       [0.71373264],\n",
              "       [0.71665889]])"
            ]
          },
          "metadata": {},
          "execution_count": 12
        }
      ]
    },
    {
      "cell_type": "markdown",
      "source": [
        "spliting the data"
      ],
      "metadata": {
        "id": "LFQsurVEkxqd"
      }
    },
    {
      "cell_type": "code",
      "source": [
        "training_size=int(len(data_sc)*0.7)\n",
        "val_size=int(len(data_sc)*0.15)\n",
        "test_size=len(data_sc)-training_size-val_size\n",
        "train_data,val_data,test_data=data_sc[0:training_size],data_sc[training_size:training_size+val_size],data_sc[training_size+val_size:len(data_sc)]"
      ],
      "metadata": {
        "id": "xzOJAxffWELf"
      },
      "execution_count": 13,
      "outputs": []
    },
    {
      "cell_type": "code",
      "source": [
        "print(train_data)"
      ],
      "metadata": {
        "colab": {
          "base_uri": "https://localhost:8080/"
        },
        "id": "itQ41VcUWgPv",
        "outputId": "fa630097-ad4c-4b8c-cd3a-b0fea89c3a4d"
      },
      "execution_count": 14,
      "outputs": [
        {
          "output_type": "stream",
          "name": "stdout",
          "text": [
            "[[0.06944848]\n",
            " [0.0743557 ]\n",
            " [0.0773479 ]\n",
            " ...\n",
            " [0.30091574]\n",
            " [0.29932559]\n",
            " [0.30230803]]\n"
          ]
        }
      ]
    },
    {
      "cell_type": "code",
      "source": [
        "training_size,val_size,test_size"
      ],
      "metadata": {
        "colab": {
          "base_uri": "https://localhost:8080/"
        },
        "id": "8L-d6oFTWm4p",
        "outputId": "ddb8589d-9eb3-4a97-cc50-fe85eb661053"
      },
      "execution_count": 23,
      "outputs": [
        {
          "output_type": "execute_result",
          "data": {
            "text/plain": [
              "(1047, 224, 225)"
            ]
          },
          "metadata": {},
          "execution_count": 23
        }
      ]
    },
    {
      "cell_type": "markdown",
      "source": [
        "prepare datasets for lstm model"
      ],
      "metadata": {
        "id": "99Pmit0Sk00c"
      }
    },
    {
      "cell_type": "code",
      "source": [
        "def create_dataset(dataset, time_step=1):\n",
        "\tdataX, dataY = [], []\n",
        "\tfor i in range(len(dataset)-time_step-1):\n",
        "\t\ta = dataset[i:(i+time_step), 0]    \n",
        "\t\tdataX.append(a)\n",
        "\t\tdataY.append(dataset[i + time_step, 0])\n",
        "\treturn np.array(dataX), np.array(dataY)"
      ],
      "metadata": {
        "id": "VUcagH5ZWxo8"
      },
      "execution_count": 56,
      "outputs": []
    },
    {
      "cell_type": "code",
      "source": [
        "time_step = 100\n",
        "X_train, y_train = create_dataset(train_data, time_step)\n",
        "X_test, ytest = create_dataset(test_data, time_step)\n",
        "X_val, yval = create_dataset(val_data, time_step)"
      ],
      "metadata": {
        "id": "u-4LiDgXXILE"
      },
      "execution_count": 24,
      "outputs": []
    },
    {
      "cell_type": "code",
      "source": [
        "print(X_train.shape), print(y_train.shape) "
      ],
      "metadata": {
        "colab": {
          "base_uri": "https://localhost:8080/"
        },
        "id": "9vuqJopNXbi7",
        "outputId": "3186ff33-6e9c-40d5-b16a-f82423f84bd7"
      },
      "execution_count": 25,
      "outputs": [
        {
          "output_type": "stream",
          "name": "stdout",
          "text": [
            "(946, 100)\n",
            "(946,)\n"
          ]
        },
        {
          "output_type": "execute_result",
          "data": {
            "text/plain": [
              "(None, None)"
            ]
          },
          "metadata": {},
          "execution_count": 25
        }
      ]
    },
    {
      "cell_type": "code",
      "source": [
        "X_train =X_train.reshape(X_train.shape[0],X_train.shape[1] , 1)\n",
        "X_test = X_test.reshape(X_test.shape[0],X_test.shape[1] , 1)\n",
        "X_val = X_val.reshape(X_val.shape[0],X_val.shape[1] , 1)"
      ],
      "metadata": {
        "id": "ObVXzoxtXejU"
      },
      "execution_count": 26,
      "outputs": []
    },
    {
      "cell_type": "markdown",
      "source": [
        "build the model"
      ],
      "metadata": {
        "id": "megpaJ_0k6YW"
      }
    },
    {
      "cell_type": "code",
      "source": [
        "model=Sequential()\n",
        "model.add(LSTM(50,return_sequences=True,input_shape=(100,1)))\n",
        "model.add(LSTM(50,return_sequences=True))\n",
        "model.add(LSTM(50))\n",
        "model.add(Dense(1))\n",
        "model.compile(loss='mean_squared_error',optimizer='adam')"
      ],
      "metadata": {
        "id": "xu24GWooXoPv"
      },
      "execution_count": 30,
      "outputs": []
    },
    {
      "cell_type": "code",
      "source": [
        "model.summary()"
      ],
      "metadata": {
        "colab": {
          "base_uri": "https://localhost:8080/"
        },
        "id": "_pEubc51XsUN",
        "outputId": "e1a4e75c-6d5d-448f-dde2-159c9fb85e0d"
      },
      "execution_count": 31,
      "outputs": [
        {
          "output_type": "stream",
          "name": "stdout",
          "text": [
            "Model: \"sequential_2\"\n",
            "_________________________________________________________________\n",
            " Layer (type)                Output Shape              Param #   \n",
            "=================================================================\n",
            " lstm_6 (LSTM)               (None, 100, 50)           10400     \n",
            "                                                                 \n",
            " lstm_7 (LSTM)               (None, 100, 50)           20200     \n",
            "                                                                 \n",
            " lstm_8 (LSTM)               (None, 50)                20200     \n",
            "                                                                 \n",
            " dense_2 (Dense)             (None, 1)                 51        \n",
            "                                                                 \n",
            "=================================================================\n",
            "Total params: 50,851\n",
            "Trainable params: 50,851\n",
            "Non-trainable params: 0\n",
            "_________________________________________________________________\n"
          ]
        }
      ]
    },
    {
      "cell_type": "markdown",
      "source": [
        "fitting the data"
      ],
      "metadata": {
        "id": "RhTiBFAHk9H7"
      }
    },
    {
      "cell_type": "code",
      "source": [
        "model_history=model.fit(X_train,y_train,validation_data=(X_val,yval),epochs=100,batch_size=64,verbose=1)"
      ],
      "metadata": {
        "colab": {
          "base_uri": "https://localhost:8080/"
        },
        "id": "KJpFj4dnYSXd",
        "outputId": "5a0c598b-592b-4203-8577-0df945442cca"
      },
      "execution_count": 32,
      "outputs": [
        {
          "output_type": "stream",
          "name": "stdout",
          "text": [
            "Epoch 1/100\n",
            "15/15 [==============================] - 7s 165ms/step - loss: 0.0117 - val_loss: 0.0370\n",
            "Epoch 2/100\n",
            "15/15 [==============================] - 1s 72ms/step - loss: 0.0021 - val_loss: 0.0041\n",
            "Epoch 3/100\n",
            "15/15 [==============================] - 1s 73ms/step - loss: 7.0062e-04 - val_loss: 3.5945e-04\n",
            "Epoch 4/100\n",
            "15/15 [==============================] - 1s 74ms/step - loss: 4.7311e-04 - val_loss: 4.6462e-04\n",
            "Epoch 5/100\n",
            "15/15 [==============================] - 1s 74ms/step - loss: 4.1325e-04 - val_loss: 3.5300e-04\n",
            "Epoch 6/100\n",
            "15/15 [==============================] - 1s 73ms/step - loss: 3.9298e-04 - val_loss: 3.2778e-04\n",
            "Epoch 7/100\n",
            "15/15 [==============================] - 1s 72ms/step - loss: 3.7598e-04 - val_loss: 3.1547e-04\n",
            "Epoch 8/100\n",
            "15/15 [==============================] - 1s 73ms/step - loss: 3.7430e-04 - val_loss: 3.4246e-04\n",
            "Epoch 9/100\n",
            "15/15 [==============================] - 1s 72ms/step - loss: 3.4771e-04 - val_loss: 3.3726e-04\n",
            "Epoch 10/100\n",
            "15/15 [==============================] - 1s 73ms/step - loss: 3.3247e-04 - val_loss: 2.6910e-04\n",
            "Epoch 11/100\n",
            "15/15 [==============================] - 1s 72ms/step - loss: 3.2096e-04 - val_loss: 3.5693e-04\n",
            "Epoch 12/100\n",
            "15/15 [==============================] - 1s 73ms/step - loss: 3.1848e-04 - val_loss: 4.4521e-04\n",
            "Epoch 13/100\n",
            "15/15 [==============================] - 1s 73ms/step - loss: 2.9620e-04 - val_loss: 2.7581e-04\n",
            "Epoch 14/100\n",
            "15/15 [==============================] - 1s 73ms/step - loss: 2.8174e-04 - val_loss: 2.1950e-04\n",
            "Epoch 15/100\n",
            "15/15 [==============================] - 1s 73ms/step - loss: 3.0058e-04 - val_loss: 2.0927e-04\n",
            "Epoch 16/100\n",
            "15/15 [==============================] - 1s 72ms/step - loss: 2.9186e-04 - val_loss: 2.0216e-04\n",
            "Epoch 17/100\n",
            "15/15 [==============================] - 1s 72ms/step - loss: 2.5911e-04 - val_loss: 2.9044e-04\n",
            "Epoch 18/100\n",
            "15/15 [==============================] - 1s 73ms/step - loss: 2.4968e-04 - val_loss: 2.5635e-04\n",
            "Epoch 19/100\n",
            "15/15 [==============================] - 1s 72ms/step - loss: 2.7401e-04 - val_loss: 3.7166e-04\n",
            "Epoch 20/100\n",
            "15/15 [==============================] - 1s 73ms/step - loss: 2.3396e-04 - val_loss: 3.8247e-04\n",
            "Epoch 21/100\n",
            "15/15 [==============================] - 1s 73ms/step - loss: 2.4838e-04 - val_loss: 5.5839e-04\n",
            "Epoch 22/100\n",
            "15/15 [==============================] - 1s 72ms/step - loss: 2.3076e-04 - val_loss: 5.8374e-04\n",
            "Epoch 23/100\n",
            "15/15 [==============================] - 1s 72ms/step - loss: 2.1993e-04 - val_loss: 3.3782e-04\n",
            "Epoch 24/100\n",
            "15/15 [==============================] - 1s 74ms/step - loss: 2.0894e-04 - val_loss: 5.4367e-04\n",
            "Epoch 25/100\n",
            "15/15 [==============================] - 1s 78ms/step - loss: 2.0718e-04 - val_loss: 6.8473e-04\n",
            "Epoch 26/100\n",
            "15/15 [==============================] - 1s 78ms/step - loss: 2.0194e-04 - val_loss: 3.6347e-04\n",
            "Epoch 27/100\n",
            "15/15 [==============================] - 1s 79ms/step - loss: 2.0319e-04 - val_loss: 3.1394e-04\n",
            "Epoch 28/100\n",
            "15/15 [==============================] - 1s 81ms/step - loss: 2.0047e-04 - val_loss: 7.8107e-04\n",
            "Epoch 29/100\n",
            "15/15 [==============================] - 1s 79ms/step - loss: 1.9537e-04 - val_loss: 8.8610e-04\n",
            "Epoch 30/100\n",
            "15/15 [==============================] - 1s 81ms/step - loss: 1.9653e-04 - val_loss: 9.8930e-04\n",
            "Epoch 31/100\n",
            "15/15 [==============================] - 1s 87ms/step - loss: 1.9178e-04 - val_loss: 0.0013\n",
            "Epoch 32/100\n",
            "15/15 [==============================] - 1s 73ms/step - loss: 1.9676e-04 - val_loss: 0.0012\n",
            "Epoch 33/100\n",
            "15/15 [==============================] - 1s 73ms/step - loss: 1.7472e-04 - val_loss: 5.4839e-04\n",
            "Epoch 34/100\n",
            "15/15 [==============================] - 1s 72ms/step - loss: 1.7360e-04 - val_loss: 4.9247e-04\n",
            "Epoch 35/100\n",
            "15/15 [==============================] - 1s 73ms/step - loss: 1.7283e-04 - val_loss: 9.7284e-04\n",
            "Epoch 36/100\n",
            "15/15 [==============================] - 1s 73ms/step - loss: 1.6732e-04 - val_loss: 7.7610e-04\n",
            "Epoch 37/100\n",
            "15/15 [==============================] - 1s 73ms/step - loss: 1.6621e-04 - val_loss: 5.9470e-04\n",
            "Epoch 38/100\n",
            "15/15 [==============================] - 1s 73ms/step - loss: 1.6984e-04 - val_loss: 4.8950e-04\n",
            "Epoch 39/100\n",
            "15/15 [==============================] - 1s 73ms/step - loss: 1.7111e-04 - val_loss: 9.3245e-04\n",
            "Epoch 40/100\n",
            "15/15 [==============================] - 1s 82ms/step - loss: 1.7879e-04 - val_loss: 5.6631e-04\n",
            "Epoch 41/100\n",
            "15/15 [==============================] - 1s 75ms/step - loss: 1.6701e-04 - val_loss: 3.6673e-04\n",
            "Epoch 42/100\n",
            "15/15 [==============================] - 1s 77ms/step - loss: 1.6150e-04 - val_loss: 2.3288e-04\n",
            "Epoch 43/100\n",
            "15/15 [==============================] - 1s 72ms/step - loss: 1.8562e-04 - val_loss: 2.5761e-04\n",
            "Epoch 44/100\n",
            "15/15 [==============================] - 1s 73ms/step - loss: 1.7581e-04 - val_loss: 0.0018\n",
            "Epoch 45/100\n",
            "15/15 [==============================] - 1s 73ms/step - loss: 1.9004e-04 - val_loss: 4.5969e-04\n",
            "Epoch 46/100\n",
            "15/15 [==============================] - 1s 73ms/step - loss: 1.7304e-04 - val_loss: 5.8166e-04\n",
            "Epoch 47/100\n",
            "15/15 [==============================] - 1s 73ms/step - loss: 1.5852e-04 - val_loss: 1.7266e-04\n",
            "Epoch 48/100\n",
            "15/15 [==============================] - 1s 72ms/step - loss: 1.5111e-04 - val_loss: 3.6093e-04\n",
            "Epoch 49/100\n",
            "15/15 [==============================] - 1s 73ms/step - loss: 1.4981e-04 - val_loss: 5.6782e-04\n",
            "Epoch 50/100\n",
            "15/15 [==============================] - 1s 73ms/step - loss: 1.5367e-04 - val_loss: 4.7172e-04\n",
            "Epoch 51/100\n",
            "15/15 [==============================] - 1s 73ms/step - loss: 1.5348e-04 - val_loss: 6.3835e-04\n",
            "Epoch 52/100\n",
            "15/15 [==============================] - 1s 73ms/step - loss: 1.4934e-04 - val_loss: 1.4131e-04\n",
            "Epoch 53/100\n",
            "15/15 [==============================] - 1s 73ms/step - loss: 1.6569e-04 - val_loss: 4.5473e-04\n",
            "Epoch 54/100\n",
            "15/15 [==============================] - 1s 72ms/step - loss: 1.4686e-04 - val_loss: 4.5052e-04\n",
            "Epoch 55/100\n",
            "15/15 [==============================] - 1s 73ms/step - loss: 1.4432e-04 - val_loss: 4.8933e-04\n",
            "Epoch 56/100\n",
            "15/15 [==============================] - 1s 72ms/step - loss: 1.4430e-04 - val_loss: 3.7671e-04\n",
            "Epoch 57/100\n",
            "15/15 [==============================] - 1s 74ms/step - loss: 1.4932e-04 - val_loss: 2.1338e-04\n",
            "Epoch 58/100\n",
            "15/15 [==============================] - 1s 73ms/step - loss: 1.4223e-04 - val_loss: 2.0400e-04\n",
            "Epoch 59/100\n",
            "15/15 [==============================] - 1s 73ms/step - loss: 1.4486e-04 - val_loss: 4.2330e-04\n",
            "Epoch 60/100\n",
            "15/15 [==============================] - 1s 72ms/step - loss: 1.5617e-04 - val_loss: 5.8780e-04\n",
            "Epoch 61/100\n",
            "15/15 [==============================] - 1s 73ms/step - loss: 1.6410e-04 - val_loss: 2.2759e-04\n",
            "Epoch 62/100\n",
            "15/15 [==============================] - 1s 73ms/step - loss: 1.3749e-04 - val_loss: 1.5116e-04\n",
            "Epoch 63/100\n",
            "15/15 [==============================] - 1s 73ms/step - loss: 1.3351e-04 - val_loss: 1.4509e-04\n",
            "Epoch 64/100\n",
            "15/15 [==============================] - 1s 73ms/step - loss: 1.3912e-04 - val_loss: 3.2555e-04\n",
            "Epoch 65/100\n",
            "15/15 [==============================] - 1s 74ms/step - loss: 1.4464e-04 - val_loss: 9.5450e-05\n",
            "Epoch 66/100\n",
            "15/15 [==============================] - 1s 71ms/step - loss: 1.5043e-04 - val_loss: 4.5983e-04\n",
            "Epoch 67/100\n",
            "15/15 [==============================] - 1s 73ms/step - loss: 1.3225e-04 - val_loss: 1.8185e-04\n",
            "Epoch 68/100\n",
            "15/15 [==============================] - 1s 73ms/step - loss: 1.3148e-04 - val_loss: 3.6377e-04\n",
            "Epoch 69/100\n",
            "15/15 [==============================] - 1s 72ms/step - loss: 1.2636e-04 - val_loss: 9.8774e-05\n",
            "Epoch 70/100\n",
            "15/15 [==============================] - 1s 73ms/step - loss: 1.3060e-04 - val_loss: 2.6671e-04\n",
            "Epoch 71/100\n",
            "15/15 [==============================] - 1s 73ms/step - loss: 1.4079e-04 - val_loss: 2.0703e-04\n",
            "Epoch 72/100\n",
            "15/15 [==============================] - 1s 72ms/step - loss: 1.5201e-04 - val_loss: 4.5822e-04\n",
            "Epoch 73/100\n",
            "15/15 [==============================] - 1s 72ms/step - loss: 1.4905e-04 - val_loss: 9.6808e-04\n",
            "Epoch 74/100\n",
            "15/15 [==============================] - 1s 73ms/step - loss: 1.3631e-04 - val_loss: 1.9023e-04\n",
            "Epoch 75/100\n",
            "15/15 [==============================] - 1s 73ms/step - loss: 1.2651e-04 - val_loss: 8.4261e-05\n",
            "Epoch 76/100\n",
            "15/15 [==============================] - 1s 72ms/step - loss: 1.3694e-04 - val_loss: 5.6173e-04\n",
            "Epoch 77/100\n",
            "15/15 [==============================] - 1s 72ms/step - loss: 1.2707e-04 - val_loss: 1.1525e-04\n",
            "Epoch 78/100\n",
            "15/15 [==============================] - 1s 73ms/step - loss: 1.2470e-04 - val_loss: 3.9123e-04\n",
            "Epoch 79/100\n",
            "15/15 [==============================] - 1s 73ms/step - loss: 1.2875e-04 - val_loss: 7.4610e-05\n",
            "Epoch 80/100\n",
            "15/15 [==============================] - 1s 72ms/step - loss: 1.4137e-04 - val_loss: 2.8795e-04\n",
            "Epoch 81/100\n",
            "15/15 [==============================] - 1s 72ms/step - loss: 1.2158e-04 - val_loss: 9.3717e-05\n",
            "Epoch 82/100\n",
            "15/15 [==============================] - 1s 73ms/step - loss: 1.3985e-04 - val_loss: 7.2170e-05\n",
            "Epoch 83/100\n",
            "15/15 [==============================] - 1s 73ms/step - loss: 1.3741e-04 - val_loss: 6.5663e-04\n",
            "Epoch 84/100\n",
            "15/15 [==============================] - 1s 72ms/step - loss: 1.2494e-04 - val_loss: 6.8149e-04\n",
            "Epoch 85/100\n",
            "15/15 [==============================] - 1s 72ms/step - loss: 1.2053e-04 - val_loss: 3.4866e-04\n",
            "Epoch 86/100\n",
            "15/15 [==============================] - 1s 74ms/step - loss: 1.1507e-04 - val_loss: 4.6219e-04\n",
            "Epoch 87/100\n",
            "15/15 [==============================] - 1s 73ms/step - loss: 1.1060e-04 - val_loss: 1.5772e-04\n",
            "Epoch 88/100\n",
            "15/15 [==============================] - 1s 73ms/step - loss: 1.1041e-04 - val_loss: 1.4162e-04\n",
            "Epoch 89/100\n",
            "15/15 [==============================] - 1s 72ms/step - loss: 1.0869e-04 - val_loss: 2.4986e-04\n",
            "Epoch 90/100\n",
            "15/15 [==============================] - 1s 72ms/step - loss: 1.2065e-04 - val_loss: 2.1045e-04\n",
            "Epoch 91/100\n",
            "15/15 [==============================] - 1s 73ms/step - loss: 1.0925e-04 - val_loss: 1.1749e-04\n",
            "Epoch 92/100\n",
            "15/15 [==============================] - 1s 74ms/step - loss: 1.0987e-04 - val_loss: 6.4162e-05\n",
            "Epoch 93/100\n",
            "15/15 [==============================] - 1s 72ms/step - loss: 1.3120e-04 - val_loss: 4.4920e-04\n",
            "Epoch 94/100\n",
            "15/15 [==============================] - 1s 73ms/step - loss: 1.0803e-04 - val_loss: 1.4673e-04\n",
            "Epoch 95/100\n",
            "15/15 [==============================] - 1s 72ms/step - loss: 1.0345e-04 - val_loss: 1.0271e-04\n",
            "Epoch 96/100\n",
            "15/15 [==============================] - 1s 73ms/step - loss: 1.0204e-04 - val_loss: 1.2521e-04\n",
            "Epoch 97/100\n",
            "15/15 [==============================] - 1s 74ms/step - loss: 1.0836e-04 - val_loss: 1.7768e-04\n",
            "Epoch 98/100\n",
            "15/15 [==============================] - 1s 73ms/step - loss: 1.0878e-04 - val_loss: 1.3857e-04\n",
            "Epoch 99/100\n",
            "15/15 [==============================] - 1s 73ms/step - loss: 9.8399e-05 - val_loss: 2.5666e-04\n",
            "Epoch 100/100\n",
            "15/15 [==============================] - 1s 73ms/step - loss: 1.0959e-04 - val_loss: 3.5131e-04\n"
          ]
        }
      ]
    },
    {
      "cell_type": "markdown",
      "source": [
        "plotting the results"
      ],
      "metadata": {
        "id": "iuVEwkUdlAzI"
      }
    },
    {
      "cell_type": "code",
      "source": [
        "plt.plot(model_history.history['loss'])\n",
        "plt.plot(model_history.history['val_loss'])\n",
        "plt.title('model loss')\n",
        "plt.ylabel('loss')\n",
        "plt.xlabel('epoch')\n",
        "plt.legend(['train', 'test'], loc='upper left')\n",
        "plt.show()"
      ],
      "metadata": {
        "colab": {
          "base_uri": "https://localhost:8080/",
          "height": 295
        },
        "id": "fESlO4HEYmpC",
        "outputId": "66111839-3622-4f34-f9d4-f47ba3068ec0"
      },
      "execution_count": 33,
      "outputs": [
        {
          "output_type": "display_data",
          "data": {
            "text/plain": [
              "<Figure size 432x288 with 1 Axes>"
            ],
            "image/png": "[encoded data removed]"
          },
          "metadata": {
            "needs_background": "light"
          }
        }
      ]
    },
    {
      "cell_type": "markdown",
      "source": [
        "test the model"
      ],
      "metadata": {
        "id": "S8W2EwLxlEYW"
      }
    },
    {
      "cell_type": "code",
      "source": [
        "train_predict=model.predict(X_train)\n",
        "val_predict=model.predict(X_val)\n",
        "test_predict=model.predict(X_test)"
      ],
      "metadata": {
        "id": "UPkKjl6jdhzL"
      },
      "execution_count": 35,
      "outputs": []
    },
    {
      "cell_type": "code",
      "source": [
        "train_predict=scaler.inverse_transform(train_predict)\n",
        "val_predict=scaler.inverse_transform(val_predict)\n",
        "test_predict=scaler.inverse_transform(test_predict)"
      ],
      "metadata": {
        "id": "Y4MX-d7edy2x"
      },
      "execution_count": 36,
      "outputs": []
    },
    {
      "cell_type": "code",
      "source": [
        "from sklearn.metrics import mean_squared_error\n",
        "import math\n",
        "math.sqrt(mean_squared_error(y_train,train_predict))"
      ],
      "metadata": {
        "colab": {
          "base_uri": "https://localhost:8080/"
        },
        "id": "PeUE6YuHeDf7",
        "outputId": "7b676fb8-8758-4090-9bd2-503025908469"
      },
      "execution_count": 39,
      "outputs": [
        {
          "output_type": "execute_result",
          "data": {
            "text/plain": [
              "5076.029474340413"
            ]
          },
          "metadata": {},
          "execution_count": 39
        }
      ]
    },
    {
      "cell_type": "code",
      "source": [
        "math.sqrt(mean_squared_error(ytest,test_predict))"
      ],
      "metadata": {
        "colab": {
          "base_uri": "https://localhost:8080/"
        },
        "id": "1diicZhYeGne",
        "outputId": "ae6be2fd-9947-477a-fb85-f98b31922ef5"
      },
      "execution_count": 41,
      "outputs": [
        {
          "output_type": "execute_result",
          "data": {
            "text/plain": [
              "7555.715889728778"
            ]
          },
          "metadata": {},
          "execution_count": 41
        }
      ]
    },
    {
      "cell_type": "markdown",
      "source": [
        "plot the testing results(the blue is the entire data ,the orange is the predicted training data, the green is the preducted validation data and the red is the predicted test data) "
      ],
      "metadata": {
        "id": "dTyAv0DulI5r"
      }
    },
    {
      "cell_type": "code",
      "source": [
        "look_back=100\n",
        "trainPredictPlot = np.empty_like(data_sc)\n",
        "trainPredictPlot[:, :] = np.nan\n",
        "trainPredictPlot[look_back:len(train_predict)+look_back, :] = train_predict\n",
        "valPredictPlot = np.empty_like(data_sc)\n",
        "valPredictPlot[:, :] = np.nan\n",
        "valPredictPlot[len(train_predict)+(look_back*2)+1:len(train_predict)+len(val_predict)+(look_back*2)+1, :] = val_predict\n",
        "testPredictPlot = np.empty_like(data_sc)\n",
        "testPredictPlot[:, :] = np.nan\n",
        "testPredictPlot[len(train_predict)+len(val_predict)+(look_back*3)+1:len(data_sc)-2, :] = test_predict\n",
        "plt.plot(scaler.inverse_transform(data_sc))\n",
        "plt.plot(trainPredictPlot)\n",
        "plt.plot(valPredictPlot)\n",
        "plt.plot(testPredictPlot)\n",
        "plt.show()"
      ],
      "metadata": {
        "colab": {
          "base_uri": "https://localhost:8080/",
          "height": 265
        },
        "id": "uB7oJJoVeTix",
        "outputId": "554cab52-f073-4096-b316-c477109e48cd"
      },
      "execution_count": 54,
      "outputs": [
        {
          "output_type": "display_data",
          "data": {
            "text/plain": [
              "<Figure size 432x288 with 1 Axes>"
            ],
            "image/png": "[encoded data removed]"
          },
          "metadata": {
            "needs_background": "light"
          }
        }
      ]
    },
    {
      "cell_type": "markdown",
      "source": [
        "save the model"
      ],
      "metadata": {
        "id": "3StGlbcqlMp1"
      }
    },
    {
      "cell_type": "code",
      "source": [
        "model.save(\"model.h5\")"
      ],
      "metadata": {
        "id": "wT-yuTChesOl"
      },
      "execution_count": 55,
      "outputs": []
    }
  ]
}